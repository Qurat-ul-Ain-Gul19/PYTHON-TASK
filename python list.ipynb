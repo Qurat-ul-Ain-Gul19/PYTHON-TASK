{
 "cells": [
  {
   "cell_type": "code",
   "execution_count": 35,
   "metadata": {},
   "outputs": [
    {
     "name": "stdout",
     "output_type": "stream",
     "text": [
      "['mond', 'tuse', 'wed', 'thurs', 'frid']\n",
      "['sund', 'mond', 'tuse', 'wed']\n",
      "wed\n",
      "tuse\n",
      "['sund', 'mond', 'tuse', 'wed']\n",
      "['sund', 'mond', 'tuse', 'wed', 'chawal']\n",
      "['sund', 'mond', 'wed']\n",
      "[]\n"
     ]
    }
   ],
   "source": [
    "list=[\"mond\",\"tuse\",\"wed\",\"thurs\"]\n",
    "list.append(\"frid\")\n",
    "print(list)\n",
    "list.insert(0,\"sund\")\n",
    "list.remove(\"thurs\")\n",
    "list.pop(4)\n",
    "print(list)\n",
    "print(list[-1])\n",
    "print(list[2])\n",
    "mylist=list.copy()\n",
    "print(mylist)\n",
    "mylist.append(\"chawal\")\n",
    "print(mylist)\n",
    "del mylist\n",
    "del list[2]\n",
    "print(list)\n",
    "list.clear()\n",
    "print(list)"
   ]
  },
  {
   "cell_type": "code",
   "execution_count": null,
   "metadata": {},
   "outputs": [],
   "source": []
  }
 ],
 "metadata": {
  "kernelspec": {
   "display_name": "Python 3",
   "language": "python",
   "name": "python3"
  },
  "language_info": {
   "codemirror_mode": {
    "name": "ipython",
    "version": 3
   },
   "file_extension": ".py",
   "mimetype": "text/x-python",
   "name": "python",
   "nbconvert_exporter": "python",
   "pygments_lexer": "ipython3",
   "version": "3.7.3"
  }
 },
 "nbformat": 4,
 "nbformat_minor": 2
}
