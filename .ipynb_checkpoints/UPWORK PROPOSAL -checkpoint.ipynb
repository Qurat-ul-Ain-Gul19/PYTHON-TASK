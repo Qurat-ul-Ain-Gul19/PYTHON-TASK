{
 "cells": [
  {
   "cell_type": "markdown",
   "metadata": {},
   "source": [
    "# PROFILE MAKING ON UPWORK"
   ]
  },
  {
   "cell_type": "code",
   "execution_count": null,
   "metadata": {},
   "outputs": [],
   "source": [
    "1.proposal\n",
    "2.start your proposal with decompression zone.\n",
    "give some space to the other person\n",
    "speaking...giving choice\n",
    "listening and observation \n",
    "2.AVOID HYBRID PROPOSAL....\n",
    "YOUR PROSOAL SHOULD BE CUSTOMISED\n",
    "specific for the customer\n",
    "cost incurred to send proposal to the client\n"
   ]
  },
  {
   "cell_type": "code",
   "execution_count": null,
   "metadata": {},
   "outputs": [],
   "source": [
    "3.offer a helpful suggestion right in the cover letter\n",
    "4.be a drug to addicts\n",
    "offer a helpful suggestion to the client\n",
    "5.dont bury the lead\n",
    "DONT TELL,JUST SHOW\n",
    "5.Show an example of similar work(even if you're new brand)\n",
    "show resemblance of ur past work to clients task.\n",
    "6.Find common ground\n",
    "same intrest,same country....helps in effective communication\n",
    "7.Become a screening question..\"smuggler\"\n",
    "asnswer additional questiong\n",
    "8.End your cover letter with a call to action\n",
    "lets talk more about task on skype....conversation..u can further get details from me\n",
    "                                   "
   ]
  },
  {
   "cell_type": "code",
   "execution_count": null,
   "metadata": {},
   "outputs": [],
   "source": [
    "9.Dont sell urself short\n",
    "sometimes cliemt himself doesnt know ,how much task will cost so must ve set in accordance with task"
   ]
  },
  {
   "cell_type": "code",
   "execution_count": null,
   "metadata": {},
   "outputs": [],
   "source": [
    "10.call him by his name"
   ]
  },
  {
   "cell_type": "code",
   "execution_count": null,
   "metadata": {},
   "outputs": [],
   "source": [
    "11.Dont be a window\n",
    "dont show ur frusartion in the cover letter"
   ]
  },
  {
   "cell_type": "code",
   "execution_count": null,
   "metadata": {},
   "outputs": [],
   "source": [
    "12.one word=1 year\n",
    "write imp words..no praise...\n",
    "consiseness...brevity\n",
    "convincing words in start"
   ]
  },
  {
   "cell_type": "code",
   "execution_count": null,
   "metadata": {},
   "outputs": [],
   "source": [
    "13.threat your client\n",
    "we do things for two reasons\n",
    "gain getting\n",
    "preventing damage\n",
    "\"THE BIGGEST ADVANTAGE....\"\n",
    "IF WE DO THEN THIS ADV...OBAMA\n",
    "IF WE DONT DO THEN THIS WILL HAPPPEN...TRUMP"
   ]
  },
  {
   "cell_type": "code",
   "execution_count": null,
   "metadata": {},
   "outputs": [],
   "source": [
    "SAMPLLE\n",
    "HI...UR WORK IS INTRESTING....AS FAR I UNDERSTAND...YOU NEED///(HI REQUIREMENTS REWRITE)\n",
    "He approached me on linkdlin..\n",
    "i did similar work\n",
    "\n",
    "if dont opt me then these misatkes...\n",
    "will you be available for 5 min..call on skype"
   ]
  },
  {
   "cell_type": "code",
   "execution_count": null,
   "metadata": {},
   "outputs": [],
   "source": [
    "this is what i have done\n",
    "this is how many years of experirence i have\n",
    "me me me"
   ]
  },
  {
   "cell_type": "code",
   "execution_count": null,
   "metadata": {},
   "outputs": [],
   "source": [
    "CUSTOMISED ...FOR CLIENT"
   ]
  },
  {
   "cell_type": "code",
   "execution_count": null,
   "metadata": {},
   "outputs": [],
   "source": [
    "dont show ur experiences\n",
    "tell him what he needs."
   ]
  },
  {
   "cell_type": "code",
   "execution_count": null,
   "metadata": {},
   "outputs": [],
   "source": [
    "due to security issues..i cant sent you"
   ]
  }
 ],
 "metadata": {
  "kernelspec": {
   "display_name": "Python 3",
   "language": "python",
   "name": "python3"
  },
  "language_info": {
   "codemirror_mode": {
    "name": "ipython",
    "version": 3
   },
   "file_extension": ".py",
   "mimetype": "text/x-python",
   "name": "python",
   "nbconvert_exporter": "python",
   "pygments_lexer": "ipython3",
   "version": "3.7.3"
  }
 },
 "nbformat": 4,
 "nbformat_minor": 2
}
