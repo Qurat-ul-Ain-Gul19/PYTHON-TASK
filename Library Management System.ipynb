{
 "cells": [
  {
   "cell_type": "code",
   "execution_count": 3,
   "metadata": {},
   "outputs": [],
   "source": [
    "import sys\n",
    "\n",
    "class Library:\n",
    "      def _init_ ( self , list_of_books ):\n",
    "            self.available_books=list_of_books\n",
    "\n",
    "      def displayAvailablebooks(self):\n",
    "                   print(\"The books we have in our library are as follows:\")\n",
    "                   print(\"================================\")\n",
    "                   for book in self.available_books:\n",
    "                         print(book)\n",
    "                            \n",
    "      def lendBook(self,requested_Book):\n",
    "            if requested_Book in self.available_books:\n",
    "                  print(\"The book you requested has now been borrowed\")\n",
    "                  self.available_books.remove(requested_Book)\n",
    "            else:\n",
    "                  print(\"Sorry the book you have requested is currently not in the library\")\n",
    "                  \n",
    "      def addBook(self,returnedBook):\n",
    "            self.available_books.append(returned_Book)\n",
    "            print(\"Thanks for returning your borrowed book\")\n",
    "            \n",
    "            \n",
    "class Student:\n",
    "      def requestBook(self):\n",
    "            print(\"Enter the name of the book you'd like to borrow>>\")\n",
    "            self.book=input()\n",
    "            return self.book\n",
    "\n",
    "      def returnBook(self):\n",
    "            print(\"Enter the name of the book you'd like to return>>\")\n",
    "            self.book=input()\n",
    "            return self.book\n",
    "\n",
    "def main():            \n",
    "      library=Library([\"The Last Battle\",\"The Screwtape letters\",\"The Great Divorce\"])\n",
    "      student=Student()\n",
    "      done=False\n",
    "      while done==False:\n",
    "            print(\"\"\" ======LIBRARY MENU=======\n",
    "                  1. Display all available books\n",
    "                  2. Request a book\n",
    "                  3. Return a book\n",
    "                  4. Exit\n",
    "                  \"\"\")\n",
    "            choice=int(input(\"Enter Choice:\"))\n",
    "            if choice==1:\n",
    "                        library.displayAvailablebooks()\n",
    "            elif choice==2:\n",
    "                        library.lendBook(student.request_Book())\n",
    "            elif choice==3:\n",
    "                        library.addBook(student.return_Book())\n",
    "            elif choice==4:\n",
    "                  sys.exit()\n",
    "                  \n",
    "\n"
   ]
  },
  {
   "cell_type": "code",
   "execution_count": null,
   "metadata": {},
   "outputs": [],
   "source": []
  }
 ],
 "metadata": {
  "kernelspec": {
   "display_name": "Python 3",
   "language": "python",
   "name": "python3"
  },
  "language_info": {
   "codemirror_mode": {
    "name": "ipython",
    "version": 3
   },
   "file_extension": ".py",
   "mimetype": "text/x-python",
   "name": "python",
   "nbconvert_exporter": "python",
   "pygments_lexer": "ipython3",
   "version": "3.7.3"
  }
 },
 "nbformat": 4,
 "nbformat_minor": 2
}
