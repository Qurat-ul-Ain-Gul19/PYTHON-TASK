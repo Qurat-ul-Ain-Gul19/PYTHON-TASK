{
 "cells": [
  {
   "cell_type": "code",
   "execution_count": 5,
   "metadata": {},
   "outputs": [
    {
     "data": {
      "text/plain": [
       "1"
      ]
     },
     "execution_count": 5,
     "metadata": {},
     "output_type": "execute_result"
    }
   ],
   "source": [
    "d={\"a\":1,\"b\":2}\n",
    "d.pop(\"a\")"
   ]
  },
  {
   "cell_type": "code",
   "execution_count": 7,
   "metadata": {},
   "outputs": [
    {
     "data": {
      "text/plain": [
       "2"
      ]
     },
     "execution_count": 7,
     "metadata": {},
     "output_type": "execute_result"
    }
   ],
   "source": [
    "d.pop(\"b\")"
   ]
  },
  {
   "cell_type": "code",
   "execution_count": 20,
   "metadata": {},
   "outputs": [
    {
     "name": "stdout",
     "output_type": "stream",
     "text": [
      "{'first name': 'Ann', 'last name': 'Sattermyer', 'address': 'PO Box 1145'}\n"
     ]
    },
    {
     "data": {
      "text/plain": [
       "[0, 1, 2]"
      ]
     },
     "execution_count": 20,
     "metadata": {},
     "output_type": "execute_result"
    }
   ],
   "source": [
    "customers = {   0: {     \n",
    "                              \"first name\":\"John\", \n",
    "                              \"last name\": \"Ogden\", \n",
    "                              \"address\": \"301 Arbor Rd.\"\n",
    "                    }, \n",
    "             \n",
    "               1: { \n",
    "                           \"first name\":\"Ann\",\n",
    "                           \"last name\": \"Sattermyer\",\n",
    "                            \"address\": \"PO Box 1145\"\n",
    "                  }, \n",
    "             \n",
    "               2: {\n",
    "                            \"first name\":\"Jill\", \n",
    "                            \"last name\": \"Somers\", \n",
    "                             \"address\": \"3 Main St.\" \n",
    "                  }, \n",
    "            } \n",
    "print(customers[1])\n",
    "list(customers)"
   ]
  },
  {
   "cell_type": "code",
   "execution_count": 40,
   "metadata": {},
   "outputs": [
    {
     "name": "stdout",
     "output_type": "stream",
     "text": [
      "The customer's first name is David\n",
      "The customer's last name is Elliott\n",
      "The customer's address is 4803 Wellesley St.\n"
     ]
    },
    {
     "ename": "TypeError",
     "evalue": "can only concatenate str (not \"list\") to str",
     "output_type": "error",
     "traceback": [
      "\u001b[1;31m---------------------------------------------------------------------------\u001b[0m",
      "\u001b[1;31mTypeError\u001b[0m                                 Traceback (most recent call last)",
      "\u001b[1;32m<ipython-input-40-092c533ef982>\u001b[0m in \u001b[0;36m<module>\u001b[1;34m\u001b[0m\n\u001b[0;32m      7\u001b[0m \u001b[1;31m#print(customer_29876[\"discounts\"])\u001b[0m\u001b[1;33m\u001b[0m\u001b[1;33m\u001b[0m\u001b[1;33m\u001b[0m\u001b[0m\n\u001b[0;32m      8\u001b[0m \u001b[1;32mfor\u001b[0m \u001b[0meach_key\u001b[0m\u001b[1;33m,\u001b[0m \u001b[0meach_value\u001b[0m \u001b[1;32min\u001b[0m \u001b[0mcustomer_29876\u001b[0m\u001b[1;33m.\u001b[0m\u001b[0mitems\u001b[0m\u001b[1;33m(\u001b[0m\u001b[1;33m)\u001b[0m\u001b[1;33m:\u001b[0m\u001b[1;33m\u001b[0m\u001b[1;33m\u001b[0m\u001b[0m\n\u001b[1;32m----> 9\u001b[1;33m     \u001b[0mprint\u001b[0m\u001b[1;33m(\u001b[0m\u001b[1;34m\"The customer's \"\u001b[0m \u001b[1;33m+\u001b[0m \u001b[0meach_key\u001b[0m \u001b[1;33m+\u001b[0m \u001b[1;34m\" is \"\u001b[0m \u001b[1;33m+\u001b[0m \u001b[0meach_value\u001b[0m\u001b[1;33m)\u001b[0m\u001b[1;33m\u001b[0m\u001b[1;33m\u001b[0m\u001b[0m\n\u001b[0m",
      "\u001b[1;31mTypeError\u001b[0m: can only concatenate str (not \"list\") to str"
     ]
    }
   ],
   "source": [
    "disc=0\n",
    "customer_29876 = {    \"first name\": \"David\", \n",
    "                      \"last name\": \"Elliott\", \n",
    "                      \"address\": \"4803 Wellesley St.\", \n",
    "                      \"discounts\": [\"standard\", \"volume\", \"loyalty\"] } \n",
    "    \n",
    "#print(customer_29876[\"discounts\"])\n",
    "for each_key, each_value in customer_29876.items(): \n",
    "    print(\"The customer's \" + each_key + \" is \" + each_value)"
   ]
  },
  {
   "cell_type": "code",
   "execution_count": 16,
   "metadata": {},
   "outputs": [],
   "source": [
    "if \"loyalty\" in customer_29876[\"discounts\"]:\n",
    "    disc=0.1\n",
    "elif \"volume\" in customer_29876[\"discounts\"]: \n",
    "    discount_amount = 0.15 \n",
    "elif \"standard\" in customer_29876[\"discounts\"]:\n",
    "    disc=0.20\n",
    "else:\n",
    "    print(\"no discounts aavaible\")"
   ]
  },
  {
   "cell_type": "code",
   "execution_count": 17,
   "metadata": {},
   "outputs": [
    {
     "name": "stdout",
     "output_type": "stream",
     "text": [
      "0.1\n"
     ]
    }
   ],
   "source": [
    "print(disc)"
   ]
  },
  {
   "cell_type": "code",
   "execution_count": 51,
   "metadata": {},
   "outputs": [
    {
     "name": "stdout",
     "output_type": "stream",
     "text": [
      "None\n",
      "{1: {'customer id': 0, 'first name': 'John', 'last name': 'Ogden', 'address': '301 Arbor Rd.'}, 2: {'customer id': 1, 'first name': 'Ann', 'last name': 'Sattermyer', 'address': 'PO Box 1145'}, 3: {'customer id': 2, 'first name': 'Jill', 'last name': 'Somers', 'address': '3 Main St.'}}\n"
     ]
    }
   ],
   "source": [
    "new_dictionary = { \"customer id\": \"new_customer_id\", \n",
    "                  \"first name\": \"new_first_name\", \n",
    "                  \"last name\": \"new_last_name\", \n",
    "                  \"address\": \"new_address\" } \n",
    "#print(list(customers))\n",
    "print(list(customers).append(new_dictionary))\n",
    "print(customers)"
   ]
  },
  {
   "cell_type": "code",
   "execution_count": 43,
   "metadata": {},
   "outputs": [],
   "source": [
    "customers = { 1:{ \"customer id\": 0, \"first name\":\"John\", \n",
    "               \"last name\": \"Ogden\", \n",
    "               \"address\": \"301 Arbor Rd.\", }, \n",
    "            2:{ \"customer id\": 1, \"first name\":\"Ann\", \n",
    "              \"last name\": \"Sattermyer\",\n",
    "              \"address\": \"PO Box 1145\", },\n",
    "             3:{ \"customer id\": 2, \"first name\":\"Jill\", \n",
    "              \"last name\": \"Somers\", \"address\": \"3 Main St.\" } \n",
    "            } "
   ]
  },
  {
   "cell_type": "code",
   "execution_count": 36,
   "metadata": {},
   "outputs": [
    {
     "data": {
      "text/plain": [
       "'PO Box 1145'"
      ]
     },
     "execution_count": 36,
     "metadata": {},
     "output_type": "execute_result"
    }
   ],
   "source": [
    "customers[2][\"address\"]"
   ]
  },
  {
   "cell_type": "code",
   "execution_count": 37,
   "metadata": {},
   "outputs": [
    {
     "data": {
      "text/plain": [
       "[{1: {'customer id': 0,\n",
       "   'first name': 'John',\n",
       "   'last name': 'Ogden',\n",
       "   'address': '301 Arbor Rd.'},\n",
       "  2: {'customer id': 1,\n",
       "   'first name': 'Ann',\n",
       "   'last name': 'Sattermyer',\n",
       "   'address': 'PO Box 1145'},\n",
       "  3: {'customer id': 2,\n",
       "   'first name': 'Jill',\n",
       "   'last name': 'Somers',\n",
       "   'address': '3 Main St.'}}]"
      ]
     },
     "execution_count": 37,
     "metadata": {},
     "output_type": "execute_result"
    }
   ],
   "source": [
    "lista=[]\n",
    "lista.append(customers)\n",
    "lista"
   ]
  },
  {
   "cell_type": "code",
   "execution_count": 48,
   "metadata": {},
   "outputs": [
    {
     "name": "stdout",
     "output_type": "stream",
     "text": [
      "customer id 1\n",
      "first name 2\n",
      "last name 3\n",
      "address 4\n"
     ]
    }
   ],
   "source": [
    "new_dictionary = { \"customer id\":1, \n",
    "                  \"first name\": 2, \n",
    "                  \"last name\": 3, \n",
    "                  \"address\": 4 }\n",
    "\n",
    "for each_key,each_value in new_dictionary.items():\n",
    "    print(each_key,each_value)"
   ]
  },
  {
   "cell_type": "code",
   "execution_count": 59,
   "metadata": {},
   "outputs": [],
   "source": [
    "d1=     {\"first name\": \"David\", \n",
    "        \"last name\": \"Elliott\", \n",
    "        \"address\": \"4803 Wellesley St.\"}\n",
    "del d1[\"last name\"]"
   ]
  },
  {
   "cell_type": "code",
   "execution_count": 60,
   "metadata": {},
   "outputs": [
    {
     "data": {
      "text/plain": [
       "{'first name': 'David', 'address': '4803 Wellesley St.'}"
      ]
     },
     "execution_count": 60,
     "metadata": {},
     "output_type": "execute_result"
    }
   ],
   "source": [
    "d1"
   ]
  },
  {
   "cell_type": "code",
   "execution_count": 61,
   "metadata": {},
   "outputs": [
    {
     "data": {
      "text/plain": [
       "{'first name': 'anie', 'address': '4803 Wellesley St.'}"
      ]
     },
     "execution_count": 61,
     "metadata": {},
     "output_type": "execute_result"
    }
   ],
   "source": [
    "d1[\"first name\"]=\"anie\"\n",
    "d1"
   ]
  },
  {
   "cell_type": "code",
   "execution_count": 62,
   "metadata": {},
   "outputs": [],
   "source": [
    "d1[1]=\"kida\""
   ]
  },
  {
   "cell_type": "code",
   "execution_count": 63,
   "metadata": {},
   "outputs": [
    {
     "data": {
      "text/plain": [
       "{'first name': 'anie', 'address': '4803 Wellesley St.', 1: 'kida'}"
      ]
     },
     "execution_count": 63,
     "metadata": {},
     "output_type": "execute_result"
    }
   ],
   "source": [
    "d1"
   ]
  },
  {
   "cell_type": "code",
   "execution_count": 67,
   "metadata": {},
   "outputs": [
    {
     "name": "stdout",
     "output_type": "stream",
     "text": [
      "Enter your city: MURREE\n",
      "murree\n"
     ]
    }
   ],
   "source": [
    "city_to_check = input(\"Enter your city: \")\n",
    "city_to_check=city_to_check.lower()\n",
    "print(city_to_check)"
   ]
  },
  {
   "cell_type": "code",
   "execution_count": 4,
   "metadata": {},
   "outputs": [
    {
     "name": "stdout",
     "output_type": "stream",
     "text": [
      "Enter your city: tucson\n"
     ]
    }
   ],
   "source": [
    "cleanest_cities = [\"cheyenne\", \"santa fe\", \"tucson\", \"great falls\", \"honolulu\"]\n",
    "city_to_check = input(\"Enter your city: \")\n",
    "city_to_check=city_to_check.title()\n",
    "for a_clean_city in cleanest_cities: \n",
    "    if city_to_check == a_clean_city: \n",
    "        print(\"It's one of the cleanest cities\")"
   ]
  },
  {
   "cell_type": "code",
   "execution_count": 5,
   "metadata": {},
   "outputs": [
    {
     "name": "stdout",
     "output_type": "stream",
     "text": [
      "Great news! Tucson is one of the cleanest cities.\n"
     ]
    }
   ],
   "source": [
    "a_clean_city=a_clean_city.title()\n",
    "print(\"Great news! \" + city_to_check + \" is one of the cleanest cities.\")"
   ]
  },
  {
   "cell_type": "code",
   "execution_count": 6,
   "metadata": {},
   "outputs": [
    {
     "name": "stdout",
     "output_type": "stream",
     "text": [
      "no of cities3\n"
     ]
    }
   ],
   "source": [
    "x=int(input(\"no of cities\"))"
   ]
  },
  {
   "cell_type": "code",
   "execution_count": 7,
   "metadata": {},
   "outputs": [],
   "source": [
    "first_names = [\"BlueRay \", \"Upchuck \", \"Lojack \", \"Gizmo \", \"Do-Rag \"] \n",
    "last_names = [\"Zzz\", \"Burp\", \"Dogbone\", \"Droop\"] \n",
    "full_names = [] \n",
    "for a_first_name in first_names: \n",
    "    for a_last_name in last_names: \n",
    "        full_names.append(a_first_name + \" \" + a_last_name)"
   ]
  },
  {
   "cell_type": "code",
   "execution_count": 8,
   "metadata": {},
   "outputs": [
    {
     "data": {
      "text/plain": [
       "['BlueRay  Zzz',\n",
       " 'BlueRay  Burp',\n",
       " 'BlueRay  Dogbone',\n",
       " 'BlueRay  Droop',\n",
       " 'Upchuck  Zzz',\n",
       " 'Upchuck  Burp',\n",
       " 'Upchuck  Dogbone',\n",
       " 'Upchuck  Droop',\n",
       " 'Lojack  Zzz',\n",
       " 'Lojack  Burp',\n",
       " 'Lojack  Dogbone',\n",
       " 'Lojack  Droop',\n",
       " 'Gizmo  Zzz',\n",
       " 'Gizmo  Burp',\n",
       " 'Gizmo  Dogbone',\n",
       " 'Gizmo  Droop',\n",
       " 'Do-Rag  Zzz',\n",
       " 'Do-Rag  Burp',\n",
       " 'Do-Rag  Dogbone',\n",
       " 'Do-Rag  Droop']"
      ]
     },
     "execution_count": 8,
     "metadata": {},
     "output_type": "execute_result"
    }
   ],
   "source": [
    "full_names"
   ]
  },
  {
   "cell_type": "code",
   "execution_count": 9,
   "metadata": {},
   "outputs": [
    {
     "data": {
      "text/plain": [
       "'Pennsylvania'"
      ]
     },
     "execution_count": 9,
     "metadata": {},
     "output_type": "execute_result"
    }
   ],
   "source": [
    "states= (\"Delaware\", \"Pennsylvania\", \"New Jersey\", \"Georgia\")\n",
    "states[1]\n",
    "                               "
   ]
  },
  {
   "cell_type": "code",
   "execution_count": 11,
   "metadata": {},
   "outputs": [],
   "source": [
    "tasks=[\"eat\",\"sleep\",\"study\"]\n",
    "task_accomplished=[]\n",
    "task_accomplished.append(tasks.pop(1))"
   ]
  },
  {
   "cell_type": "code",
   "execution_count": 12,
   "metadata": {},
   "outputs": [
    {
     "data": {
      "text/plain": [
       "['sleep']"
      ]
     },
     "execution_count": 12,
     "metadata": {},
     "output_type": "execute_result"
    }
   ],
   "source": [
    "task_accomplished"
   ]
  },
  {
   "cell_type": "code",
   "execution_count": 13,
   "metadata": {},
   "outputs": [
    {
     "data": {
      "text/plain": [
       "['eat', 'study']"
      ]
     },
     "execution_count": 13,
     "metadata": {},
     "output_type": "execute_result"
    }
   ],
   "source": [
    "tasks"
   ]
  },
  {
   "cell_type": "code",
   "execution_count": 14,
   "metadata": {},
   "outputs": [
    {
     "data": {
      "text/plain": [
       "['sleep', 'study']"
      ]
     },
     "execution_count": 14,
     "metadata": {},
     "output_type": "execute_result"
    }
   ],
   "source": [
    "task_accomplished.insert(1,tasks.pop(1))\n",
    "task_accomplished"
   ]
  },
  {
   "cell_type": "code",
   "execution_count": 16,
   "metadata": {},
   "outputs": [],
   "source": [
    "del tasks[0]"
   ]
  },
  {
   "cell_type": "code",
   "execution_count": 18,
   "metadata": {},
   "outputs": [
    {
     "data": {
      "text/plain": [
       "['eat', 'study']"
      ]
     },
     "execution_count": 18,
     "metadata": {},
     "output_type": "execute_result"
    }
   ],
   "source": [
    "tasks=[\"eat\",\"sleep\",\"study\"]\n",
    "tasks.remove(\"sleep\")\n",
    "tasks"
   ]
  },
  {
   "cell_type": "code",
   "execution_count": 19,
   "metadata": {},
   "outputs": [],
   "source": [
    "tasks.remove(\"study\")"
   ]
  },
  {
   "cell_type": "code",
   "execution_count": 20,
   "metadata": {},
   "outputs": [
    {
     "data": {
      "text/plain": [
       "['eat']"
      ]
     },
     "execution_count": 20,
     "metadata": {},
     "output_type": "execute_result"
    }
   ],
   "source": [
    "tasks"
   ]
  },
  {
   "cell_type": "code",
   "execution_count": 21,
   "metadata": {},
   "outputs": [
    {
     "data": {
      "text/plain": [
       "['b', 'c', 'd']"
      ]
     },
     "execution_count": 21,
     "metadata": {},
     "output_type": "execute_result"
    }
   ],
   "source": [
    "cities=[\"a\",\"b\",\"c\",\"d\",\"e\",\"f\",\"g\"]\n",
    "new_cities=cities[1:4]\n",
    "new_cities"
   ]
  },
  {
   "cell_type": "code",
   "execution_count": 22,
   "metadata": {},
   "outputs": [
    {
     "data": {
      "text/plain": [
       "['a', 'b', 'c', 'd', 'e', 'f', 'g']"
      ]
     },
     "execution_count": 22,
     "metadata": {},
     "output_type": "execute_result"
    }
   ],
   "source": [
    "cities[:7]"
   ]
  },
  {
   "cell_type": "code",
   "execution_count": 24,
   "metadata": {},
   "outputs": [
    {
     "data": {
      "text/plain": [
       "['a', 'c', 'e', 'g']"
      ]
     },
     "execution_count": 24,
     "metadata": {},
     "output_type": "execute_result"
    }
   ],
   "source": [
    "cities[0:7:2]"
   ]
  },
  {
   "cell_type": "code",
   "execution_count": 26,
   "metadata": {},
   "outputs": [
    {
     "data": {
      "text/plain": [
       "[]"
      ]
     },
     "execution_count": 26,
     "metadata": {},
     "output_type": "execute_result"
    }
   ],
   "source": [
    "cities[-1:-7]"
   ]
  },
  {
   "cell_type": "code",
   "execution_count": 27,
   "metadata": {},
   "outputs": [
    {
     "data": {
      "text/plain": [
       "[]"
      ]
     },
     "execution_count": 27,
     "metadata": {},
     "output_type": "execute_result"
    }
   ],
   "source": [
    "cities[-1:0]"
   ]
  },
  {
   "cell_type": "code",
   "execution_count": 29,
   "metadata": {},
   "outputs": [
    {
     "data": {
      "text/plain": [
       "['b', 'c', 'd', 'e', 'f']"
      ]
     },
     "execution_count": 29,
     "metadata": {},
     "output_type": "execute_result"
    }
   ],
   "source": [
    "cities[1:-1]"
   ]
  },
  {
   "cell_type": "code",
   "execution_count": 33,
   "metadata": {},
   "outputs": [
    {
     "data": {
      "text/plain": [
       "['a', 'b', 'c', 'd', 'e']"
      ]
     },
     "execution_count": 33,
     "metadata": {},
     "output_type": "execute_result"
    }
   ],
   "source": [
    "cities[0:-2]"
   ]
  },
  {
   "cell_type": "code",
   "execution_count": 35,
   "metadata": {},
   "outputs": [
    {
     "data": {
      "text/plain": [
       "['g', 'f', 'e', 'd', 'c', 'b', 'a']"
      ]
     },
     "execution_count": 35,
     "metadata": {},
     "output_type": "execute_result"
    }
   ],
   "source": [
    "cities[-1:-8:-1]"
   ]
  },
  {
   "cell_type": "code",
   "execution_count": 36,
   "metadata": {},
   "outputs": [
    {
     "data": {
      "text/plain": [
       "['g', 'e', 'c', 'a']"
      ]
     },
     "execution_count": 36,
     "metadata": {},
     "output_type": "execute_result"
    }
   ],
   "source": [
    "cities[-1:-8:-2]"
   ]
  },
  {
   "cell_type": "code",
   "execution_count": 47,
   "metadata": {},
   "outputs": [
    {
     "name": "stdout",
     "output_type": "stream",
     "text": [
      "None\n"
     ]
    }
   ],
   "source": [
    "cities=cities + [\"x\" ,\"y\" ,\"z\"]\n",
    "cities.append(\"django\")"
   ]
  },
  {
   "cell_type": "code",
   "execution_count": 49,
   "metadata": {},
   "outputs": [],
   "source": [
    "cities.insert(0,\"new york\")"
   ]
  },
  {
   "cell_type": "code",
   "execution_count": 58,
   "metadata": {},
   "outputs": [],
   "source": [
    "cities[10]=\"pakiss\"\n"
   ]
  },
  {
   "cell_type": "code",
   "execution_count": 61,
   "metadata": {},
   "outputs": [
    {
     "name": "stdout",
     "output_type": "stream",
     "text": [
      "nope\n"
     ]
    }
   ],
   "source": [
    "if \"a\"==\"A\":\n",
    "    print(\"yesh \")\n",
    "else:\n",
    "    print(\"nope\")"
   ]
  },
  {
   "cell_type": "code",
   "execution_count": 62,
   "metadata": {},
   "outputs": [
    {
     "name": "stdout",
     "output_type": "stream",
     "text": [
      "condfresh\n",
      "fillingchoclate\n",
      "15\n"
     ]
    }
   ],
   "source": [
    "score=0\n",
    "cond=input(\"cond\")\n",
    "filling=input(\"filling\")\n",
    "if cond==\"fresh\":\n",
    "    score+=10\n",
    "if filling==\"choclate\":\n",
    "    score+=5\n",
    "print(score)"
   ]
  },
  {
   "cell_type": "code",
   "execution_count": 63,
   "metadata": {},
   "outputs": [
    {
     "data": {
      "text/plain": [
       "'helloworld'"
      ]
     },
     "execution_count": 63,
     "metadata": {},
     "output_type": "execute_result"
    }
   ],
   "source": [
    "a=\"hello\"\n",
    "b=\"world\"\n",
    "c=a+b\n",
    "c"
   ]
  },
  {
   "cell_type": "code",
   "execution_count": 70,
   "metadata": {},
   "outputs": [],
   "source": [
    "result_of_computation = (-2 * 4) + (4 + 2) "
   ]
  },
  {
   "cell_type": "code",
   "execution_count": 71,
   "metadata": {},
   "outputs": [
    {
     "data": {
      "text/plain": [
       "-2"
      ]
     },
     "execution_count": 71,
     "metadata": {},
     "output_type": "execute_result"
    }
   ],
   "source": [
    "result_of_computation"
   ]
  },
  {
   "cell_type": "code",
   "execution_count": 72,
   "metadata": {},
   "outputs": [
    {
     "ename": "TypeError",
     "evalue": "list indices must be integers or slices, not str",
     "output_type": "error",
     "traceback": [
      "\u001b[1;31m---------------------------------------------------------------------------\u001b[0m",
      "\u001b[1;31mTypeError\u001b[0m                                 Traceback (most recent call last)",
      "\u001b[1;32m<ipython-input-72-1e4628dde1af>\u001b[0m in \u001b[0;36m<module>\u001b[1;34m\u001b[0m\n\u001b[0;32m      2\u001b[0m \u001b[0mx\u001b[0m\u001b[1;33m=\u001b[0m\u001b[1;33m{\u001b[0m\u001b[1;34m\"a\"\u001b[0m\u001b[1;33m:\u001b[0m\u001b[1;36m1\u001b[0m\u001b[1;33m,\u001b[0m\u001b[1;34m\"b\"\u001b[0m\u001b[1;33m:\u001b[0m\u001b[1;36m2\u001b[0m\u001b[1;33m}\u001b[0m\u001b[1;33m\u001b[0m\u001b[1;33m\u001b[0m\u001b[0m\n\u001b[0;32m      3\u001b[0m \u001b[1;32mfor\u001b[0m \u001b[0mi\u001b[0m \u001b[1;32min\u001b[0m \u001b[0mx\u001b[0m\u001b[1;33m.\u001b[0m\u001b[0mkeys\u001b[0m\u001b[1;33m(\u001b[0m\u001b[1;33m)\u001b[0m\u001b[1;33m:\u001b[0m\u001b[1;33m\u001b[0m\u001b[1;33m\u001b[0m\u001b[0m\n\u001b[1;32m----> 4\u001b[1;33m     \u001b[0my\u001b[0m\u001b[1;33m[\u001b[0m\u001b[0mi\u001b[0m\u001b[1;33m]\u001b[0m\u001b[1;33m=\u001b[0m\u001b[0mx\u001b[0m\u001b[1;33m[\u001b[0m\u001b[0mi\u001b[0m\u001b[1;33m]\u001b[0m\u001b[1;33m\u001b[0m\u001b[1;33m\u001b[0m\u001b[0m\n\u001b[0m\u001b[0;32m      5\u001b[0m \u001b[0my\u001b[0m\u001b[1;33m\u001b[0m\u001b[1;33m\u001b[0m\u001b[0m\n",
      "\u001b[1;31mTypeError\u001b[0m: list indices must be integers or slices, not str"
     ]
    }
   ],
   "source": [
    "y=[]\n",
    "x={\"a\":1,\"b\":2}\n",
    "for i in x.keys():\n",
    "    y[i]=x[i]\n",
    "y"
   ]
  },
  {
   "cell_type": "code",
   "execution_count": 75,
   "metadata": {},
   "outputs": [],
   "source": [
    "d1={\"ab\":11,\"ac\":22}\n",
    "d1.clear()"
   ]
  },
  {
   "cell_type": "code",
   "execution_count": 73,
   "metadata": {},
   "outputs": [
    {
     "name": "stdout",
     "output_type": "stream",
     "text": [
      "{'a': 1, 'b': 2, 'c': 3}\n"
     ]
    }
   ],
   "source": [
    "d={}\n",
    "d[\"a\"]=1\n",
    "d[\"b\"]=2\n",
    "d[\"c\"]=3\n",
    "print(d)"
   ]
  },
  {
   "cell_type": "code",
   "execution_count": 76,
   "metadata": {},
   "outputs": [
    {
     "data": {
      "text/plain": [
       "{}"
      ]
     },
     "execution_count": 76,
     "metadata": {},
     "output_type": "execute_result"
    }
   ],
   "source": [
    "d1"
   ]
  },
  {
   "cell_type": "code",
   "execution_count": 77,
   "metadata": {},
   "outputs": [],
   "source": [
    "d1=d.copy()"
   ]
  },
  {
   "cell_type": "code",
   "execution_count": 78,
   "metadata": {},
   "outputs": [
    {
     "data": {
      "text/plain": [
       "{'a': 1, 'b': 2, 'c': 3}"
      ]
     },
     "execution_count": 78,
     "metadata": {},
     "output_type": "execute_result"
    }
   ],
   "source": [
    "d1"
   ]
  },
  {
   "cell_type": "code",
   "execution_count": 79,
   "metadata": {},
   "outputs": [
    {
     "data": {
      "text/plain": [
       "{'a': 33, 'b': 2, 'c': 3}"
      ]
     },
     "execution_count": 79,
     "metadata": {},
     "output_type": "execute_result"
    }
   ],
   "source": [
    "d1[\"a\"]=33\n",
    "d1"
   ]
  },
  {
   "cell_type": "code",
   "execution_count": 80,
   "metadata": {},
   "outputs": [
    {
     "data": {
      "text/plain": [
       "{'a': 1, 'b': 2, 'c': 3}"
      ]
     },
     "execution_count": 80,
     "metadata": {},
     "output_type": "execute_result"
    }
   ],
   "source": [
    "d"
   ]
  },
  {
   "cell_type": "code",
   "execution_count": 81,
   "metadata": {},
   "outputs": [
    {
     "data": {
      "text/plain": [
       "{1: None, 2: None, 3: None}"
      ]
     },
     "execution_count": 81,
     "metadata": {},
     "output_type": "execute_result"
    }
   ],
   "source": [
    "dic={}\n",
    "dic[1]=None\n",
    "dic[2]=None\n",
    "dic[3]=None\n",
    "dic"
   ]
  },
  {
   "cell_type": "code",
   "execution_count": 82,
   "metadata": {},
   "outputs": [
    {
     "data": {
      "text/plain": [
       "{'heloo': None, 'janifer': None, 'coming': None, 'yes': None}"
      ]
     },
     "execution_count": 82,
     "metadata": {},
     "output_type": "execute_result"
    }
   ],
   "source": [
    "lista=[\"heloo\",\"janifer\",\"coming\",\"yes\"]\n",
    "d2=dict.fromkeys(lista)\n",
    "d2\n"
   ]
  },
  {
   "cell_type": "code",
   "execution_count": 84,
   "metadata": {},
   "outputs": [
    {
     "name": "stdout",
     "output_type": "stream",
     "text": [
      "enter values fora,b,c\n"
     ]
    },
    {
     "data": {
      "text/plain": [
       "{'a': 'None', 'b': 'None', 'c': 'None'}"
      ]
     },
     "execution_count": 84,
     "metadata": {},
     "output_type": "execute_result"
    }
   ],
   "source": [
    "keys=input(\"enter values for\").split(\",\")\n",
    "dicta=dict.fromkeys(keys,\"None\")\n",
    "dicta"
   ]
  },
  {
   "cell_type": "code",
   "execution_count": 87,
   "metadata": {},
   "outputs": [
    {
     "name": "stdout",
     "output_type": "stream",
     "text": [
      "enter values fora,b,c,d\n"
     ]
    },
    {
     "data": {
      "text/plain": [
       "{'a': 4, 'b': 4, 'c': 4, 'd': 4}"
      ]
     },
     "execution_count": 87,
     "metadata": {},
     "output_type": "execute_result"
    }
   ],
   "source": [
    "keys=input(\"enter values for\").split(\",\")\n",
    "a_dict=dict.fromkeys(keys,\"None\")\n",
    "x=[1,2,3,4]\n",
    "for i in x[0:4]:\n",
    "    a_dict=dict.fromkeys(keys,i)\n",
    "a_dict"
   ]
  },
  {
   "cell_type": "code",
   "execution_count": 102,
   "metadata": {},
   "outputs": [
    {
     "data": {
      "text/plain": [
       "{'a1': 1, 'a2': 2, 'a3': 3, 'a4': 4}"
      ]
     },
     "execution_count": 102,
     "metadata": {},
     "output_type": "execute_result"
    }
   ],
   "source": [
    "a=[\"a1\",\"a2\",\"a3\",\"a4\"]\n",
    "b=[1,2,3,4]\n",
    "dc=zip(a,b)\n",
    "dc\n",
    "d=dict(dc)\n",
    "d"
   ]
  },
  {
   "cell_type": "code",
   "execution_count": 103,
   "metadata": {},
   "outputs": [
    {
     "name": "stdout",
     "output_type": "stream",
     "text": [
      "a,b,c,d\n",
      "1,2,3,4\n"
     ]
    },
    {
     "data": {
      "text/plain": [
       "{'a': '1', ',': ',', 'b': '2', 'c': '3', 'd': '4'}"
      ]
     },
     "execution_count": 103,
     "metadata": {},
     "output_type": "execute_result"
    }
   ],
   "source": [
    "a=input()\n",
    "b=input()\n",
    "c=zip(a,b)\n",
    "d2=dict(c)\n",
    "d2"
   ]
  },
  {
   "cell_type": "code",
   "execution_count": 106,
   "metadata": {},
   "outputs": [
    {
     "name": "stdout",
     "output_type": "stream",
     "text": [
      "None\n"
     ]
    }
   ],
   "source": [
    "print(d2.get(\"z\"))"
   ]
  },
  {
   "cell_type": "code",
   "execution_count": 107,
   "metadata": {},
   "outputs": [
    {
     "name": "stdout",
     "output_type": "stream",
     "text": [
      "1\n"
     ]
    }
   ],
   "source": [
    "print(d2.get(\"a\"))"
   ]
  },
  {
   "cell_type": "code",
   "execution_count": 109,
   "metadata": {},
   "outputs": [
    {
     "name": "stdout",
     "output_type": "stream",
     "text": [
      "2\n"
     ]
    }
   ],
   "source": [
    "print(d2.get(\"b\",\"this value not there\"))"
   ]
  },
  {
   "cell_type": "code",
   "execution_count": 110,
   "metadata": {},
   "outputs": [
    {
     "data": {
      "text/plain": [
       "dict_items([('a', '1'), (',', ','), ('b', '2'), ('c', '3'), ('d', '4')])"
      ]
     },
     "execution_count": 110,
     "metadata": {},
     "output_type": "execute_result"
    }
   ],
   "source": [
    "d2.items()"
   ]
  },
  {
   "cell_type": "code",
   "execution_count": 111,
   "metadata": {},
   "outputs": [
    {
     "data": {
      "text/plain": [
       "dict_values(['1', ',', '2', '3', '4'])"
      ]
     },
     "execution_count": 111,
     "metadata": {},
     "output_type": "execute_result"
    }
   ],
   "source": [
    "d2.values()"
   ]
  },
  {
   "cell_type": "code",
   "execution_count": 112,
   "metadata": {},
   "outputs": [
    {
     "data": {
      "text/plain": [
       "'4'"
      ]
     },
     "execution_count": 112,
     "metadata": {},
     "output_type": "execute_result"
    }
   ],
   "source": [
    "d2.pop(\"d\")"
   ]
  },
  {
   "cell_type": "code",
   "execution_count": 115,
   "metadata": {},
   "outputs": [
    {
     "name": "stdout",
     "output_type": "stream",
     "text": [
      "('b', '2')\n"
     ]
    }
   ],
   "source": [
    "print(d2.popitem())"
   ]
  },
  {
   "cell_type": "code",
   "execution_count": 116,
   "metadata": {},
   "outputs": [
    {
     "name": "stdout",
     "output_type": "stream",
     "text": [
      "dict_items([('a', '1'), (',', ',')])\n"
     ]
    }
   ],
   "source": [
    "print(d2.items())"
   ]
  },
  {
   "cell_type": "code",
   "execution_count": 117,
   "metadata": {},
   "outputs": [
    {
     "data": {
      "text/plain": [
       "dict_values(['1', ','])"
      ]
     },
     "execution_count": 117,
     "metadata": {},
     "output_type": "execute_result"
    }
   ],
   "source": [
    "d2.values()"
   ]
  },
  {
   "cell_type": "code",
   "execution_count": 118,
   "metadata": {},
   "outputs": [
    {
     "data": {
      "text/plain": [
       "dict_keys(['a', ','])"
      ]
     },
     "execution_count": 118,
     "metadata": {},
     "output_type": "execute_result"
    }
   ],
   "source": [
    "d2.keys()"
   ]
  },
  {
   "cell_type": "code",
   "execution_count": 120,
   "metadata": {},
   "outputs": [
    {
     "name": "stdout",
     "output_type": "stream",
     "text": [
      "None\n"
     ]
    }
   ],
   "source": [
    "print(d2.setdefault(\"bilo\"))"
   ]
  },
  {
   "cell_type": "code",
   "execution_count": 121,
   "metadata": {},
   "outputs": [
    {
     "data": {
      "text/plain": [
       "{'a': '1', ',': ',', 'bilo': None}"
      ]
     },
     "execution_count": 121,
     "metadata": {},
     "output_type": "execute_result"
    }
   ],
   "source": [
    "d2"
   ]
  },
  {
   "cell_type": "code",
   "execution_count": 122,
   "metadata": {},
   "outputs": [
    {
     "data": {
      "text/plain": [
       "['a', ',', 'bilo']"
      ]
     },
     "execution_count": 122,
     "metadata": {},
     "output_type": "execute_result"
    }
   ],
   "source": [
    "list(d2)"
   ]
  },
  {
   "cell_type": "code",
   "execution_count": 124,
   "metadata": {},
   "outputs": [],
   "source": [
    "del d2[\",\"]"
   ]
  },
  {
   "cell_type": "code",
   "execution_count": 125,
   "metadata": {},
   "outputs": [
    {
     "data": {
      "text/plain": [
       "{'a': '1', 'bilo': None}"
      ]
     },
     "execution_count": 125,
     "metadata": {},
     "output_type": "execute_result"
    }
   ],
   "source": [
    "d2"
   ]
  },
  {
   "cell_type": "code",
   "execution_count": 126,
   "metadata": {},
   "outputs": [],
   "source": [
    "d2[\"bilo\"]=\"chamcho\""
   ]
  },
  {
   "cell_type": "code",
   "execution_count": 127,
   "metadata": {},
   "outputs": [
    {
     "data": {
      "text/plain": [
       "{'a': '1', 'bilo': 'chamcho'}"
      ]
     },
     "execution_count": 127,
     "metadata": {},
     "output_type": "execute_result"
    }
   ],
   "source": [
    "d2"
   ]
  },
  {
   "cell_type": "code",
   "execution_count": 128,
   "metadata": {},
   "outputs": [],
   "source": [
    "d2.setdefault(\"cuckoo\")"
   ]
  },
  {
   "cell_type": "code",
   "execution_count": 129,
   "metadata": {},
   "outputs": [
    {
     "data": {
      "text/plain": [
       "{'a': '1', 'bilo': 'chamcho', 'cuckoo': None}"
      ]
     },
     "execution_count": 129,
     "metadata": {},
     "output_type": "execute_result"
    }
   ],
   "source": [
    "d2"
   ]
  },
  {
   "cell_type": "code",
   "execution_count": 131,
   "metadata": {},
   "outputs": [],
   "source": [
    "v=[4,8,0,6,7]\n",
    "v=dict.fromkeys(v)"
   ]
  },
  {
   "cell_type": "code",
   "execution_count": 132,
   "metadata": {},
   "outputs": [
    {
     "data": {
      "text/plain": [
       "{4: None, 8: None, 0: None, 6: None, 7: None}"
      ]
     },
     "execution_count": 132,
     "metadata": {},
     "output_type": "execute_result"
    }
   ],
   "source": [
    "v"
   ]
  },
  {
   "cell_type": "code",
   "execution_count": 133,
   "metadata": {},
   "outputs": [
    {
     "data": {
      "text/plain": [
       "{'a': 11, 'b': 22}"
      ]
     },
     "execution_count": 133,
     "metadata": {},
     "output_type": "execute_result"
    }
   ],
   "source": [
    "a1={\"a\":1,\"b\":2}\n",
    "a2={\"a\":11,\"b\":22}\n",
    "a1.update(a2)\n",
    "a1"
   ]
  },
  {
   "cell_type": "code",
   "execution_count": 137,
   "metadata": {},
   "outputs": [
    {
     "name": "stdout",
     "output_type": "stream",
     "text": [
      "a 1\n",
      "b 2\n",
      "c 3\n",
      "d 4\n"
     ]
    }
   ],
   "source": [
    "a1={\"a\":1,\"b\":2,\"c\":3,\"d\":4}\n",
    "for x,y in sorted(a1.items(),reverse=False):\n",
    "    print(x,y)"
   ]
  },
  {
   "cell_type": "code",
   "execution_count": 144,
   "metadata": {},
   "outputs": [],
   "source": [
    "a1={\"a\":1,\"b\":2,\"c\":3,\"d\":4}\n",
    "#lis=list(a1.keys())\n",
    "#lis=sorted(lis,reverse=True)\n",
    "d={}\n",
    "for i in list(a1.keys()):\n",
    "    d[i]=a1[i]"
   ]
  },
  {
   "cell_type": "code",
   "execution_count": 146,
   "metadata": {},
   "outputs": [
    {
     "data": {
      "text/plain": [
       "{'a': 1, 'b': 2, 'c': 3, 'd': 4}"
      ]
     },
     "execution_count": 146,
     "metadata": {},
     "output_type": "execute_result"
    }
   ],
   "source": [
    "d"
   ]
  },
  {
   "cell_type": "code",
   "execution_count": 6,
   "metadata": {},
   "outputs": [
    {
     "name": "stdout",
     "output_type": "stream",
     "text": [
      "enter your nameanie\n",
      "enter your fnamegul\n",
      "enter your skillsoop,python,c++\n",
      "enter your choiceYES\n"
     ]
    },
    {
     "data": {
      "text/plain": [
       "{'name': 'anie', 'fname': 'gul', 'skills': 'oop,python,c++'}"
      ]
     },
     "execution_count": 6,
     "metadata": {},
     "output_type": "execute_result"
    }
   ],
   "source": [
    "choice=\"\"\n",
    "while choice!='YES':\n",
    "    name=input(\"enter your name\")\n",
    "    fname=input(\"enter your fname\")\n",
    "    skills=input(\"enter your skills\")\n",
    "    d={}\n",
    "    d.setdefault(\"name\",name)\n",
    "    d.setdefault(\"fname\",fname)\n",
    "    d.setdefault(\"skills\",skills)\n",
    "    choice=input(\"enter your choice\")\n",
    "d"
   ]
  },
  {
   "cell_type": "code",
   "execution_count": 7,
   "metadata": {},
   "outputs": [
    {
     "data": {
      "text/plain": [
       "['__class__',\n",
       " '__contains__',\n",
       " '__delattr__',\n",
       " '__delitem__',\n",
       " '__dir__',\n",
       " '__doc__',\n",
       " '__eq__',\n",
       " '__format__',\n",
       " '__ge__',\n",
       " '__getattribute__',\n",
       " '__getitem__',\n",
       " '__gt__',\n",
       " '__hash__',\n",
       " '__init__',\n",
       " '__init_subclass__',\n",
       " '__iter__',\n",
       " '__le__',\n",
       " '__len__',\n",
       " '__lt__',\n",
       " '__ne__',\n",
       " '__new__',\n",
       " '__reduce__',\n",
       " '__reduce_ex__',\n",
       " '__repr__',\n",
       " '__setattr__',\n",
       " '__setitem__',\n",
       " '__sizeof__',\n",
       " '__str__',\n",
       " '__subclasshook__',\n",
       " 'clear',\n",
       " 'copy',\n",
       " 'fromkeys',\n",
       " 'get',\n",
       " 'items',\n",
       " 'keys',\n",
       " 'pop',\n",
       " 'popitem',\n",
       " 'setdefault',\n",
       " 'update',\n",
       " 'values']"
      ]
     },
     "execution_count": 7,
     "metadata": {},
     "output_type": "execute_result"
    }
   ],
   "source": [
    "dir(dict)"
   ]
  },
  {
   "cell_type": "code",
   "execution_count": 8,
   "metadata": {},
   "outputs": [
    {
     "name": "stdout",
     "output_type": "stream",
     "text": [
      "[1, 2, 3, 4, 5, 6, 7, 8]\n"
     ]
    }
   ],
   "source": [
    "m1=[1,2,3,4]\n",
    "m2=[5,6,7,8]\n",
    "m3=m1+m2\n",
    "print(m3)"
   ]
  },
  {
   "cell_type": "code",
   "execution_count": 12,
   "metadata": {},
   "outputs": [
    {
     "data": {
      "text/plain": [
       "[1, 2, 3, 4, 5, 6, 7, 8, '9', '9']"
      ]
     },
     "execution_count": 12,
     "metadata": {},
     "output_type": "execute_result"
    }
   ],
   "source": [
    "m3.extend(\"9\")\n",
    "m3"
   ]
  },
  {
   "cell_type": "code",
   "execution_count": 13,
   "metadata": {},
   "outputs": [
    {
     "data": {
      "text/plain": [
       "8"
      ]
     },
     "execution_count": 13,
     "metadata": {},
     "output_type": "execute_result"
    }
   ],
   "source": [
    "m3.index('9')"
   ]
  },
  {
   "cell_type": "code",
   "execution_count": 14,
   "metadata": {},
   "outputs": [
    {
     "data": {
      "text/plain": [
       "['0', 1, 2, 3, 4, 5, 6, 7, 8, '9', '9']"
      ]
     },
     "execution_count": 14,
     "metadata": {},
     "output_type": "execute_result"
    }
   ],
   "source": [
    "m3.insert(0,\"0\")\n",
    "m3"
   ]
  },
  {
   "cell_type": "code",
   "execution_count": 15,
   "metadata": {},
   "outputs": [],
   "source": [
    "m3.remove(\"9\")"
   ]
  },
  {
   "cell_type": "code",
   "execution_count": 16,
   "metadata": {},
   "outputs": [
    {
     "data": {
      "text/plain": [
       "['0', 1, 2, 3, 4, 5, 6, 7, 8, '9']"
      ]
     },
     "execution_count": 16,
     "metadata": {},
     "output_type": "execute_result"
    }
   ],
   "source": [
    "m3"
   ]
  },
  {
   "cell_type": "code",
   "execution_count": 17,
   "metadata": {},
   "outputs": [
    {
     "data": {
      "text/plain": [
       "['A', '0', 1, 2, 3, 4, 5, 6, 7, 8, '9']"
      ]
     },
     "execution_count": 17,
     "metadata": {},
     "output_type": "execute_result"
    }
   ],
   "source": [
    "m3.insert(0,\"A\")\n",
    "m3"
   ]
  },
  {
   "cell_type": "code",
   "execution_count": 23,
   "metadata": {},
   "outputs": [
    {
     "data": {
      "text/plain": [
       "['A', '0', 1, 2, 3, 4, 5, 6, 7, 8, '9']"
      ]
     },
     "execution_count": 23,
     "metadata": {},
     "output_type": "execute_result"
    }
   ],
   "source": [
    "x=m3.pop()\n",
    "m3"
   ]
  },
  {
   "cell_type": "code",
   "execution_count": 22,
   "metadata": {},
   "outputs": [
    {
     "data": {
      "text/plain": [
       "['A', '0', 1, 2, 3, 4, 5, 6, 7, 8, '9', '9']"
      ]
     },
     "execution_count": 22,
     "metadata": {},
     "output_type": "execute_result"
    }
   ],
   "source": [
    "m3.append(x)\n",
    "m3"
   ]
  },
  {
   "cell_type": "code",
   "execution_count": 24,
   "metadata": {},
   "outputs": [],
   "source": [
    "m3.remove(\"9\")"
   ]
  },
  {
   "cell_type": "code",
   "execution_count": 25,
   "metadata": {},
   "outputs": [
    {
     "data": {
      "text/plain": [
       "['A', '0', 1, 2, 3, 4, 5, 6, 7, 8]"
      ]
     },
     "execution_count": 25,
     "metadata": {},
     "output_type": "execute_result"
    }
   ],
   "source": [
    "m3"
   ]
  },
  {
   "cell_type": "code",
   "execution_count": 26,
   "metadata": {},
   "outputs": [
    {
     "data": {
      "text/plain": [
       "['A', '0', 1, 2, 3, 4, 5, 6, 7, 8, 'Z']"
      ]
     },
     "execution_count": 26,
     "metadata": {},
     "output_type": "execute_result"
    }
   ],
   "source": [
    "m3.append(\"Z\")\n",
    "m3"
   ]
  },
  {
   "cell_type": "code",
   "execution_count": 27,
   "metadata": {},
   "outputs": [
    {
     "data": {
      "text/plain": [
       "['Z', 8, 7, 6, 5, 4, 3, 2, 1, '0', 'A']"
      ]
     },
     "execution_count": 27,
     "metadata": {},
     "output_type": "execute_result"
    }
   ],
   "source": [
    "m3.reverse()\n",
    "m3"
   ]
  },
  {
   "cell_type": "code",
   "execution_count": 29,
   "metadata": {},
   "outputs": [
    {
     "name": "stdout",
     "output_type": "stream",
     "text": [
      "pakistan 1\n",
      "pakistan 2\n",
      "pakistan 3\n",
      "pakistan 4\n",
      "pakistan 5\n",
      "pakistan 6\n",
      "pakistan 7\n",
      "pakistan 8\n",
      "pakistan 9\n",
      "pakistan 10\n"
     ]
    }
   ],
   "source": [
    " for i in range(1,11):\n",
    "    print(\"pakistan\",i)"
   ]
  },
  {
   "cell_type": "code",
   "execution_count": 31,
   "metadata": {},
   "outputs": [
    {
     "data": {
      "text/plain": [
       "['pakistan 0',\n",
       " 'pakistan 1',\n",
       " 'pakistan 2',\n",
       " 'pakistan 3',\n",
       " 'pakistan 4',\n",
       " 'pakistan 5',\n",
       " 'pakistan 6',\n",
       " 'pakistan 7',\n",
       " 'pakistan 8',\n",
       " 'pakistan 9']"
      ]
     },
     "execution_count": 31,
     "metadata": {},
     "output_type": "execute_result"
    }
   ],
   "source": [
    "[\"pakistan \" + str(i) for i in range(0,10)]"
   ]
  },
  {
   "cell_type": "code",
   "execution_count": 39,
   "metadata": {},
   "outputs": [
    {
     "name": "stdout",
     "output_type": "stream",
     "text": [
      "2 X 0 = 0\n",
      "2 X 1 = 2\n",
      "2 X 2 = 4\n",
      "2 X 3 = 6\n",
      "2 X 4 = 8\n",
      "2 X 5 = 10\n",
      "2 X 6 = 12\n",
      "2 X 7 = 14\n",
      "2 X 8 = 16\n",
      "2 X 9 = 18\n",
      "2 X 10 = 20\n"
     ]
    }
   ],
   "source": [
    "for i in range(0,11):\n",
    "    print(2,\"X\",i, \"=\",(2*i))"
   ]
  },
  {
   "cell_type": "code",
   "execution_count": 45,
   "metadata": {},
   "outputs": [
    {
     "name": "stdout",
     "output_type": "stream",
     "text": [
      "enter your name\n",
      "anie\n",
      "enter your Email\n",
      "gmail.com\n",
      "enter your father name\n",
      "gulzeb\n",
      "h\n",
      "enter your name\n",
      "simba\n",
      "enter your Email\n",
      "khalid\n",
      "enter your father name\n",
      "khalid.com\n",
      "y\n",
      "['VALUES', 'anie', 'gmail.com', 'gulzeb', 'simba', 'khalid', 'khalid.com']\n"
     ]
    }
   ],
   "source": [
    "list =[\"VALUES\"]\n",
    "x =\"\"\n",
    "while(x!=\"y\"):\n",
    "    print(\"enter your name\")\n",
    "    name=input()\n",
    "    print(\"enter your Email\")\n",
    "    email=input()\n",
    "    print(\"enter your father name\")\n",
    "    fathername=input()\n",
    "    list.append(name)\n",
    "    list.append(email)\n",
    "    list.append(fathername)\n",
    "    x=input()\n",
    "print(list)\n",
    "\n"
   ]
  },
  {
   "cell_type": "code",
   "execution_count": 48,
   "metadata": {},
   "outputs": [
    {
     "name": "stdout",
     "output_type": "stream",
     "text": [
      "A a 1\n",
      "A b 1\n",
      "A c 1\n",
      "A d 1\n",
      "A e 1\n",
      "A f 1\n",
      "A g 1\n",
      "A h 1\n",
      "A i 1\n",
      "A j 1\n",
      "A k 1\n",
      "A l 1\n",
      "A m 1\n",
      "A n 1\n",
      "A o 1\n",
      "A p 1\n",
      "A q 1\n",
      "A r 1\n",
      "A s 1\n",
      "A t 1\n",
      "A u 1\n",
      "A v 1\n",
      "A w 1\n",
      "A x 1\n",
      "A y 1\n",
      "B a 2\n",
      "B b 2\n",
      "B c 2\n",
      "B d 2\n",
      "B e 2\n",
      "B f 2\n",
      "B g 2\n",
      "B h 2\n",
      "B i 2\n",
      "B j 2\n",
      "B k 2\n",
      "B l 2\n",
      "B m 2\n",
      "B n 2\n",
      "B o 2\n",
      "B p 2\n",
      "B q 2\n",
      "B r 2\n",
      "B s 2\n",
      "B t 2\n",
      "B u 2\n",
      "B v 2\n",
      "B w 2\n",
      "B x 2\n",
      "B y 2\n",
      "C a 3\n",
      "C b 3\n",
      "C c 3\n",
      "C d 3\n",
      "C e 3\n",
      "C f 3\n",
      "C g 3\n",
      "C h 3\n",
      "C i 3\n",
      "C j 3\n",
      "C k 3\n",
      "C l 3\n",
      "C m 3\n",
      "C n 3\n",
      "C o 3\n",
      "C p 3\n",
      "C q 3\n",
      "C r 3\n",
      "C s 3\n",
      "C t 3\n",
      "C u 3\n",
      "C v 3\n",
      "C w 3\n",
      "C x 3\n",
      "C y 3\n",
      "D a 4\n",
      "D b 4\n",
      "D c 4\n",
      "D d 4\n",
      "D e 4\n",
      "D f 4\n",
      "D g 4\n",
      "D h 4\n",
      "D i 4\n",
      "D j 4\n",
      "D k 4\n",
      "D l 4\n",
      "D m 4\n",
      "D n 4\n",
      "D o 4\n",
      "D p 4\n",
      "D q 4\n",
      "D r 4\n",
      "D s 4\n",
      "D t 4\n",
      "D u 4\n",
      "D v 4\n",
      "D w 4\n",
      "D x 4\n",
      "D y 4\n",
      "E a 5\n",
      "E b 5\n",
      "E c 5\n",
      "E d 5\n",
      "E e 5\n",
      "E f 5\n",
      "E g 5\n",
      "E h 5\n",
      "E i 5\n",
      "E j 5\n",
      "E k 5\n",
      "E l 5\n",
      "E m 5\n",
      "E n 5\n",
      "E o 5\n",
      "E p 5\n",
      "E q 5\n",
      "E r 5\n",
      "E s 5\n",
      "E t 5\n",
      "E u 5\n",
      "E v 5\n",
      "E w 5\n",
      "E x 5\n",
      "E y 5\n",
      "F a 6\n",
      "F b 6\n",
      "F c 6\n",
      "F d 6\n",
      "F e 6\n",
      "F f 6\n",
      "F g 6\n",
      "F h 6\n",
      "F i 6\n",
      "F j 6\n",
      "F k 6\n",
      "F l 6\n",
      "F m 6\n",
      "F n 6\n",
      "F o 6\n",
      "F p 6\n",
      "F q 6\n",
      "F r 6\n",
      "F s 6\n",
      "F t 6\n",
      "F u 6\n",
      "F v 6\n",
      "F w 6\n",
      "F x 6\n",
      "F y 6\n",
      "G a 7\n",
      "G b 7\n",
      "G c 7\n",
      "G d 7\n",
      "G e 7\n",
      "G f 7\n",
      "G g 7\n",
      "G h 7\n",
      "G i 7\n",
      "G j 7\n",
      "G k 7\n",
      "G l 7\n",
      "G m 7\n",
      "G n 7\n",
      "G o 7\n",
      "G p 7\n",
      "G q 7\n",
      "G r 7\n",
      "G s 7\n",
      "G t 7\n",
      "G u 7\n",
      "G v 7\n",
      "G w 7\n",
      "G x 7\n",
      "G y 7\n",
      "H a 8\n",
      "H b 8\n",
      "H c 8\n",
      "H d 8\n",
      "H e 8\n",
      "H f 8\n",
      "H g 8\n",
      "H h 8\n",
      "H i 8\n",
      "H j 8\n",
      "H k 8\n",
      "H l 8\n",
      "H m 8\n",
      "H n 8\n",
      "H o 8\n",
      "H p 8\n",
      "H q 8\n",
      "H r 8\n",
      "H s 8\n",
      "H t 8\n",
      "H u 8\n",
      "H v 8\n",
      "H w 8\n",
      "H x 8\n",
      "H y 8\n",
      "I a 9\n",
      "I b 9\n",
      "I c 9\n",
      "I d 9\n",
      "I e 9\n",
      "I f 9\n",
      "I g 9\n",
      "I h 9\n",
      "I i 9\n",
      "I j 9\n",
      "I k 9\n",
      "I l 9\n",
      "I m 9\n",
      "I n 9\n",
      "I o 9\n",
      "I p 9\n",
      "I q 9\n",
      "I r 9\n",
      "I s 9\n",
      "I t 9\n",
      "I u 9\n",
      "I v 9\n",
      "I w 9\n",
      "I x 9\n",
      "I y 9\n",
      "J a 10\n",
      "J b 10\n",
      "J c 10\n",
      "J d 10\n",
      "J e 10\n",
      "J f 10\n",
      "J g 10\n",
      "J h 10\n",
      "J i 10\n",
      "J j 10\n",
      "J k 10\n",
      "J l 10\n",
      "J m 10\n",
      "J n 10\n",
      "J o 10\n",
      "J p 10\n",
      "J q 10\n",
      "J r 10\n",
      "J s 10\n",
      "J t 10\n",
      "J u 10\n",
      "J v 10\n",
      "J w 10\n",
      "J x 10\n",
      "J y 10\n",
      "K a 11\n",
      "K b 11\n",
      "K c 11\n",
      "K d 11\n",
      "K e 11\n",
      "K f 11\n",
      "K g 11\n",
      "K h 11\n",
      "K i 11\n",
      "K j 11\n",
      "K k 11\n",
      "K l 11\n",
      "K m 11\n",
      "K n 11\n",
      "K o 11\n",
      "K p 11\n",
      "K q 11\n",
      "K r 11\n",
      "K s 11\n",
      "K t 11\n",
      "K u 11\n",
      "K v 11\n",
      "K w 11\n",
      "K x 11\n",
      "K y 11\n",
      "L a 12\n",
      "L b 12\n",
      "L c 12\n",
      "L d 12\n",
      "L e 12\n",
      "L f 12\n",
      "L g 12\n",
      "L h 12\n",
      "L i 12\n",
      "L j 12\n",
      "L k 12\n",
      "L l 12\n",
      "L m 12\n",
      "L n 12\n",
      "L o 12\n",
      "L p 12\n",
      "L q 12\n",
      "L r 12\n",
      "L s 12\n",
      "L t 12\n",
      "L u 12\n",
      "L v 12\n",
      "L w 12\n",
      "L x 12\n",
      "L y 12\n",
      "M a 13\n",
      "M b 13\n",
      "M c 13\n",
      "M d 13\n",
      "M e 13\n",
      "M f 13\n",
      "M g 13\n",
      "M h 13\n",
      "M i 13\n",
      "M j 13\n",
      "M k 13\n",
      "M l 13\n",
      "M m 13\n",
      "M n 13\n",
      "M o 13\n",
      "M p 13\n",
      "M q 13\n",
      "M r 13\n",
      "M s 13\n",
      "M t 13\n",
      "M u 13\n",
      "M v 13\n",
      "M w 13\n",
      "M x 13\n",
      "M y 13\n",
      "N a 14\n",
      "N b 14\n",
      "N c 14\n",
      "N d 14\n",
      "N e 14\n",
      "N f 14\n",
      "N g 14\n",
      "N h 14\n",
      "N i 14\n",
      "N j 14\n",
      "N k 14\n",
      "N l 14\n",
      "N m 14\n",
      "N n 14\n",
      "N o 14\n",
      "N p 14\n",
      "N q 14\n",
      "N r 14\n",
      "N s 14\n",
      "N t 14\n",
      "N u 14\n",
      "N v 14\n",
      "N w 14\n",
      "N x 14\n",
      "N y 14\n",
      "O a 15\n",
      "O b 15\n",
      "O c 15\n",
      "O d 15\n",
      "O e 15\n",
      "O f 15\n",
      "O g 15\n",
      "O h 15\n",
      "O i 15\n",
      "O j 15\n",
      "O k 15\n",
      "O l 15\n",
      "O m 15\n",
      "O n 15\n",
      "O o 15\n",
      "O p 15\n",
      "O q 15\n",
      "O r 15\n",
      "O s 15\n",
      "O t 15\n",
      "O u 15\n",
      "O v 15\n",
      "O w 15\n",
      "O x 15\n",
      "O y 15\n",
      "P a 16\n",
      "P b 16\n",
      "P c 16\n",
      "P d 16\n",
      "P e 16\n",
      "P f 16\n",
      "P g 16\n",
      "P h 16\n",
      "P i 16\n",
      "P j 16\n",
      "P k 16\n",
      "P l 16\n",
      "P m 16\n",
      "P n 16\n",
      "P o 16\n",
      "P p 16\n",
      "P q 16\n",
      "P r 16\n",
      "P s 16\n",
      "P t 16\n",
      "P u 16\n",
      "P v 16\n",
      "P w 16\n",
      "P x 16\n",
      "P y 16\n",
      "Q a 17\n",
      "Q b 17\n",
      "Q c 17\n",
      "Q d 17\n",
      "Q e 17\n",
      "Q f 17\n",
      "Q g 17\n",
      "Q h 17\n",
      "Q i 17\n",
      "Q j 17\n",
      "Q k 17\n",
      "Q l 17\n",
      "Q m 17\n",
      "Q n 17\n",
      "Q o 17\n",
      "Q p 17\n",
      "Q q 17\n",
      "Q r 17\n",
      "Q s 17\n",
      "Q t 17\n",
      "Q u 17\n",
      "Q v 17\n",
      "Q w 17\n",
      "Q x 17\n",
      "Q y 17\n",
      "R a 18\n",
      "R b 18\n",
      "R c 18\n",
      "R d 18\n",
      "R e 18\n",
      "R f 18\n",
      "R g 18\n",
      "R h 18\n",
      "R i 18\n",
      "R j 18\n",
      "R k 18\n",
      "R l 18\n",
      "R m 18\n",
      "R n 18\n",
      "R o 18\n",
      "R p 18\n",
      "R q 18\n",
      "R r 18\n",
      "R s 18\n",
      "R t 18\n",
      "R u 18\n",
      "R v 18\n",
      "R w 18\n",
      "R x 18\n",
      "R y 18\n",
      "S a 19\n",
      "S b 19\n",
      "S c 19\n",
      "S d 19\n",
      "S e 19\n",
      "S f 19\n",
      "S g 19\n",
      "S h 19\n",
      "S i 19\n",
      "S j 19\n",
      "S k 19\n",
      "S l 19\n",
      "S m 19\n",
      "S n 19\n",
      "S o 19\n",
      "S p 19\n",
      "S q 19\n",
      "S r 19\n",
      "S s 19\n",
      "S t 19\n",
      "S u 19\n",
      "S v 19\n",
      "S w 19\n",
      "S x 19\n",
      "S y 19\n",
      "T a 20\n",
      "T b 20\n",
      "T c 20\n",
      "T d 20\n",
      "T e 20\n",
      "T f 20\n",
      "T g 20\n",
      "T h 20\n",
      "T i 20\n",
      "T j 20\n",
      "T k 20\n",
      "T l 20\n",
      "T m 20\n",
      "T n 20\n",
      "T o 20\n",
      "T p 20\n",
      "T q 20\n",
      "T r 20\n",
      "T s 20\n",
      "T t 20\n",
      "T u 20\n",
      "T v 20\n",
      "T w 20\n",
      "T x 20\n",
      "T y 20\n",
      "U a 21\n",
      "U b 21\n",
      "U c 21\n",
      "U d 21\n",
      "U e 21\n",
      "U f 21\n",
      "U g 21\n",
      "U h 21\n",
      "U i 21\n",
      "U j 21\n",
      "U k 21\n",
      "U l 21\n",
      "U m 21\n",
      "U n 21\n",
      "U o 21\n",
      "U p 21\n",
      "U q 21\n",
      "U r 21\n",
      "U s 21\n",
      "U t 21\n",
      "U u 21\n",
      "U v 21\n",
      "U w 21\n",
      "U x 21\n",
      "U y 21\n",
      "V a 22\n",
      "V b 22\n",
      "V c 22\n",
      "V d 22\n",
      "V e 22\n",
      "V f 22\n",
      "V g 22\n",
      "V h 22\n",
      "V i 22\n",
      "V j 22\n",
      "V k 22\n",
      "V l 22\n",
      "V m 22\n",
      "V n 22\n",
      "V o 22\n",
      "V p 22\n",
      "V q 22\n",
      "V r 22\n",
      "V s 22\n",
      "V t 22\n",
      "V u 22\n",
      "V v 22\n",
      "V w 22\n",
      "V x 22\n",
      "V y 22\n",
      "W a 23\n",
      "W b 23\n",
      "W c 23\n",
      "W d 23\n",
      "W e 23\n",
      "W f 23\n",
      "W g 23\n",
      "W h 23\n",
      "W i 23\n",
      "W j 23\n",
      "W k 23\n",
      "W l 23\n",
      "W m 23\n",
      "W n 23\n",
      "W o 23\n",
      "W p 23\n",
      "W q 23\n",
      "W r 23\n",
      "W s 23\n",
      "W t 23\n",
      "W u 23\n",
      "W v 23\n",
      "W w 23\n",
      "W x 23\n",
      "W y 23\n",
      "X a 24\n",
      "X b 24\n",
      "X c 24\n",
      "X d 24\n",
      "X e 24\n",
      "X f 24\n",
      "X g 24\n",
      "X h 24\n",
      "X i 24\n",
      "X j 24\n",
      "X k 24\n",
      "X l 24\n",
      "X m 24\n",
      "X n 24\n",
      "X o 24\n",
      "X p 24\n",
      "X q 24\n",
      "X r 24\n",
      "X s 24\n",
      "X t 24\n",
      "X u 24\n",
      "X v 24\n",
      "X w 24\n",
      "X x 24\n",
      "X y 24\n",
      "Y a 25\n",
      "Y b 25\n",
      "Y c 25\n",
      "Y d 25\n",
      "Y e 25\n",
      "Y f 25\n",
      "Y g 25\n",
      "Y h 25\n",
      "Y i 25\n",
      "Y j 25\n",
      "Y k 25\n",
      "Y l 25\n",
      "Y m 25\n",
      "Y n 25\n",
      "Y o 25\n",
      "Y p 25\n",
      "Y q 25\n",
      "Y r 25\n",
      "Y s 25\n",
      "Y t 25\n",
      "Y u 25\n",
      "Y v 25\n",
      "Y w 25\n",
      "Y x 25\n",
      "Y y 25\n",
      "Z a 26\n",
      "Z b 26\n",
      "Z c 26\n",
      "Z d 26\n",
      "Z e 26\n",
      "Z f 26\n",
      "Z g 26\n",
      "Z h 26\n",
      "Z i 26\n",
      "Z j 26\n",
      "Z k 26\n",
      "Z l 26\n",
      "Z m 26\n",
      "Z n 26\n",
      "Z o 26\n",
      "Z p 26\n",
      "Z q 26\n",
      "Z r 26\n",
      "Z s 26\n",
      "Z t 26\n",
      "Z u 26\n",
      "Z v 26\n",
      "Z w 26\n",
      "Z x 26\n",
      "Z y 26\n",
      "[ a 27\n",
      "[ b 27\n",
      "[ c 27\n",
      "[ d 27\n",
      "[ e 27\n",
      "[ f 27\n",
      "[ g 27\n",
      "[ h 27\n",
      "[ i 27\n",
      "[ j 27\n",
      "[ k 27\n",
      "[ l 27\n",
      "[ m 27\n",
      "[ n 27\n",
      "[ o 27\n",
      "[ p 27\n",
      "[ q 27\n",
      "[ r 27\n",
      "[ s 27\n",
      "[ t 27\n",
      "[ u 27\n",
      "[ v 27\n",
      "[ w 27\n",
      "[ x 27\n",
      "[ y 27\n",
      "\\ a 28\n",
      "\\ b 28\n",
      "\\ c 28\n",
      "\\ d 28\n",
      "\\ e 28\n",
      "\\ f 28\n",
      "\\ g 28\n",
      "\\ h 28\n",
      "\\ i 28\n",
      "\\ j 28\n",
      "\\ k 28\n",
      "\\ l 28\n",
      "\\ m 28\n",
      "\\ n 28\n",
      "\\ o 28\n",
      "\\ p 28\n",
      "\\ q 28\n",
      "\\ r 28\n",
      "\\ s 28\n",
      "\\ t 28\n",
      "\\ u 28\n",
      "\\ v 28\n",
      "\\ w 28\n",
      "\\ x 28\n",
      "\\ y 28\n",
      "] a 29\n",
      "] b 29\n",
      "] c 29\n",
      "] d 29\n",
      "] e 29\n",
      "] f 29\n",
      "] g 29\n",
      "] h 29\n",
      "] i 29\n",
      "] j 29\n",
      "] k 29\n",
      "] l 29\n",
      "] m 29\n",
      "] n 29\n",
      "] o 29\n",
      "] p 29\n",
      "] q 29\n",
      "] r 29\n",
      "] s 29\n",
      "] t 29\n",
      "] u 29\n",
      "] v 29\n",
      "] w 29\n",
      "] x 29\n",
      "] y 29\n",
      "^ a 30\n",
      "^ b 30\n",
      "^ c 30\n",
      "^ d 30\n",
      "^ e 30\n",
      "^ f 30\n",
      "^ g 30\n",
      "^ h 30\n",
      "^ i 30\n",
      "^ j 30\n",
      "^ k 30\n",
      "^ l 30\n",
      "^ m 30\n",
      "^ n 30\n",
      "^ o 30\n",
      "^ p 30\n",
      "^ q 30\n",
      "^ r 30\n",
      "^ s 30\n",
      "^ t 30\n",
      "^ u 30\n",
      "^ v 30\n",
      "^ w 30\n",
      "^ x 30\n",
      "^ y 30\n",
      "_ a 31\n",
      "_ b 31\n",
      "_ c 31\n",
      "_ d 31\n",
      "_ e 31\n",
      "_ f 31\n",
      "_ g 31\n",
      "_ h 31\n",
      "_ i 31\n",
      "_ j 31\n",
      "_ k 31\n",
      "_ l 31\n",
      "_ m 31\n",
      "_ n 31\n",
      "_ o 31\n",
      "_ p 31\n",
      "_ q 31\n",
      "_ r 31\n",
      "_ s 31\n",
      "_ t 31\n",
      "_ u 31\n",
      "_ v 31\n",
      "_ w 31\n",
      "_ x 31\n",
      "_ y 31\n",
      "` a 32\n",
      "` b 32\n",
      "` c 32\n",
      "` d 32\n",
      "` e 32\n",
      "` f 32\n",
      "` g 32\n",
      "` h 32\n",
      "` i 32\n",
      "` j 32\n",
      "` k 32\n",
      "` l 32\n",
      "` m 32\n",
      "` n 32\n",
      "` o 32\n",
      "` p 32\n",
      "` q 32\n",
      "` r 32\n",
      "` s 32\n",
      "` t 32\n",
      "` u 32\n",
      "` v 32\n",
      "` w 32\n",
      "` x 32\n",
      "` y 32\n"
     ]
    }
   ],
   "source": [
    "z=1\n",
    "for i in range(65,97):\n",
    "    for j in range(97,122):\n",
    "        print(chr(i),chr(j),z)\n",
    "    z+=1\n"
   ]
  },
  {
   "cell_type": "code",
   "execution_count": 49,
   "metadata": {},
   "outputs": [
    {
     "name": "stdout",
     "output_type": "stream",
     "text": [
      "4>3\n"
     ]
    }
   ],
   "source": [
    "print(\"4>3\") if 4>3 else print(\"no\") "
   ]
  },
  {
   "cell_type": "code",
   "execution_count": 58,
   "metadata": {},
   "outputs": [
    {
     "name": "stdout",
     "output_type": "stream",
     "text": [
      "4 5\n"
     ]
    }
   ],
   "source": [
    "a=4\n",
    "b=5\n",
    "print(a,b)"
   ]
  },
  {
   "cell_type": "code",
   "execution_count": 60,
   "metadata": {},
   "outputs": [
    {
     "name": "stdout",
     "output_type": "stream",
     "text": [
      "bilo\n",
      "oopo\n",
      "\n",
      "PIAIC ISLAMABAD\n",
      "name:bilo\n",
      "fname:oopo\n",
      "\n"
     ]
    }
   ],
   "source": [
    "name=input()\n",
    "fname=input()\n",
    "show = \"\"\"\n",
    "PIAIC ISLAMABAD\n",
    "name:{}\n",
    "fname:{}\n",
    "\"\"\".format(name,fname)\n",
    "print(show)"
   ]
  },
  {
   "cell_type": "code",
   "execution_count": 5,
   "metadata": {},
   "outputs": [
    {
     "name": "stdout",
     "output_type": "stream",
     "text": [
      "4\n",
      "1\n",
      "1\n",
      "5\n",
      "9\n",
      "0\n"
     ]
    }
   ],
   "source": [
    "\n",
    "x = [[4, 1, 1], [5, 9, 0]]\n",
    "for i in x:\n",
    "    for j in i:                                                  \n",
    "        print(j)\n",
    "#Output: 4     1     1     5     9     0"
   ]
  },
  {
   "cell_type": "code",
   "execution_count": 3,
   "metadata": {},
   "outputs": [
    {
     "name": "stdout",
     "output_type": "stream",
     "text": [
      "a "
     ]
    }
   ],
   "source": [
    "x = \"abcdef\" \n",
    "i = \"a\"                       \n",
    "while i in x: \n",
    "    x = x[-1:1] \n",
    "    print(i, end = \" \")"
   ]
  },
  {
   "cell_type": "code",
   "execution_count": 4,
   "metadata": {},
   "outputs": [
    {
     "name": "stdout",
     "output_type": "stream",
     "text": [
      "d\n",
      "c\n",
      "b\n",
      "a\n"
     ]
    }
   ],
   "source": [
    "for i in ''.join(reversed(list('abcd'))):                       \n",
    "    print (i)"
   ]
  },
  {
   "cell_type": "code",
   "execution_count": 7,
   "metadata": {},
   "outputs": [
    {
     "name": "stdout",
     "output_type": "stream",
     "text": [
      "a equalls10\n"
     ]
    }
   ],
   "source": [
    "a=10\n",
    "print(f\"a equalls{a}\")"
   ]
  },
  {
   "cell_type": "code",
   "execution_count": 10,
   "metadata": {},
   "outputs": [
    {
     "name": "stdout",
     "output_type": "stream",
     "text": [
      "name89\n"
     ]
    }
   ],
   "source": [
    "a=89\n",
    "print(\"name %s\"%(a))"
   ]
  },
  {
   "cell_type": "code",
   "execution_count": 12,
   "metadata": {},
   "outputs": [
    {
     "name": "stdout",
     "output_type": "stream",
     "text": [
      "c,n,k\n",
      "h,o,p\n"
     ]
    },
    {
     "data": {
      "text/plain": [
       "{'c,n,k': 'h,o,p'}"
      ]
     },
     "execution_count": 12,
     "metadata": {},
     "output_type": "execute_result"
    }
   ],
   "source": [
    "l1=input().split()\n",
    "l2=input().split()\n",
    "d=dict()\n",
    "for i in range(len(l1)):\n",
    "    d[l1[i]]=l2[i]\n",
    "d"
   ]
  },
  {
   "cell_type": "code",
   "execution_count": 19,
   "metadata": {},
   "outputs": [
    {
     "name": "stdout",
     "output_type": "stream",
     "text": [
      "msg is hello to the world\n"
     ]
    }
   ],
   "source": [
    "print(\"msg is {} to the {}\".format(\"hello\",\"world\"))"
   ]
  },
  {
   "cell_type": "code",
   "execution_count": 20,
   "metadata": {},
   "outputs": [
    {
     "name": "stdout",
     "output_type": "stream",
     "text": [
      "msg is hello to the world\n"
     ]
    }
   ],
   "source": [
    "a=\"hello\"\n",
    "b=\"world\"\n",
    "print(f\"msg is {a} to the {b}\")"
   ]
  },
  {
   "cell_type": "code",
   "execution_count": 21,
   "metadata": {},
   "outputs": [
    {
     "name": "stdout",
     "output_type": "stream",
     "text": [
      "message is hello to the world\n"
     ]
    }
   ],
   "source": [
    "print(\"message is %s to the %s\"%(a,b))"
   ]
  },
  {
   "cell_type": "code",
   "execution_count": 22,
   "metadata": {},
   "outputs": [
    {
     "data": {
      "text/plain": [
       "[]"
      ]
     },
     "execution_count": 22,
     "metadata": {},
     "output_type": "execute_result"
    }
   ],
   "source": [
    "x=[3,8,7,9]\n",
    "x[-1:1]"
   ]
  },
  {
   "cell_type": "code",
   "execution_count": null,
   "metadata": {},
   "outputs": [],
   "source": []
  }
 ],
 "metadata": {
  "kernelspec": {
   "display_name": "Python 3",
   "language": "python",
   "name": "python3"
  },
  "language_info": {
   "codemirror_mode": {
    "name": "ipython",
    "version": 3
   },
   "file_extension": ".py",
   "mimetype": "text/x-python",
   "name": "python",
   "nbconvert_exporter": "python",
   "pygments_lexer": "ipython3",
   "version": "3.7.3"
  }
 },
 "nbformat": 4,
 "nbformat_minor": 2
}
