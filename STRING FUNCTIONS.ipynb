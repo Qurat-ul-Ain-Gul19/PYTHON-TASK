{
 "cells": [
  {
   "cell_type": "code",
   "execution_count": 1,
   "metadata": {},
   "outputs": [
    {
     "name": "stdout",
     "output_type": "stream",
     "text": [
      "Quratulain\n"
     ]
    }
   ],
   "source": [
    "\n",
    "#capitalize: Converts first character to Capital Letter\n",
    "name = \"quratulain\"\n",
    "print(name.capitalize())"
   ]
  },
  {
   "cell_type": "code",
   "execution_count": 3,
   "metadata": {},
   "outputs": [
    {
     "name": "stdout",
     "output_type": "stream",
     "text": [
      "quratulaingul\n"
     ]
    }
   ],
   "source": [
    "# casefold: converts to casefolded(lower case) strings\n",
    "name = \"QUratUlainGul\"\n",
    "print(name.casefold())"
   ]
  },
  {
   "cell_type": "code",
   "execution_count": 4,
   "metadata": {},
   "outputs": [
    {
     "name": "stdout",
     "output_type": "stream",
     "text": [
      "       I Love Pakistan        \n",
      "-------I Love Pakistan--------\n"
     ]
    }
   ],
   "source": [
    "# center: Pads string with specified character, parameters(width,fillchar)\n",
    "string = \"I Love Pakistan\"\n",
    "print(string.center(30))\n",
    "# optional parameter\n",
    "string = \"I Love Pakistan\"\n",
    "print(string.center(30,'-'))"
   ]
  },
  {
   "cell_type": "code",
   "execution_count": 6,
   "metadata": {},
   "outputs": [
    {
     "name": "stdout",
     "output_type": "stream",
     "text": [
      "5\n",
      "2\n",
      "5\n"
     ]
    }
   ],
   "source": [
    "# count: returns occurrences of substring in string\n",
    "string = \"Every search begins wd beginners luck and every search ends with the victors being tested\"\n",
    "print(string.count(\"t\"))\n",
    "\n",
    "string = \"The way to get started is to quit talking and begin doing.\"\n",
    "print(string.count(\"to\"))\n",
    "\n",
    "# optional parameters count(\"substring\",start,end\")\n",
    "string = \"The way to get started is to quit talking and begin doing.\"\n",
    "print(string.count(\"t\",5,30))"
   ]
  },
  {
   "cell_type": "code",
   "execution_count": 8,
   "metadata": {},
   "outputs": [
    {
     "name": "stdout",
     "output_type": "stream",
     "text": [
      "PAKISTANIS!\n",
      "b'PAKISTANIS!'\n"
     ]
    }
   ],
   "source": [
    "# encode: returns encoded string of given string\n",
    "string = \"PAKISTANIS!\"\n",
    "print(string)\n",
    "print(string.encode())"
   ]
  },
  {
   "cell_type": "code",
   "execution_count": 9,
   "metadata": {},
   "outputs": [
    {
     "name": "stdout",
     "output_type": "stream",
     "text": [
      "False\n",
      "True\n",
      "False\n",
      "True\n"
     ]
    }
   ],
   "source": [
    "# endswith: Checks if String Ends with the Specified Suffix\n",
    "string = \"The way to get started is to quit talking and begin doing.\"\n",
    "print(string.endswith(\"and begin doing\"))\n",
    "print(string.endswith(\"and begin doing.\"))\n",
    "\n",
    "# parameters(\"string,start,end\")\n",
    "print(string.endswith(\"and begin doing.\",0,35))\n",
    "print(string.endswith(\"and begin doing.\",40,70))"
   ]
  },
  {
   "cell_type": "code",
   "execution_count": 12,
   "metadata": {},
   "outputs": [
    {
     "name": "stdout",
     "output_type": "stream",
     "text": [
      "PAKISTAN   ZINDABAD\n",
      "PAKISTAN     ZINDABAD\n",
      "PAKISTAN        ZINDABAD\n"
     ]
    }
   ],
   "source": [
    "# expandtabs: Replaces Tab character With Spaces\n",
    "string = \"PAKISTAN\\t ZINDABAD\"\n",
    "print(string.expandtabs(2))\n",
    "print(string.expandtabs(4))\n",
    "print(string.expandtabs(15))"
   ]
  },
  {
   "cell_type": "code",
   "execution_count": 16,
   "metadata": {},
   "outputs": [
    {
     "name": "stdout",
     "output_type": "stream",
     "text": [
      "16\n",
      "5\n",
      "-1\n"
     ]
    }
   ],
   "source": [
    "# find: Returns the index of first occurrence of substring\n",
    "string = \"lets go for the dinner.\"\n",
    "print(string.find(\"dinner\"))\n",
    "\n",
    "print(string.find(\"go\",0,25))\n",
    "print(string.find(\"doing\",8,30))"
   ]
  },
  {
   "cell_type": "code",
   "execution_count": 19,
   "metadata": {},
   "outputs": [
    {
     "name": "stdout",
     "output_type": "stream",
     "text": [
      "MS nop, good  UNCLE\n",
      "MS UNCLE, good nop\n",
      "MS nop, good UNCLE\n",
      "5,8\n",
      "8,5\n"
     ]
    }
   ],
   "source": [
    "# format: formats string into better output\n",
    "print(\"MS {}, good {}\".format(\"nop\",\" UNCLE\"))\n",
    "print(\"MS {1}, good {0}\".format(\"nop\",\"UNCLE\"))\n",
    "print(\"MS {0}, good {1}\".format(\"nop\",\"UNCLE\"))\n",
    "# working with dict\n",
    "point = {'x':5,'y':8}\n",
    "print('{x},{y}'.format(**point))\n",
    "print('{y},{x}'.format(**point))"
   ]
  },
  {
   "cell_type": "code",
   "execution_count": 20,
   "metadata": {},
   "outputs": [
    {
     "name": "stdout",
     "output_type": "stream",
     "text": [
      "5 8\n",
      "5 8 9\n"
     ]
    }
   ],
   "source": [
    "# format_map: Formats the String Using Dictionary\n",
    "point = {'x':5,'y':8}\n",
    "print('{x} {y}'.format_map(point))\n",
    "\n",
    "point = {'x':5,'y':8, 'z': 9}\n",
    "print('{x} {y} {z}'.format_map(point))"
   ]
  },
  {
   "cell_type": "code",
   "execution_count": 21,
   "metadata": {},
   "outputs": [
    {
     "name": "stdout",
     "output_type": "stream",
     "text": [
      "29\n",
      "29\n"
     ]
    }
   ],
   "source": [
    "# index: Returns Index of Substring\n",
    "string = \"The way to get started is to quit talking and begin doing.\"\n",
    "print(string.index('quit'))\n",
    "\n",
    "print(string.index('quit',28 ,65))"
   ]
  },
  {
   "cell_type": "code",
   "execution_count": 22,
   "metadata": {},
   "outputs": [
    {
     "name": "stdout",
     "output_type": "stream",
     "text": [
      "True\n",
      "True\n",
      "True\n",
      "False\n"
     ]
    }
   ],
   "source": [
    "# isalnum: Checks Alphanumeric Character\n",
    "string = \"nopy851\"\n",
    "print(string.isalnum())\n",
    "string1 = \"8511\"\n",
    "print(string1.isalnum())\n",
    "string1 = \"nopy\"\n",
    "print(string1.isalnum())\n",
    "string1 = \"nopy@8511\"\n",
    "print(string1.isalnum())"
   ]
  },
  {
   "cell_type": "code",
   "execution_count": 25,
   "metadata": {},
   "outputs": [
    {
     "name": "stdout",
     "output_type": "stream",
     "text": [
      "False\n",
      "False\n"
     ]
    }
   ],
   "source": [
    "# isalpha\n",
    "string = \"C123`\"\n",
    "print(string.isalpha())\n",
    "\n",
    "string = \"ewfqfqw\"\n",
    "print(string1.isalpha())"
   ]
  },
  {
   "cell_type": "code",
   "execution_count": 26,
   "metadata": {},
   "outputs": [
    {
     "name": "stdout",
     "output_type": "stream",
     "text": [
      "False\n",
      "True\n"
     ]
    }
   ],
   "source": [
    "# isdigit\n",
    "string = \"nopy\"\n",
    "print(string.isdigit())\n",
    "\n",
    "string = \"8511\"\n",
    "print(string.isdigit())"
   ]
  },
  {
   "cell_type": "code",
   "execution_count": 27,
   "metadata": {},
   "outputs": [
    {
     "name": "stdout",
     "output_type": "stream",
     "text": [
      "True\n"
     ]
    }
   ],
   "source": [
    "# isprintable\n",
    "string = \"p a k i s t a n z i n d a b a d\"\n",
    "print(string.isprintable())"
   ]
  },
  {
   "cell_type": "code",
   "execution_count": 32,
   "metadata": {},
   "outputs": [
    {
     "name": "stdout",
     "output_type": "stream",
     "text": [
      "True\n",
      "False\n"
     ]
    }
   ],
   "source": [
    "\n",
    "# isspace\n",
    "string = \"  \"\n",
    "print(string.isspace())\n",
    "\n",
    "\n",
    "string = \"omer \"\n",
    "print(string.isspace())"
   ]
  },
  {
   "cell_type": "code",
   "execution_count": 33,
   "metadata": {},
   "outputs": [
    {
     "name": "stdout",
     "output_type": "stream",
     "text": [
      "True\n"
     ]
    },
    {
     "data": {
      "text/plain": [
       "False"
      ]
     },
     "execution_count": 33,
     "metadata": {},
     "output_type": "execute_result"
    }
   ],
   "source": [
    "# islower\n",
    "string = \"creative thinking\"\n",
    "print(string.islower())\n",
    "\n",
    "s = \"Creative Thinking\"\n",
    "s.islower()"
   ]
  },
  {
   "cell_type": "code",
   "execution_count": null,
   "metadata": {},
   "outputs": [],
   "source": [
    "# isnumeric\n",
    "s = \"8511\"\n",
    "print(s.isnumeric())\n",
    "word = \"nopy 8511\"\n",
    "word.isnumeric()"
   ]
  },
  {
   "cell_type": "code",
   "execution_count": 34,
   "metadata": {},
   "outputs": [
    {
     "name": "stdout",
     "output_type": "stream",
     "text": [
      "True\n",
      "False\n"
     ]
    },
    {
     "data": {
      "text/plain": [
       "True"
      ]
     },
     "execution_count": 34,
     "metadata": {},
     "output_type": "execute_result"
    }
   ],
   "source": [
    "# isidentifier\n",
    "string = 'def'\n",
    "print(string.isidentifier())\n",
    "\n",
    "word = 'c++'\n",
    "print(word.isidentifier())\n",
    "\n",
    "s = \"python\"\n",
    "s.isidentifier()"
   ]
  },
  {
   "cell_type": "code",
   "execution_count": 35,
   "metadata": {},
   "outputs": [
    {
     "name": "stdout",
     "output_type": "stream",
     "text": [
      "False\n",
      "True\n",
      "False\n",
      "True\n"
     ]
    }
   ],
   "source": [
    "# istitle\n",
    "string = \"i am good\"\n",
    "print(string.istitle())\n",
    "\n",
    "string = \"I Am Good\"\n",
    "print(string.istitle())\n",
    "\n",
    "string = \"i am Good\"\n",
    "print(string.istitle())\n",
    "string = \"13 I Am @Good\"\n",
    "print(string.istitle())"
   ]
  },
  {
   "cell_type": "code",
   "execution_count": 36,
   "metadata": {},
   "outputs": [
    {
     "name": "stdout",
     "output_type": "stream",
     "text": [
      "True\n",
      "False\n"
     ]
    }
   ],
   "source": [
    "# isupper\n",
    "string = \"CHAMPIONS\"\n",
    "print(string.isupper())\n",
    "\n",
    "string = \"i am good\"\n",
    "print(string.isupper())"
   ]
  },
  {
   "cell_type": "code",
   "execution_count": 37,
   "metadata": {},
   "outputs": [
    {
     "name": "stdout",
     "output_type": "stream",
     "text": [
      "A,n,i,e\n"
     ]
    }
   ],
   "source": [
    "# join : returns a concatinated string\n",
    "string = 'Anie'\n",
    "sep = ','\n",
    "print(sep.join(string))"
   ]
  },
  {
   "cell_type": "code",
   "execution_count": 38,
   "metadata": {},
   "outputs": [
    {
     "name": "stdout",
     "output_type": "stream",
     "text": [
      "Stephen   Hawking\n",
      "Stephen---Hawking\n"
     ]
    }
   ],
   "source": [
    "# ljust: returns left-justified string of given width\n",
    "s = \"Stephen\"\n",
    "print(s.ljust(10) + \"Hawking\")\n",
    "print(s.ljust(10,'-') + \"Hawking\")"
   ]
  },
  {
   "cell_type": "code",
   "execution_count": null,
   "metadata": {},
   "outputs": [],
   "source": [
    "# lower\n",
    "s = \"STEPHEN HAWKING\"\n",
    "s.lower()"
   ]
  },
  {
   "cell_type": "code",
   "execution_count": 42,
   "metadata": {},
   "outputs": [
    {
     "name": "stdout",
     "output_type": "stream",
     "text": [
      "PROUD    PAKISTANIS\n",
      "   PROUD    PAKISTANIS  \n",
      "PROUD    PAKISTANIS  \n",
      "   PROUD    PAKISTANIS\n"
     ]
    }
   ],
   "source": [
    "# strip , rstrip, lstrip\n",
    "s = \"   PROUD    PAKISTANIS  \"\n",
    "print(s.strip())\n",
    "print(s.strip('paki'))\n",
    "print(s.lstrip())\n",
    "print(s.rstrip())"
   ]
  },
  {
   "cell_type": "code",
   "execution_count": 47,
   "metadata": {},
   "outputs": [
    {
     "name": "stdout",
     "output_type": "stream",
     "text": [
      "('artificial intelligence is ', 'my', ' passion')\n"
     ]
    }
   ],
   "source": [
    "# partition : Returns a Tuple\n",
    "string = \"artificial intelligence is my passion\"\n",
    "print(string.partition('my'))"
   ]
  },
  {
   "cell_type": "code",
   "execution_count": 45,
   "metadata": {},
   "outputs": [
    {
     "name": "stdout",
     "output_type": "stream",
     "text": [
      "('AI is ', 'my ', 'passion')\n"
     ]
    }
   ],
   "source": [
    "# rpartition\n",
    "string = \"AI is my passion\"\n",
    "print(string.rpartition('my '))"
   ]
  },
  {
   "cell_type": "code",
   "execution_count": 48,
   "metadata": {},
   "outputs": [
    {
     "name": "stdout",
     "output_type": "stream",
     "text": [
      "['machine', 'learning', 'is', 'my', 'passion']\n",
      "['machine', 'learning', 'is', 'my', 'passion']\n"
     ]
    }
   ],
   "source": [
    "# split : Splits String from Left and returns a list\n",
    "string = \"machine learning is my passion\"\n",
    "print(string.split())\n",
    "\n",
    "print(string.rsplit())"
   ]
  },
  {
   "cell_type": "code",
   "execution_count": 49,
   "metadata": {},
   "outputs": [
    {
     "name": "stdout",
     "output_type": "stream",
     "text": [
      "['Milk', 'Chicken', 'Bread', 'Butter']\n",
      "['Milk\\n', 'Chicken\\r\\n', 'Bread\\r', 'Butter']\n",
      "['Milk Chicken Bread Butter']\n"
     ]
    }
   ],
   "source": [
    "# splitlines: Splits String at Line Boundaries and returns a list\n",
    "grocery = 'Milk\\nChicken\\r\\nBread\\rButter'\n",
    "\n",
    "print(grocery.splitlines())\n",
    "print(grocery.splitlines(True))\n",
    "\n",
    "grocery = 'Milk Chicken Bread Butter'\n",
    "print(grocery.splitlines())"
   ]
  },
  {
   "cell_type": "code",
   "execution_count": 50,
   "metadata": {},
   "outputs": [
    {
     "name": "stdout",
     "output_type": "stream",
     "text": [
      "CREATIVE thinking\n"
     ]
    }
   ],
   "source": [
    "# swapcase: swap uppercase characters to lowercase; vice versa\n",
    "string = \"creative THINKING\"\n",
    "print(string.swapcase())"
   ]
  },
  {
   "cell_type": "code",
   "execution_count": 51,
   "metadata": {},
   "outputs": [
    {
     "name": "stdout",
     "output_type": "stream",
     "text": [
      "0program is fun\n",
      "000000program is fun\n",
      "program is fun\n"
     ]
    }
   ],
   "source": [
    "# zfill: returns a copy of the string with '0' characters padded to the left.\n",
    "text = \"program is fun\"\n",
    "print(text.zfill(15))\n",
    "print(text.zfill(20))\n",
    "print(text.zfill(10))"
   ]
  },
  {
   "cell_type": "code",
   "execution_count": null,
   "metadata": {},
   "outputs": [],
   "source": []
  }
 ],
 "metadata": {
  "kernelspec": {
   "display_name": "Python 3",
   "language": "python",
   "name": "python3"
  },
  "language_info": {
   "codemirror_mode": {
    "name": "ipython",
    "version": 3
   },
   "file_extension": ".py",
   "mimetype": "text/x-python",
   "name": "python",
   "nbconvert_exporter": "python",
   "pygments_lexer": "ipython3",
   "version": "3.7.3"
  }
 },
 "nbformat": 4,
 "nbformat_minor": 2
}
