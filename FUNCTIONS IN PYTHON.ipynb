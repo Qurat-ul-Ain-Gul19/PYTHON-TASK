{
 "cells": [
  {
   "cell_type": "code",
   "execution_count": 2,
   "metadata": {},
   "outputs": [
    {
     "name": "stdout",
     "output_type": "stream",
     "text": [
      "enter first no5\n",
      "enter 2nd no5\n"
     ]
    },
    {
     "data": {
      "text/plain": [
       "10"
      ]
     },
     "execution_count": 2,
     "metadata": {},
     "output_type": "execute_result"
    }
   ],
   "source": [
    "def add():\n",
    "    no1=int(input(\"enter first no\"))\n",
    "    no2=int(input(\"enter 2nd no\"))\n",
    "    return no1+no2\n",
    "add()"
   ]
  },
  {
   "cell_type": "code",
   "execution_count": 4,
   "metadata": {},
   "outputs": [],
   "source": [
    "def add():\n",
    "    print(34+44)"
   ]
  },
  {
   "cell_type": "code",
   "execution_count": 5,
   "metadata": {},
   "outputs": [
    {
     "name": "stdout",
     "output_type": "stream",
     "text": [
      "78\n"
     ]
    }
   ],
   "source": [
    "add()"
   ]
  },
  {
   "cell_type": "code",
   "execution_count": 10,
   "metadata": {},
   "outputs": [
    {
     "name": "stdout",
     "output_type": "stream",
     "text": [
      "5\n",
      "5\n"
     ]
    },
    {
     "data": {
      "text/plain": [
       "25"
      ]
     },
     "execution_count": 10,
     "metadata": {},
     "output_type": "execute_result"
    }
   ],
   "source": [
    "def mul(no1,no2):\n",
    "    return no1*no2\n",
    "mul(int(input()),int(input()))"
   ]
  },
  {
   "cell_type": "markdown",
   "metadata": {},
   "source": [
    " POSITIONAL ARGUMENTS"
   ]
  },
  {
   "cell_type": "code",
   "execution_count": 12,
   "metadata": {},
   "outputs": [
    {
     "data": {
      "text/plain": [
       "12"
      ]
     },
     "execution_count": 12,
     "metadata": {},
     "output_type": "execute_result"
    }
   ],
   "source": [
    "\n",
    "mul(no1=4,no2=3)"
   ]
  },
  {
   "cell_type": "code",
   "execution_count": 31,
   "metadata": {},
   "outputs": [
    {
     "name": "stdout",
     "output_type": "stream",
     "text": [
      "simba  nazir\n",
      "simba khalid nazir\n"
     ]
    }
   ],
   "source": [
    "def fullname(first,last,middle=\" \"):\n",
    "    print(first+middle+last)\n",
    "fullname(\"simba \",\"nazir\")\n",
    "fullname(\"simba\",\" nazir\",\" khalid\")"
   ]
  },
  {
   "cell_type": "raw",
   "metadata": {},
   "source": [
    "sequence matters in positional arguments"
   ]
  },
  {
   "cell_type": "code",
   "execution_count": 18,
   "metadata": {},
   "outputs": [
    {
     "name": "stdout",
     "output_type": "stream",
     "text": [
      " qurat-ul-ain Gul khalid\n"
     ]
    }
   ],
   "source": [
    "#KEY WORD ARGUMENT\n",
    "fullname(middle=\" Gul\",last=\" khalid\",first=\" qurat-ul-ain\")"
   ]
  },
  {
   "cell_type": "code",
   "execution_count": 20,
   "metadata": {},
   "outputs": [
    {
     "name": "stdout",
     "output_type": "stream",
     "text": [
      "nonooo yoooo uuuuuu\n"
     ]
    }
   ],
   "source": [
    "fullname(\"nonooo\",\" yoooo\",last=\" uuuuuu\")"
   ]
  },
  {
   "cell_type": "code",
   "execution_count": 36,
   "metadata": {},
   "outputs": [
    {
     "name": "stdout",
     "output_type": "stream",
     "text": [
      "0\n",
      "2\n"
     ]
    }
   ],
   "source": [
    "#default parameters\n",
    "def sub(no1=0,no2=0):\n",
    "    print(no1-no2)\n",
    "sub()\n",
    "sub(10,no2=8)"
   ]
  },
  {
   "cell_type": "code",
   "execution_count": null,
   "metadata": {},
   "outputs": [],
   "source": [
    "ARBRITRARY NO OF ARGUMENTS"
   ]
  },
  {
   "cell_type": "code",
   "execution_count": 38,
   "metadata": {},
   "outputs": [
    {
     "name": "stdout",
     "output_type": "stream",
     "text": [
      "3\n",
      "5\n",
      "(87, 88, 90, 99, 98)\n"
     ]
    }
   ],
   "source": [
    "def disp(no1,no2,*opt_nums):\n",
    "    print(no1)\n",
    "    print(no2)\n",
    "    print(opt_nums)\n",
    "disp(3,5,87,88,90,99,98)"
   ]
  },
  {
   "cell_type": "code",
   "execution_count": 43,
   "metadata": {},
   "outputs": [
    {
     "name": "stdout",
     "output_type": "stream",
     "text": [
      "your pizzza of size 12 , flavour chicken tikka , and toppings ('olives', 'nops') is ready\n"
     ]
    }
   ],
   "source": [
    "def pizza(size,flavour,*toppings):\n",
    "    print(f\"your pizzza of size {size} , flavour {flavour} , and toppings {toppings} is ready\")\n",
    "    \n",
    "pizza(12,\"chicken tikka\",\"olives\",\"nops\")"
   ]
  },
  {
   "cell_type": "raw",
   "metadata": {},
   "source": [
    "USING FUNCTIONS AS VARIABLES"
   ]
  },
  {
   "cell_type": "code",
   "execution_count": 45,
   "metadata": {},
   "outputs": [
    {
     "data": {
      "text/plain": [
       "6"
      ]
     },
     "execution_count": 45,
     "metadata": {},
     "output_type": "execute_result"
    }
   ],
   "source": [
    "def add(a,b):\n",
    "    return a+b\n",
    "def sub(a,b):\n",
    "    return a-b\n",
    "\n",
    "result = add(2,3)+sub(3,2)\n",
    "result"
   ]
  },
  {
   "cell_type": "raw",
   "metadata": {},
   "source": [
    "LOCAL AND GLOBAL VARIABLES"
   ]
  },
  {
   "cell_type": "code",
   "execution_count": 49,
   "metadata": {},
   "outputs": [
    {
     "name": "stdout",
     "output_type": "stream",
     "text": [
      "yelooo\n",
      "10\n"
     ]
    },
    {
     "ename": "NameError",
     "evalue": "name 'a' is not defined",
     "output_type": "error",
     "traceback": [
      "\u001b[1;31m---------------------------------------------------------------------------\u001b[0m",
      "\u001b[1;31mNameError\u001b[0m                                 Traceback (most recent call last)",
      "\u001b[1;32m<ipython-input-49-e0f0b5f66b67>\u001b[0m in \u001b[0;36m<module>\u001b[1;34m\u001b[0m\n\u001b[0;32m      4\u001b[0m     \u001b[0mprint\u001b[0m\u001b[1;33m(\u001b[0m\u001b[0ma\u001b[0m\u001b[1;33m)\u001b[0m\u001b[1;33m\u001b[0m\u001b[1;33m\u001b[0m\u001b[0m\n\u001b[0;32m      5\u001b[0m \u001b[0mfunc\u001b[0m\u001b[1;33m(\u001b[0m\u001b[1;33m)\u001b[0m\u001b[1;33m\u001b[0m\u001b[1;33m\u001b[0m\u001b[0m\n\u001b[1;32m----> 6\u001b[1;33m \u001b[0mprint\u001b[0m\u001b[1;33m(\u001b[0m\u001b[0ma\u001b[0m\u001b[1;33m)\u001b[0m\u001b[1;33m\u001b[0m\u001b[1;33m\u001b[0m\u001b[0m\n\u001b[0m",
      "\u001b[1;31mNameError\u001b[0m: name 'a' is not defined"
     ]
    }
   ],
   "source": [
    "def func():\n",
    "    print(\"yelooo\")\n",
    "    a=10\n",
    "    print(a)\n",
    "func()\n",
    "print(a)"
   ]
  },
  {
   "cell_type": "code",
   "execution_count": 64,
   "metadata": {},
   "outputs": [
    {
     "name": "stdout",
     "output_type": "stream",
     "text": [
      "10200\n"
     ]
    }
   ],
   "source": [
    "def commision_calc(sales):\n",
    "    \n",
    "    if sales>100:\n",
    "        return sales*100\n",
    "    elif sales>50:\n",
    "        return sales*50\n",
    "    else:\n",
    "        return sales*20\n",
    "def sal_calc(gross_salery,sales):\n",
    "    salary=gross_salery+commision_calc(sales)\n",
    "    print(salary)\n",
    "sal_calc(10000,10)"
   ]
  },
  {
   "cell_type": "code",
   "execution_count": 1,
   "metadata": {},
   "outputs": [
    {
     "name": "stdout",
     "output_type": "stream",
     "text": [
      "enter your fav foodbiryani\n",
      "enter your fav foodchawal\n",
      "enter your fav foodhalwa\n",
      "enter your fav foodkarahi\n",
      "enter your fav foodpizza\n"
     ]
    }
   ],
   "source": [
    "a = 0\n",
    "while a<5:\n",
    "    user=input(\"enter your fav food\")\n",
    "    a+=1"
   ]
  },
  {
   "cell_type": "markdown",
   "metadata": {},
   "source": [
    "# SETTING A FLAG"
   ]
  },
  {
   "cell_type": "code",
   "execution_count": 3,
   "metadata": {},
   "outputs": [
    {
     "name": "stdout",
     "output_type": "stream",
     "text": [
      "enter you fav foodbiryani\n",
      "enter you fav foodpizza\n",
      "enter you fav foodQ\n"
     ]
    },
    {
     "data": {
      "text/plain": [
       "['biryani', 'pizza']"
      ]
     },
     "execution_count": 3,
     "metadata": {},
     "output_type": "execute_result"
    }
   ],
   "source": [
    "favfood=[]\n",
    "flag = True\n",
    "while flag:\n",
    "    userinput=input(\"enter you fav food\")\n",
    "    if userinput=='Q':\n",
    "        flag=False\n",
    "    else:\n",
    "        favfood.append(userinput)\n",
    "favfood"
   ]
  },
  {
   "cell_type": "markdown",
   "metadata": {},
   "source": [
    "# EXCEPTIONS"
   ]
  },
  {
   "cell_type": "code",
   "execution_count": 4,
   "metadata": {},
   "outputs": [
    {
     "name": "stdout",
     "output_type": "stream",
     "text": [
      "exception caught\n",
      "finally will alwys run\n"
     ]
    }
   ],
   "source": [
    "a = []\n",
    "try:\n",
    "    5/0\n",
    "    c=a[3]\n",
    "except:\n",
    "    print(\"exception caught\")\n",
    "else:\n",
    "    print(\"no exception\")\n",
    "finally:\n",
    "    print(\"finally will alwys run\")"
   ]
  },
  {
   "cell_type": "markdown",
   "metadata": {},
   "source": [
    "# MODULES"
   ]
  },
  {
   "cell_type": "code",
   "execution_count": null,
   "metadata": {},
   "outputs": [],
   "source": [
    "# %load mod.py\n",
    "def add(a,b):\n",
    "    return a+b\n",
    "\n",
    "def sub(a,b):\n",
    "    return a-b\n",
    "\n",
    "def mul(a,b):\n",
    "    return a*b"
   ]
  },
  {
   "cell_type": "code",
   "execution_count": 9,
   "metadata": {},
   "outputs": [
    {
     "data": {
      "text/plain": [
       "6"
      ]
     },
     "execution_count": 9,
     "metadata": {},
     "output_type": "execute_result"
    }
   ],
   "source": [
    "import mod as m\n",
    "m.mul(2,3)\n",
    "    "
   ]
  },
  {
   "cell_type": "markdown",
   "metadata": {},
   "source": [
    "# CLASSES"
   ]
  },
  {
   "cell_type": "code",
   "execution_count": 35,
   "metadata": {},
   "outputs": [
    {
     "name": "stdout",
     "output_type": "stream",
     "text": [
      "The make of car is Honda\n",
      "The year of car is 1998\n",
      "The model of car is Civic\n",
      "Honda is moving with high speed\n",
      "Civic has applied the brakes\n",
      "1000h\n"
     ]
    }
   ],
   "source": [
    "class Car():\n",
    "    def __init__(self,make,year,model,battery):\n",
    "        self.make=make\n",
    "        self.year=year                                     \n",
    "        self.model=model\n",
    "        self.battery=battery\n",
    "        \n",
    "    def descript(self):\n",
    "        print(f\"The make of car is {self.make}\")\n",
    "        print(f\"The year of car is {self.year}\")\n",
    "        print(f\"The model of car is {self.model}\")\n",
    "        \n",
    "    def move(self):\n",
    "        print(f\"{self.make} is moving with high speed\")\n",
    "    \n",
    "    def applybrakes(self):\n",
    "        print(f\"{self.model} has applied the brakes\")\n",
    "     \n",
    "    def setbattery(self,newsize):\n",
    "        self.battery=newsize\n",
    "        \n",
    "    def getbattery(self):\n",
    "        print(self.battery)\n",
    "car1 = Car(\"Honda\",1998,\"Civic\",\"2000h\")  \n",
    "car1.descript()\n",
    "car1.move()\n",
    "car1.applybrakes()\n",
    "car1.setbattery(\"1000h\")\n",
    "car1.getbattery()"
   ]
  },
  {
   "cell_type": "code",
   "execution_count": 32,
   "metadata": {},
   "outputs": [],
   "source": [
    "car2=Car(\"suzuki\",2019,\"swift\")"
   ]
  },
  {
   "cell_type": "code",
   "execution_count": 24,
   "metadata": {},
   "outputs": [
    {
     "name": "stdout",
     "output_type": "stream",
     "text": [
      "The make of car is suzuki\n",
      "The year of car is 2019\n",
      "The model of car is swift\n"
     ]
    }
   ],
   "source": [
    "car2.descript()"
   ]
  },
  {
   "cell_type": "code",
   "execution_count": 25,
   "metadata": {},
   "outputs": [
    {
     "data": {
      "text/plain": [
       "'suzuki'"
      ]
     },
     "execution_count": 25,
     "metadata": {},
     "output_type": "execute_result"
    }
   ],
   "source": [
    "car2.make"
   ]
  },
  {
   "cell_type": "code",
   "execution_count": 26,
   "metadata": {},
   "outputs": [
    {
     "data": {
      "text/plain": [
       "'swift'"
      ]
     },
     "execution_count": 26,
     "metadata": {},
     "output_type": "execute_result"
    }
   ],
   "source": [
    "car2.model"
   ]
  },
  {
   "cell_type": "code",
   "execution_count": 27,
   "metadata": {},
   "outputs": [
    {
     "name": "stdout",
     "output_type": "stream",
     "text": [
      "suzuki is moving with high speed\n"
     ]
    }
   ],
   "source": [
    "car2.move()"
   ]
  },
  {
   "cell_type": "code",
   "execution_count": 28,
   "metadata": {},
   "outputs": [
    {
     "data": {
      "text/plain": [
       "2019"
      ]
     },
     "execution_count": 28,
     "metadata": {},
     "output_type": "execute_result"
    }
   ],
   "source": [
    "car2.year"
   ]
  },
  {
   "cell_type": "code",
   "execution_count": 29,
   "metadata": {},
   "outputs": [],
   "source": [
    "car1.make=\"yamaha\""
   ]
  },
  {
   "cell_type": "code",
   "execution_count": 30,
   "metadata": {},
   "outputs": [
    {
     "data": {
      "text/plain": [
       "'yamaha'"
      ]
     },
     "execution_count": 30,
     "metadata": {},
     "output_type": "execute_result"
    }
   ],
   "source": [
    "car1.make"
   ]
  },
  {
   "cell_type": "code",
   "execution_count": 36,
   "metadata": {},
   "outputs": [
    {
     "name": "stdout",
     "output_type": "stream",
     "text": [
      "1500h\n"
     ]
    }
   ],
   "source": [
    "car1.setbattery(\"1500h\")\n",
    "car1.getbattery()"
   ]
  },
  {
   "cell_type": "markdown",
   "metadata": {},
   "source": [
    "# DATA FILES"
   ]
  },
  {
   "cell_type": "raw",
   "metadata": {},
   "source": [
    "# READING MODE"
   ]
  },
  {
   "cell_type": "code",
   "execution_count": 37,
   "metadata": {},
   "outputs": [
    {
     "name": "stdout",
     "output_type": "stream",
     "text": [
      "This is a text file .\n",
      "We will read the file from python code.\n"
     ]
    }
   ],
   "source": [
    "with open(\"testing.txt\",\"r\") as file:\n",
    "    content=file.read()\n",
    "print(content)"
   ]
  },
  {
   "cell_type": "raw",
   "metadata": {},
   "source": [
    "WRITING MODE"
   ]
  },
  {
   "cell_type": "code",
   "execution_count": 38,
   "metadata": {},
   "outputs": [],
   "source": [
    "with open(\"testing.txt\",\"w\") as file:\n",
    "    file.write(\"hello data files\")"
   ]
  },
  {
   "cell_type": "code",
   "execution_count": 39,
   "metadata": {},
   "outputs": [],
   "source": [
    "with open(\"testing.txt\",\"w\") as file:\n",
    "    file.write(\"This is testing files\")"
   ]
  },
  {
   "cell_type": "code",
   "execution_count": 40,
   "metadata": {},
   "outputs": [],
   "source": [
    "with open(\"nonexist.txt\",\"w\") as file:\n",
    "    file.write(\"another testing file\")"
   ]
  },
  {
   "cell_type": "code",
   "execution_count": 43,
   "metadata": {},
   "outputs": [],
   "source": [
    "with open(\"nonexist.txt\",\"a\") as file:\n",
    "    file.write(\"checking that another testing file is appending or not\")"
   ]
  },
  {
   "cell_type": "markdown",
   "metadata": {},
   "source": [
    "# r+ and w+ mode"
   ]
  },
  {
   "cell_type": "code",
   "execution_count": 45,
   "metadata": {},
   "outputs": [
    {
     "name": "stdout",
     "output_type": "stream",
     "text": [
      "another testing file\n"
     ]
    }
   ],
   "source": [
    "with open(\"myfile.txt\",\"w+\") as file:\n",
    "    file.write(\"another testing file\")\n",
    "    file.seek(0)\n",
    "    print(file.read())"
   ]
  },
  {
   "cell_type": "code",
   "execution_count": 46,
   "metadata": {},
   "outputs": [
    {
     "name": "stdout",
     "output_type": "stream",
     "text": [
      "another testing fileanother testing fileanother testing file\n"
     ]
    }
   ],
   "source": [
    "with open(\"myfile.txt\",\"r+\") as file:\n",
    "    file.write(\"another testing file\")\n",
    "    file.write(\"another testing file\")\n",
    "    file.write(\"another testing file\")\n",
    "    file.seek(0)\n",
    "    print(file.read())"
   ]
  },
  {
   "cell_type": "markdown",
   "metadata": {},
   "source": [
    "# CSV FILES"
   ]
  },
  {
   "cell_type": "raw",
   "metadata": {},
   "source": [
    "READING"
   ]
  },
  {
   "cell_type": "code",
   "execution_count": 51,
   "metadata": {},
   "outputs": [
    {
     "name": "stdout",
     "output_type": "stream",
     "text": [
      "['sasasa', 'rteteh', 'eewfyyyf']\n",
      "['fefeqc', 'tbtbm', 'y45vcw']\n",
      "['feefffff ', 'tevht', 'ttbjy']\n"
     ]
    }
   ],
   "source": [
    "import csv\n",
    "with open(\"abc.csv\",\"r\") as file:\n",
    "    contents=csv.reader(file)\n",
    "    for content in contents:\n",
    "        print(content) "
   ]
  },
  {
   "cell_type": "raw",
   "metadata": {},
   "source": [
    "WRITING"
   ]
  },
  {
   "cell_type": "code",
   "execution_count": 52,
   "metadata": {},
   "outputs": [],
   "source": [
    "import csv\n",
    "with open(\"xyz.csv\",\"w\", newline=\"\") as file:\n",
    "    filewriter=csv.writer(file)\n",
    "    filewriter.writerow([\"2019\",\"2017\",\"2344\"])"
   ]
  },
  {
   "cell_type": "code",
   "execution_count": 53,
   "metadata": {},
   "outputs": [],
   "source": [
    "import csv\n",
    "with open(\"xyz.csv\",\"w\", newline=\"\") as file:\n",
    "    filewriter=csv.writer(file)\n",
    "    filewriter.writerow([\"2019\",\"2017\",\"2018\"])"
   ]
  },
  {
   "cell_type": "markdown",
   "metadata": {},
   "source": [
    "# JSON FILES"
   ]
  },
  {
   "cell_type": "code",
   "execution_count": 54,
   "metadata": {},
   "outputs": [],
   "source": [
    "import json\n",
    "with open(\"abc.json\",\"w\") as file:\n",
    "    json.dump([11,22,33,44],file)\n",
    "    "
   ]
  },
  {
   "cell_type": "code",
   "execution_count": 55,
   "metadata": {},
   "outputs": [
    {
     "data": {
      "text/plain": [
       "[11, 22, 33, 44]"
      ]
     },
     "execution_count": 55,
     "metadata": {},
     "output_type": "execute_result"
    }
   ],
   "source": [
    "\n",
    "with open(\"abc.json\",\"r\") as file:\n",
    "    content=json.load(file)\n",
    "content\n",
    "    "
   ]
  },
  {
   "cell_type": "code",
   "execution_count": 56,
   "metadata": {},
   "outputs": [],
   "source": [
    "import json\n",
    "with open(\"abc.json\",\"w\") as file:\n",
    "    json.dump([55,77,88,55,44],file)\n",
    "    "
   ]
  },
  {
   "cell_type": "code",
   "execution_count": 57,
   "metadata": {},
   "outputs": [],
   "source": [
    "import json\n",
    "with open(\"abc.json\",\"a\") as file:\n",
    "    json.dump([55,77,88,55,44],file)\n",
    "    "
   ]
  },
  {
   "cell_type": "markdown",
   "metadata": {},
   "source": [
    "# WRITING IN A DICTIONARY FORM"
   ]
  },
  {
   "cell_type": "code",
   "execution_count": 58,
   "metadata": {},
   "outputs": [],
   "source": [
    "with open(\"xyz.json\",\"w\") as f:\n",
    "    json.dump({\"a\":1,\"b\":2,\"c\":3},f)"
   ]
  },
  {
   "cell_type": "code",
   "execution_count": 61,
   "metadata": {},
   "outputs": [
    {
     "data": {
      "text/plain": [
       "{'a': 1, 'b': 2, 'c': 3}"
      ]
     },
     "execution_count": 61,
     "metadata": {},
     "output_type": "execute_result"
    }
   ],
   "source": [
    "with open (\"xyz.json\",\"r\") as f:\n",
    "    content=json.load(f)\n",
    "content    "
   ]
  },
  {
   "cell_type": "code",
   "execution_count": 62,
   "metadata": {},
   "outputs": [],
   "source": [
    "with open(\"xyz.json\",\"a\") as f:\n",
    "    json.dump({\"ab\":1,\"bd\":2,\"cz\":3},f)"
   ]
  },
  {
   "cell_type": "code",
   "execution_count": null,
   "metadata": {},
   "outputs": [],
   "source": []
  }
 ],
 "metadata": {
  "kernelspec": {
   "display_name": "Python 3",
   "language": "python",
   "name": "python3"
  },
  "language_info": {
   "codemirror_mode": {
    "name": "ipython",
    "version": 3
   },
   "file_extension": ".py",
   "mimetype": "text/x-python",
   "name": "python",
   "nbconvert_exporter": "python",
   "pygments_lexer": "ipython3",
   "version": "3.7.3"
  }
 },
 "nbformat": 4,
 "nbformat_minor": 2
}
