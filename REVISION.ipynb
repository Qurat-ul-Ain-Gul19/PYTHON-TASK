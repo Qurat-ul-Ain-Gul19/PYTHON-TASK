{
 "cells": [
  {
   "cell_type": "code",
   "execution_count": 1,
   "metadata": {},
   "outputs": [
    {
     "name": "stdout",
     "output_type": "stream",
     "text": [
      "[99, 87, 66, 44, 8, 6, 4, 2]\n"
     ]
    }
   ],
   "source": [
    "lista=[99,87,66,44,2,4,6,8]\n",
    "x=sorted(lista,key=abs,reverse=True)\n",
    "print(x)"
   ]
  },
  {
   "cell_type": "code",
   "execution_count": 2,
   "metadata": {},
   "outputs": [
    {
     "data": {
      "text/plain": [
       "[87, 66, 44, 2, 4, 6]"
      ]
     },
     "execution_count": 2,
     "metadata": {},
     "output_type": "execute_result"
    }
   ],
   "source": [
    "lista[1:-1]"
   ]
  },
  {
   "cell_type": "code",
   "execution_count": 3,
   "metadata": {},
   "outputs": [
    {
     "data": {
      "text/plain": [
       "(6, 8)"
      ]
     },
     "execution_count": 3,
     "metadata": {},
     "output_type": "execute_result"
    }
   ],
   "source": [
    "def sumandprod(x,y):\n",
    "    return (x+y),(x*y)\n",
    "sumandprod(2,4)"
   ]
  },
  {
   "cell_type": "code",
   "execution_count": 4,
   "metadata": {},
   "outputs": [
    {
     "name": "stdout",
     "output_type": "stream",
     "text": [
      "[0, 2, 4]\n"
     ]
    }
   ],
   "source": [
    "even_no=[x for x in range(5) if x%2==0]\n",
    "print(even_no)"
   ]
  },
  {
   "cell_type": "code",
   "execution_count": 5,
   "metadata": {},
   "outputs": [],
   "source": [
    "eve_square=[x*x for x in range(5)]"
   ]
  },
  {
   "cell_type": "code",
   "execution_count": 6,
   "metadata": {},
   "outputs": [
    {
     "data": {
      "text/plain": [
       "[0, 1, 4, 9, 16]"
      ]
     },
     "execution_count": 6,
     "metadata": {},
     "output_type": "execute_result"
    }
   ],
   "source": [
    "eve_square"
   ]
  },
  {
   "cell_type": "code",
   "execution_count": 7,
   "metadata": {},
   "outputs": [
    {
     "data": {
      "text/plain": [
       "[0, 4, 16]"
      ]
     },
     "execution_count": 7,
     "metadata": {},
     "output_type": "execute_result"
    }
   ],
   "source": [
    "even=[x*x for x in even_no]\n",
    "even"
   ]
  },
  {
   "cell_type": "code",
   "execution_count": 8,
   "metadata": {},
   "outputs": [
    {
     "data": {
      "text/plain": [
       "{0: 0, 1: 3, 2: 6, 3: 9, 4: 12}"
      ]
     },
     "execution_count": 8,
     "metadata": {},
     "output_type": "execute_result"
    }
   ],
   "source": [
    "sq_dict={x : x*3 for x in range(5)}\n",
    "sq_dict"
   ]
  },
  {
   "cell_type": "code",
   "execution_count": 9,
   "metadata": {},
   "outputs": [
    {
     "data": {
      "text/plain": [
       "[(0, 0),\n",
       " (0, 1),\n",
       " (0, 2),\n",
       " (0, 3),\n",
       " (0, 4),\n",
       " (1, 0),\n",
       " (1, 1),\n",
       " (1, 2),\n",
       " (1, 3),\n",
       " (1, 4),\n",
       " (2, 0),\n",
       " (2, 1),\n",
       " (2, 2),\n",
       " (2, 3),\n",
       " (2, 4),\n",
       " (3, 0),\n",
       " (3, 1),\n",
       " (3, 2),\n",
       " (3, 3),\n",
       " (3, 4),\n",
       " (4, 0),\n",
       " (4, 1),\n",
       " (4, 2),\n",
       " (4, 3),\n",
       " (4, 4)]"
      ]
     },
     "execution_count": 9,
     "metadata": {},
     "output_type": "execute_result"
    }
   ],
   "source": [
    "pairs=[(x,y)\n",
    "      for x in range(5)\n",
    "      for y in range(5)]\n",
    "pairs"
   ]
  },
  {
   "cell_type": "code",
   "execution_count": 10,
   "metadata": {},
   "outputs": [
    {
     "data": {
      "text/plain": [
       "<generator object lazyrange at 0x0000027C85CEB048>"
      ]
     },
     "execution_count": 10,
     "metadata": {},
     "output_type": "execute_result"
    }
   ],
   "source": [
    "def lazyrange(n):\n",
    "    i=0\n",
    "    while i<n:\n",
    "        yield i\n",
    "        i +=1\n",
    "        \n",
    "lazyrange(5)"
   ]
  },
  {
   "cell_type": "code",
   "execution_count": 11,
   "metadata": {},
   "outputs": [
    {
     "name": "stdout",
     "output_type": "stream",
     "text": [
      "0\n",
      "1\n",
      "2\n",
      "3\n",
      "4\n"
     ]
    }
   ],
   "source": [
    "for i in range(5):\n",
    "    print(i)"
   ]
  },
  {
   "cell_type": "code",
   "execution_count": 12,
   "metadata": {},
   "outputs": [
    {
     "data": {
      "text/plain": [
       "{'a': None, 'b': None, 'c': None, 'd': None}"
      ]
     },
     "execution_count": 12,
     "metadata": {},
     "output_type": "execute_result"
    }
   ],
   "source": [
    "l1=['a','b','c','d']\n",
    "dict.fromkeys(l1)"
   ]
  },
  {
   "cell_type": "code",
   "execution_count": 13,
   "metadata": {},
   "outputs": [
    {
     "data": {
      "text/plain": [
       "{'a': 'NILL', 'b': 'NILL', 'c': 'NILL', 'd': 'NILL'}"
      ]
     },
     "execution_count": 13,
     "metadata": {},
     "output_type": "execute_result"
    }
   ],
   "source": [
    "dict.fromkeys(l1,\"NILL\")"
   ]
  },
  {
   "cell_type": "code",
   "execution_count": 14,
   "metadata": {},
   "outputs": [
    {
     "ename": "NameError",
     "evalue": "name 'l2' is not defined",
     "output_type": "error",
     "traceback": [
      "\u001b[1;31m---------------------------------------------------------------------------\u001b[0m",
      "\u001b[1;31mNameError\u001b[0m                                 Traceback (most recent call last)",
      "\u001b[1;32m<ipython-input-14-78fb97d8fa7f>\u001b[0m in \u001b[0;36m<module>\u001b[1;34m\u001b[0m\n\u001b[0;32m      1\u001b[0m \u001b[0md2\u001b[0m\u001b[1;33m=\u001b[0m\u001b[1;33m{\u001b[0m\u001b[1;33m}\u001b[0m\u001b[1;33m\u001b[0m\u001b[1;33m\u001b[0m\u001b[0m\n\u001b[1;32m----> 2\u001b[1;33m \u001b[1;32mfor\u001b[0m \u001b[0mkey\u001b[0m \u001b[1;32min\u001b[0m \u001b[0ml2\u001b[0m\u001b[1;33m:\u001b[0m\u001b[1;33m\u001b[0m\u001b[1;33m\u001b[0m\u001b[0m\n\u001b[0m\u001b[0;32m      3\u001b[0m     \u001b[0md2\u001b[0m\u001b[1;33m[\u001b[0m\u001b[0mkey\u001b[0m\u001b[1;33m]\u001b[0m\u001b[1;33m=\u001b[0m\u001b[1;34m\"none\"\u001b[0m\u001b[1;33m\u001b[0m\u001b[1;33m\u001b[0m\u001b[0m\n\u001b[0;32m      4\u001b[0m \u001b[0md2\u001b[0m\u001b[1;33m\u001b[0m\u001b[1;33m\u001b[0m\u001b[0m\n",
      "\u001b[1;31mNameError\u001b[0m: name 'l2' is not defined"
     ]
    }
   ],
   "source": [
    "d2={}\n",
    "for key in l2:\n",
    "    d2[key]=\"none\"\n",
    "d2"
   ]
  },
  {
   "cell_type": "code",
   "execution_count": null,
   "metadata": {},
   "outputs": [],
   "source": [
    "l1=input(\"keys\").split(\",\")\n",
    "l2=input(\"values\").split(\",\")\n",
    "d={}\n",
    "for i in range(len(l1)):\n",
    "    d[l1[i]]=l2[i]\n",
    "d"
   ]
  },
  {
   "cell_type": "code",
   "execution_count": null,
   "metadata": {},
   "outputs": [],
   "source": [
    "l1=input(\"keys\").split(\",\")\n",
    "l2=input(\"values\").split(\",\")\n",
    "d=dict(zip(l1,l2))\n",
    "d"
   ]
  },
  {
   "cell_type": "code",
   "execution_count": null,
   "metadata": {},
   "outputs": [],
   "source": [
    "l1=input(\"keys\").split(\",\")\n",
    "l2=input(\"values\").split(\",\")\n",
    "{l1[i]:l2[i] for i in range(len(l1))}"
   ]
  },
  {
   "cell_type": "code",
   "execution_count": null,
   "metadata": {},
   "outputs": [],
   "source": [
    "l1=input(\"keys\").split(\",\")\n",
    "l2=input(\"values\").split(\",\")\n",
    "d={}\n",
    "i=0\n",
    "while i<len(l1):\n",
    "    d[l1[i]]=l2[i]\n",
    "    i+=1\n",
    "print(d)\n"
   ]
  },
  {
   "cell_type": "code",
   "execution_count": null,
   "metadata": {},
   "outputs": [],
   "source": [
    "l1=input(\"keys\").split(\",\")\n",
    "l2=input(\"values\").split(\",\")\n",
    "dict(list(zip(l1,l2)))"
   ]
  },
  {
   "cell_type": "code",
   "execution_count": null,
   "metadata": {},
   "outputs": [],
   "source": [
    "\n",
    "dict1 ={}\n",
    "dict1[\"id\"] = input(\"Please Enter Id\")\n",
    "dict1[\"name\"] = input(\"Please Enter Name\")\n",
    "dict1[\"skills\"] = input(\"Please Enter Skills\").split(\",\")\n",
    "dict1"
   ]
  },
  {
   "cell_type": "code",
   "execution_count": null,
   "metadata": {},
   "outputs": [],
   "source": [
    "a = [chr(i) for i in range(65,91)]\n",
    "b = [chr(i) for i in range(97,123)]\n",
    "c = [chr(i) for i in range(48,58)]\n",
    "\n",
    "d = zip(a,sorted(b, reverse=True),c)\n",
    "\n",
    "\n",
    "list(d)"
   ]
  },
  {
   "cell_type": "code",
   "execution_count": null,
   "metadata": {},
   "outputs": [],
   "source": [
    "a=[chr(i) for i in range(65,91)]\n",
    "b=[chr(i) for i in range(97,123)]\n",
    "c=[chr(i) for i in range(48,58)]\n",
    "d=zip(a,sorted(b,reverse=True),c)\n",
    "list(d)"
   ]
  },
  {
   "cell_type": "code",
   "execution_count": null,
   "metadata": {},
   "outputs": [],
   "source": [
    "d=[('A', 'z', '0'),\n",
    " ('B', 'y', '1'),\n",
    " ('C', 'x', '2'),\n",
    " ('D', 'w', '3'),\n",
    " ('E', 'v', '4'),\n",
    " ('F', 'u', '5'),\n",
    " ('G', 't', '6'),\n",
    " ('H', 's', '7'),\n",
    " ('I', 'r', '8'),\n",
    " ('J', 'q', '9')]\n",
    "sorted(d,reverse=True)\n"
   ]
  },
  {
   "cell_type": "code",
   "execution_count": null,
   "metadata": {},
   "outputs": [],
   "source": [
    "d = [('A', 'z', '0'),\n",
    "     ('B', 'y', '1'),\n",
    "     ('C', 'x', '2'),\n",
    "     ('D', 'w', '4'),\n",
    "     ('E', 'v', '3'),\n",
    "     ('F', 'u', '5'),\n",
    "     ('G', 't', '8'),\n",
    "     ('H', 's', '7'),\n",
    "     ('I', 'r', '6'),\n",
    "     ('J', 'q', '9')]\n",
    "\n",
    "\n",
    "def abc(x):\n",
    "    return x[2]   \n",
    "\n",
    "\n",
    "sorted(d, reverse=True,key=abc)\n",
    "#abc(('A', 'z', '0'))"
   ]
  },
  {
   "cell_type": "code",
   "execution_count": null,
   "metadata": {},
   "outputs": [],
   "source": [
    "d1={\n",
    "    'a':1,\n",
    "    'c':5,\n",
    "    'd':2,\n",
    "    'b':3\n",
    "}\n",
    "\n",
    "d2 = {}\n",
    "for k in sorted(d1.keys()):\n",
    "    d2[k] = d1[k]\n",
    "    \n",
    "d2"
   ]
  },
  {
   "cell_type": "code",
   "execution_count": null,
   "metadata": {},
   "outputs": [],
   "source": [
    "d1={\n",
    "    \"f\":10,\n",
    "    \"k\":9,\n",
    "    \"b\":8,\n",
    "    \"z\":7\n",
    "    }\n",
    "d2={}\n",
    "for i in sorted(d1.keys()):\n",
    "    d2[i]=d1[i]\n",
    "d2   "
   ]
  },
  {
   "cell_type": "code",
   "execution_count": null,
   "metadata": {},
   "outputs": [],
   "source": [
    "d1={\n",
    "    'a':1,\n",
    "    'c':5,\n",
    "    'b':2,\n",
    "    'd':3\n",
    "}\n",
    "\n",
    "{k:v for k,v in sorted(d1.items(), key=lambda x:x[1], reverse=True) }"
   ]
  },
  {
   "cell_type": "code",
   "execution_count": null,
   "metadata": {},
   "outputs": [],
   "source": [
    "{k:v for k,v in sorted(d1.items(),reverse=True)}"
   ]
  },
  {
   "cell_type": "code",
   "execution_count": 1,
   "metadata": {},
   "outputs": [
    {
     "name": "stdout",
     "output_type": "stream",
     "text": [
      "enter your nameanie\n",
      "enter your age20\n",
      "enter your skillsphp,oop,java\n",
      "y/nn\n"
     ]
    },
    {
     "data": {
      "text/plain": [
       "[{'name': 'anie', 'age': 20, 'skills': ['php', 'oop', 'java']}]"
      ]
     },
     "execution_count": 1,
     "metadata": {},
     "output_type": "execute_result"
    }
   ],
   "source": [
    "d={}\n",
    "students=[]\n",
    "x=''\n",
    "while x!='n':\n",
    "    d[\"name\"]=input(\"enter your name\")\n",
    "    d[\"age\"]=int(input(\"enter your age\"))\n",
    "    d[\"skills\"]=input(\"enter your skills\").split(\",\")\n",
    "    students.append(d)\n",
    "    \n",
    "    x=input(\"y/n\")\n",
    "students"
   ]
  },
  {
   "cell_type": "code",
   "execution_count": null,
   "metadata": {},
   "outputs": [],
   "source": [
    "marks=int(input(\"enter ur marks\"))\n",
    "if marks >=90:\n",
    "    print(\"A GRADE\")\n",
    "elif marks >=80 and marks<90:\n",
    "    print(\"B GRADE\")\n",
    "elif marks >=70 and marks<80:\n",
    "    print(\"C GRADE\")\n",
    "elif marks >=60 and marks <70:\n",
    "    print(\"D GRADE\")\n",
    "elif marks >=60:\n",
    "    print(\"E GRADE\")\n",
    "else:\n",
    "    print(\"no test\")"
   ]
  },
  {
   "cell_type": "code",
   "execution_count": null,
   "metadata": {},
   "outputs": [],
   "source": [
    "fruit[4:-7:1]\n",
    "noo\n",
    "while loop is also called in finite loop\n"
   ]
  },
  {
   "cell_type": "code",
   "execution_count": 27,
   "metadata": {
    "scrolled": true
   },
   "outputs": [
    {
     "name": "stdout",
     "output_type": "stream",
     "text": [
      "0\n",
      "1\n",
      "2\n",
      "3\n",
      "4\n",
      "5\n",
      "6\n"
     ]
    }
   ],
   "source": [
    "n=0\n",
    "list=[0,1,2,3,4,5,6,7,8,9,10]\n",
    "while(n<10):\n",
    "    print(n)\n",
    "    if n==6:\n",
    "        break\n",
    "    else:\n",
    "        n+=1"
   ]
  },
  {
   "cell_type": "code",
   "execution_count": 23,
   "metadata": {},
   "outputs": [
    {
     "name": "stdout",
     "output_type": "stream",
     "text": [
      "found\n"
     ]
    }
   ],
   "source": [
    "if 6 in list:\n",
    "    print(\"found\")\n",
    "else:\n",
    "    print(n)"
   ]
  },
  {
   "cell_type": "code",
   "execution_count": 28,
   "metadata": {},
   "outputs": [
    {
     "data": {
      "text/plain": [
       "6"
      ]
     },
     "execution_count": 28,
     "metadata": {},
     "output_type": "execute_result"
    }
   ],
   "source": [
    "list[n]"
   ]
  },
  {
   "cell_type": "code",
   "execution_count": null,
   "metadata": {},
   "outputs": [],
   "source": [
    "IN dictionary list or dict itself cant be a key"
   ]
  },
  {
   "cell_type": "markdown",
   "metadata": {},
   "source": [
    "# NESTED DICTIONARY"
   ]
  },
  {
   "cell_type": "code",
   "execution_count": 32,
   "metadata": {},
   "outputs": [
    {
     "data": {
      "text/plain": [
       "{'name': 'anie',\n",
       " 'age': '19',\n",
       " 'job': 'mle',\n",
       " 'HOBIES': {'TRAVELLING': 'US', 'STUDYING': 'COURSE'}}"
      ]
     },
     "execution_count": 32,
     "metadata": {},
     "output_type": "execute_result"
    }
   ],
   "source": [
    "personDATA={\n",
    "    \"name\":\"anie\",\n",
    "    \"age\":\"19\",\n",
    "    \"job\":\"mle\"\n",
    "}\n",
    "someHOBIES={\"TRAVELLING\":\"US\",\n",
    "           \"STUDYING\":\"COURSE\"}\n",
    "personDATA[\"HOBIES\"]=someHOBIES\n",
    "personDATA"
   ]
  },
  {
   "cell_type": "code",
   "execution_count": 33,
   "metadata": {},
   "outputs": [
    {
     "data": {
      "text/plain": [
       "{'name': 'anie',\n",
       " 'age': '19',\n",
       " 'job': 'mle',\n",
       " 'HOBIES': {'TRAVELLING': 'US', 'STUDYING': 'COURSE'},\n",
       " 'DATA': [1, 2, 3, 5]}"
      ]
     },
     "execution_count": 33,
     "metadata": {},
     "output_type": "execute_result"
    }
   ],
   "source": [
    "otherDATA=[1,2,3,5]\n",
    "personDATA[\"DATA\"]=otherDATA\n",
    "personDATA"
   ]
  },
  {
   "cell_type": "code",
   "execution_count": 34,
   "metadata": {},
   "outputs": [
    {
     "data": {
      "text/plain": [
       "{'TRAVELLING': 'US', 'STUDYING': 'COURSE'}"
      ]
     },
     "execution_count": 34,
     "metadata": {},
     "output_type": "execute_result"
    }
   ],
   "source": [
    "personDATA[\"HOBIES\"]"
   ]
  },
  {
   "cell_type": "code",
   "execution_count": 35,
   "metadata": {},
   "outputs": [
    {
     "data": {
      "text/plain": [
       "'anie'"
      ]
     },
     "execution_count": 35,
     "metadata": {},
     "output_type": "execute_result"
    }
   ],
   "source": [
    "personDATA.get(\"name\")"
   ]
  },
  {
   "cell_type": "code",
   "execution_count": 45,
   "metadata": {},
   "outputs": [
    {
     "name": "stdout",
     "output_type": "stream",
     "text": [
      "enter namehh\n",
      "enter hobiesll\n",
      "enter marksii\n"
     ]
    },
    {
     "ename": "AttributeError",
     "evalue": "type object 'dict' has no attribute 'lista'",
     "output_type": "error",
     "traceback": [
      "\u001b[1;31m---------------------------------------------------------------------------\u001b[0m",
      "\u001b[1;31mAttributeError\u001b[0m                            Traceback (most recent call last)",
      "\u001b[1;32m<ipython-input-45-4cf178cec13b>\u001b[0m in \u001b[0;36m<module>\u001b[1;34m\u001b[0m\n\u001b[0;32m      3\u001b[0m \u001b[0mmarks\u001b[0m\u001b[1;33m=\u001b[0m\u001b[0minput\u001b[0m\u001b[1;33m(\u001b[0m\u001b[1;34m\"enter marks\"\u001b[0m\u001b[1;33m)\u001b[0m\u001b[1;33m.\u001b[0m\u001b[0msplit\u001b[0m\u001b[1;33m(\u001b[0m\u001b[1;34m\",\"\u001b[0m\u001b[1;33m)\u001b[0m\u001b[1;33m\u001b[0m\u001b[1;33m\u001b[0m\u001b[0m\n\u001b[0;32m      4\u001b[0m \u001b[0mlista\u001b[0m\u001b[1;33m=\u001b[0m\u001b[0mzip\u001b[0m\u001b[1;33m(\u001b[0m\u001b[1;34m\"name\"\u001b[0m\u001b[1;33m,\u001b[0m\u001b[1;34m\"hobies\"\u001b[0m\u001b[1;33m,\u001b[0m\u001b[1;34m\"marks\"\u001b[0m\u001b[1;33m)\u001b[0m\u001b[1;33m\u001b[0m\u001b[1;33m\u001b[0m\u001b[0m\n\u001b[1;32m----> 5\u001b[1;33m \u001b[0mdict\u001b[0m\u001b[1;33m.\u001b[0m\u001b[0mlista\u001b[0m\u001b[1;33m\u001b[0m\u001b[1;33m\u001b[0m\u001b[0m\n\u001b[0m\u001b[0;32m      6\u001b[0m \u001b[0mprint\u001b[0m\u001b[1;33m(\u001b[0m\u001b[0mlista\u001b[0m\u001b[1;33m)\u001b[0m\u001b[1;33m\u001b[0m\u001b[1;33m\u001b[0m\u001b[0m\n",
      "\u001b[1;31mAttributeError\u001b[0m: type object 'dict' has no attribute 'lista'"
     ]
    }
   ],
   "source": [
    "adict={}\n",
    "name=input(\"enter name\").split(\",\")\n",
    "hobies=input(\"enter hobies\").split(\",\")\n",
    "marks=input(\"enter marks\").split(\",\")\n",
    "adict['name']=name\n",
    "lista=zip(\"name\",\"hobies\",\"marks\")\n",
    "dict.lista\n",
    "print(lista)\n"
   ]
  },
  {
   "cell_type": "code",
   "execution_count": null,
   "metadata": {},
   "outputs": [],
   "source": [
    "TWO DICT...IN A SINGLE[]\n",
    "myDATA={\"name\":\"\",\"marks\":{\"maths\":55,\"eng\":88,\"php\":\"99\"},\"hobies\"}"
   ]
  },
  {
   "cell_type": "code",
   "execution_count": null,
   "metadata": {},
   "outputs": [
    {
     "name": "stdout",
     "output_type": "stream",
     "text": [
      "u\n",
      "enter marks1e\n",
      "enyer subjectshwe\n",
      "enter marksjjw\n",
      "enyer subjectsjwj\n",
      "enter marksjjwe\n",
      "enyer subjectsewj\n",
      "enter markskwe\n",
      "enyer subjectsjje\n",
      "enter marksjj\n",
      "enyer subjectsee\n",
      "enter hobieswee\n",
      "enter hobiesew\n",
      "enter hobiesewe\n",
      "enter hobiesweef\n",
      "enter hobiesff\n",
      "{'name': 'u', 'marks': {'hwe': '1e', 'jwj': 'jjw', 'ewj': 'jjwe', 'jje': 'kwe', 'ee': 'jj'}, 'hobies': ['wee', 'ew', 'ewe', 'weef', 'ff']}\n",
      "presss x to exitu\n"
     ]
    }
   ],
   "source": [
    "data=[]\n",
    "exit=''\n",
    "while exit !='x':\n",
    "    persondata={}\n",
    "    persondata[\"name\"]=input()\n",
    "    persondata['marks']={input(\"enter marks \"):input(\"enter subjects\") for i in range(3)}\n",
    "    persondata[\"hobies\"]=[input(\"enter hobies\") for i in range(3)]\n",
    "    print(persondata)\n",
    "    data.append(persondata)\n",
    "    exit=input(\"presss x to exit\")\n",
    "print(data)"
   ]
  },
  {
   "cell_type": "code",
   "execution_count": 11,
   "metadata": {},
   "outputs": [
    {
     "name": "stdout",
     "output_type": "stream",
     "text": [
      "ENTER DAY?thursday\n",
      "if scratched or not...?no\n",
      "Enter return time9\n",
      "Enter no of days3\n",
      "3.18\n"
     ]
    }
   ],
   "source": [
    "cost=0\n",
    "day=input(\"ENTER DAY?\")\n",
    "DVD=input(\"if scratched or not...?\")\n",
    "time=int(input(\"Enter return time\"))\n",
    "no_of_days=int(input(\"Enter no of days\"))\n",
    "if day!=\"thursday\" and day!=\"sunday\":\n",
    "    if DVD==\"yes\" or time>=8:\n",
    "        no_of_days=no_of_days+1\n",
    "        cost=no_of_days*1.59+1\n",
    "        print(cost)\n",
    "    else:\n",
    "        cost=no_of_days*1.59\n",
    "        print(cost)\n",
    "elif day==\"sunday\":\n",
    "    if DVD==\"yes\" and time>=8:\n",
    "        no_of_days=no_of_days+1\n",
    "        cost=2+no_of_days*1.59\n",
    "        cost=cost-cost*30/100\n",
    "        print(cost)\n",
    "    else:\n",
    "        cost=no_of_days*1.59\n",
    "        cost=cost-cost*30/100\n",
    "        print(cost)\n",
    "    \n",
    "elif day==\"thursday\" and time>=8:\n",
    "    no_of_days=no_of_days+1\n",
    "    cost=no_of_days*1.59\n",
    "    cost=cost-cost*50/100\n",
    "    print(cost)\n",
    "else:\n",
    "    print(\"nothing\")\n",
    "            "
   ]
  },
  {
   "cell_type": "code",
   "execution_count": 18,
   "metadata": {},
   "outputs": [
    {
     "name": "stdout",
     "output_type": "stream",
     "text": [
      "ENTER YOUR NAME:name\n",
      "ENTER YOUR AGE:44\n",
      "enter your course:ty\n",
      "ENTER YOUR SKILLS:jjk\n",
      "ENTER YOUR SKILLS:hhh\n",
      "ENTER YOUR SKILLS:uu\n",
      "ENTER YOUR MARKS99\n",
      "ENTER YOUR SUBJECTS88\n",
      "ENTER YOUR MARKS88\n",
      "ENTER YOUR SUBJECTS9\n",
      "ENTER YOUR MARKS99\n",
      "ENTER YOUR SUBJECTS99\n",
      "[{'name': 'name', 'age': 44, 'program': 'ty', 'skills': {'uu', 'hhh', 'jjk'}, 'marks': {'88': '99', '9': '88', '99': '99'}}]\n",
      "DO YOU WANT TO CONTINUE...?y\n"
     ]
    },
    {
     "data": {
      "text/plain": [
       "[{'name': 'name',\n",
       "  'age': 44,\n",
       "  'program': 'ty',\n",
       "  'skills': {'hhh', 'jjk', 'uu'},\n",
       "  'marks': {'88': '99', '9': '88', '99': '99'}}]"
      ]
     },
     "execution_count": 18,
     "metadata": {},
     "output_type": "execute_result"
    }
   ],
   "source": [
    "\n",
    "d2=[]\n",
    "x=\" \"\n",
    "while x!='y':\n",
    "    d1={}\n",
    "    d1[\"name\"]=input(\"ENTER YOUR NAME:\")\n",
    "    d1[\"age\"]=int(input(\"ENTER YOUR AGE:\"))\n",
    "    d1[\"program\"]=input(\"enter your course:\")\n",
    "    d1[\"skills\"]={input(\"ENTER YOUR SKILLS:\") for i in range(3)}\n",
    "    d1[\"marks\"]={input(\"ENTER YOUR SUBJECTS\") : input(\"ENTER YOUR MARKS\") for i in range(3)}\n",
    "    d2.append(d1)\n",
    "    print(d2)\n",
    "    x=input(\"DO YOU WANT TO CONTINUE...?\")\n",
    "d2"
   ]
  },
  {
   "cell_type": "code",
   "execution_count": null,
   "metadata": {},
   "outputs": [],
   "source": [
    "data=[]\n",
    "exit=''\n",
    "while exit !='x':\n",
    "    persondata={}\n",
    "    persondata[\"name\"]=input()\n",
    "    persondata['marks']={input(\"enter marks \"):input(\"enter subjects\") for i in range(3)}\n",
    "    persondata[\"hobies\"]=[input(\"enter hobies\") for i in range(3)]\n",
    "    print(persondata)\n",
    "    data.append(persondata)\n",
    "    exit=input(\"presss x to exit\")\n",
    "print(data)"
   ]
  }
 ],
 "metadata": {
  "kernelspec": {
   "display_name": "Python 3",
   "language": "python",
   "name": "python3"
  },
  "language_info": {
   "codemirror_mode": {
    "name": "ipython",
    "version": 3
   },
   "file_extension": ".py",
   "mimetype": "text/x-python",
   "name": "python",
   "nbconvert_exporter": "python",
   "pygments_lexer": "ipython3",
   "version": "3.7.3"
  }
 },
 "nbformat": 4,
 "nbformat_minor": 2
}
