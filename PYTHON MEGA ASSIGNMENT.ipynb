{
 "cells": [
  {
   "cell_type": "markdown",
   "metadata": {},
   "source": [
    "SIR THE QUESTIONS WITH * ARE THE ONES I COULDNT UNDERSTAND\n",
    "KINDLY HELP ME WITH THEM"
   ]
  },
  {
   "cell_type": "raw",
   "metadata": {},
   "source": [
    "1.Which of the following terms are related to dictionaries?\n",
    "a,b,d\n",
    "Reason: Dictionaries are unindexed so that term doesnt belongs rest\n",
    "        key,item,value belongs to dictionary."
   ]
  },
  {
   "cell_type": "raw",
   "metadata": {},
   "source": [
    "2.Just like lists, + operator is used to extend dictionaries? \n",
    "False \n",
    "Reason: \"+\" operator is not used to extend dictionaries"
   ]
  },
  {
   "cell_type": "raw",
   "metadata": {},
   "source": [
    "3.To access items from a dictionary, we specify the index of that item within [] like myDict[0]? \n",
    "False \n",
    "Reason: As values from a dictionary are acessed by the keys not by\n",
    "        its index.Dictionaries are unindexed so false"
   ]
  },
  {
   "cell_type": "raw",
   "metadata": {},
   "source": [
    "4.When we use [] to access the value from a dictionary which does not exist in that dictionary….?\n",
    "None of above\n",
    "Reason: if a value doesnt exist in a dic it can't be accessed from \n",
    "        like this [].first we would have to write a key value pair \n",
    "        in that dictionary."
   ]
  },
  {
   "cell_type": "raw",
   "metadata": {},
   "source": [
    "5.What does return the pop method of a dictionary?\n",
    "d\n",
    "Reason: Pop() returns the value of key that was passed to it as argument"
   ]
  },
  {
   "cell_type": "raw",
   "metadata": {},
   "source": [
    "6.What does return popitem method return?\n",
    "d\n",
    "Reason: Pop() returns the value of key that was passed to it as argument"
   ]
  },
  {
   "cell_type": "raw",
   "metadata": {},
   "source": [
    "7.Which of the following 2 methods can be used to iterate through the items of a dictionary?\n",
    "a,b\n",
    "Reason: To iterate through the items of the dictionary \n",
    "        values(),and items() can be used."
   ]
  },
  {
   "cell_type": "raw",
   "metadata": {},
   "source": [
    "8.Which one of the following is used to enclose a dictionary?\n",
    "b\n",
    "Reason: {} is used to enclose a dictionary"
   ]
  },
  {
   "cell_type": "raw",
   "metadata": {},
   "source": [
    "9. CODE TO CHECK IF A KEY,VALUE PAIR EXIST IN THE DICTIONARY"
   ]
  },
  {
   "cell_type": "code",
   "execution_count": 17,
   "metadata": {},
   "outputs": [
    {
     "name": "stdout",
     "output_type": "stream",
     "text": [
      "key exists\n"
     ]
    }
   ],
   "source": [
    "\n",
    "mydict={}\n",
    "mydict[\"a\"]=1\n",
    "mydict[\"b\"]=2\n",
    "mydict[\"c\"]=3\n",
    "if \"a\" in mydict.fromkeys(\"a\"):\n",
    "    print(\"key exists\")\n"
   ]
  },
  {
   "cell_type": "code",
   "execution_count": 18,
   "metadata": {},
   "outputs": [
    {
     "name": "stdout",
     "output_type": "stream",
     "text": [
      "key,item exists\n"
     ]
    }
   ],
   "source": [
    "for x in mydict.items():\n",
    "    if x==\"a\":1\n",
    "    print(\"key,item exists\")\n",
    "    break"
   ]
  },
  {
   "cell_type": "raw",
   "metadata": {},
   "source": [
    "10.    CODE TO PRINT THE EVEN FREQUENCY WORDS THROUGH DICTIONARY"
   ]
  },
  {
   "cell_type": "code",
   "execution_count": 3,
   "metadata": {},
   "outputs": [
    {
     "name": "stdout",
     "output_type": "stream",
     "text": [
      "enter a string as value..comma separatedc,b,h\n"
     ]
    }
   ],
   "source": [
    "dicta={}\n",
    "dicta[\"a\"]=input(\"enter a string ...comma separated  \").split(\",\")\n"
   ]
  },
  {
   "cell_type": "raw",
   "metadata": {},
   "source": [
    "11. X = [\"Feb\", Apr, Mar, May, Jun, Jul, Aug, Jan]. What will be output of following"
   ]
  },
  {
   "cell_type": "code",
   "execution_count": 22,
   "metadata": {},
   "outputs": [
    {
     "ename": "NameError",
     "evalue": "name 'apr' is not defined",
     "output_type": "error",
     "traceback": [
      "\u001b[1;31m---------------------------------------------------------------------------\u001b[0m",
      "\u001b[1;31mNameError\u001b[0m                                 Traceback (most recent call last)",
      "\u001b[1;32m<ipython-input-22-5b8c4b58f5e4>\u001b[0m in \u001b[0;36m<module>\u001b[1;34m\u001b[0m\n\u001b[1;32m----> 1\u001b[1;33m \u001b[0mX\u001b[0m\u001b[1;33m=\u001b[0m\u001b[1;33m[\u001b[0m\u001b[1;34m\"feb\"\u001b[0m\u001b[1;33m,\u001b[0m\u001b[0mapr\u001b[0m\u001b[1;33m,\u001b[0m\u001b[0mmar\u001b[0m\u001b[1;33m,\u001b[0m\u001b[0mmay\u001b[0m\u001b[1;33m,\u001b[0m\u001b[0mjun\u001b[0m\u001b[1;33m,\u001b[0m\u001b[0mjul\u001b[0m\u001b[1;33m,\u001b[0m\u001b[0maug\u001b[0m\u001b[1;33m,\u001b[0m\u001b[0mjan\u001b[0m\u001b[1;33m]\u001b[0m\u001b[1;33m\u001b[0m\u001b[1;33m\u001b[0m\u001b[0m\n\u001b[0m\u001b[0;32m      2\u001b[0m \u001b[0mX\u001b[0m\u001b[1;33m[\u001b[0m\u001b[1;36m0\u001b[0m\u001b[1;33m:\u001b[0m\u001b[1;36m3\u001b[0m\u001b[1;33m]\u001b[0m\u001b[1;33m\u001b[0m\u001b[1;33m\u001b[0m\u001b[0m\n",
      "\u001b[1;31mNameError\u001b[0m: name 'apr' is not defined"
     ]
    }
   ],
   "source": [
    "X=[\"feb\",apr,mar,may,jun,jul,aug,jan]\n",
    "X[0:3]     ## sir these r string so i used \" \" with them"
   ]
  },
  {
   "cell_type": "code",
   "execution_count": 23,
   "metadata": {},
   "outputs": [
    {
     "data": {
      "text/plain": [
       "['feb', 'apr', 'mar']"
      ]
     },
     "execution_count": 23,
     "metadata": {},
     "output_type": "execute_result"
    }
   ],
   "source": [
    "X=[\"feb\",\"apr\",\"mar\",\"may\",\"jun\",\"jul\",\"aug\",\"jan\"]\n",
    "X[0:3]"
   ]
  },
  {
   "cell_type": "code",
   "execution_count": 24,
   "metadata": {},
   "outputs": [
    {
     "data": {
      "text/plain": [
       "['mar', 'may', 'jun', 'jul', 'aug', 'jan']"
      ]
     },
     "execution_count": 24,
     "metadata": {},
     "output_type": "execute_result"
    }
   ],
   "source": [
    "X[2:8]"
   ]
  },
  {
   "cell_type": "code",
   "execution_count": 25,
   "metadata": {},
   "outputs": [
    {
     "data": {
      "text/plain": [
       "['jun', 'jul', 'aug', 'jan']"
      ]
     },
     "execution_count": 25,
     "metadata": {},
     "output_type": "execute_result"
    }
   ],
   "source": [
    "X[4:9]"
   ]
  },
  {
   "cell_type": "code",
   "execution_count": 28,
   "metadata": {},
   "outputs": [
    {
     "data": {
      "text/plain": [
       "['apr', 'may', 'jul']"
      ]
     },
     "execution_count": 28,
     "metadata": {},
     "output_type": "execute_result"
    }
   ],
   "source": [
    "X[1:7:2]"
   ]
  },
  {
   "cell_type": "code",
   "execution_count": 32,
   "metadata": {},
   "outputs": [
    {
     "data": {
      "text/plain": [
       "[]"
      ]
     },
     "execution_count": 32,
     "metadata": {},
     "output_type": "execute_result"
    }
   ],
   "source": [
    "X[-1:-7]"
   ]
  },
  {
   "cell_type": "code",
   "execution_count": 34,
   "metadata": {},
   "outputs": [
    {
     "data": {
      "text/plain": [
       "['apr', 'mar', 'may', 'jun', 'jul', 'aug']"
      ]
     },
     "execution_count": 34,
     "metadata": {},
     "output_type": "execute_result"
    }
   ],
   "source": [
    "X[-7:7]"
   ]
  },
  {
   "cell_type": "code",
   "execution_count": 35,
   "metadata": {},
   "outputs": [
    {
     "data": {
      "text/plain": [
       "[]"
      ]
     },
     "execution_count": 35,
     "metadata": {},
     "output_type": "execute_result"
    }
   ],
   "source": [
    "X[-1:-2:8]"
   ]
  },
  {
   "cell_type": "code",
   "execution_count": 36,
   "metadata": {},
   "outputs": [
    {
     "data": {
      "text/plain": [
       "['feb', 'apr', 'mar', 'may']"
      ]
     },
     "execution_count": 36,
     "metadata": {},
     "output_type": "execute_result"
    }
   ],
   "source": [
    "X[:4]"
   ]
  },
  {
   "cell_type": "raw",
   "metadata": {},
   "source": [
    "12. Remove the correct number from the list X \n",
    "X = [ 9,2,8,4,5] \n",
    "X__?__ \n",
    "print (X)\n",
    "Reason: c is the correct answer , as there is no\n",
    "        attribute of delete,rm to remove 9 from list"
   ]
  },
  {
   "cell_type": "code",
   "execution_count": 39,
   "metadata": {},
   "outputs": [
    {
     "name": "stdout",
     "output_type": "stream",
     "text": [
      "[2, 8, 4, 5]\n"
     ]
    }
   ],
   "source": [
    "x=[9,2,8,4,5]\n",
    "x.remove(9)\n",
    "print(x)"
   ]
  },
  {
   "cell_type": "raw",
   "metadata": {},
   "source": [
    "13.p = 3 \n",
    "      q = 'hello! ' \n",
    "      print( q __?__ p)  \n",
    "      hello! hello! hello!\n",
    "a\n",
    "Reason: int and str cant be added and ** means power\n",
    "        so only suitable option to get the value \n",
    "        printed 3 times is a."
   ]
  },
  {
   "cell_type": "code",
   "execution_count": 44,
   "metadata": {},
   "outputs": [
    {
     "name": "stdout",
     "output_type": "stream",
     "text": [
      "hello..!hello..!hello..!\n"
     ]
    }
   ],
   "source": [
    "p=3\n",
    "q='hello..!'\n",
    "print(q*p)"
   ]
  },
  {
   "cell_type": "raw",
   "metadata": {},
   "source": [
    "14. y = \"this is a random sentence\" \n",
    "print (y__?__)\n",
    "a\n",
    "Reason: capitalize() only makes first letter capital\n",
    "        and there isnt any method of upcase in str\n",
    "        so right answer is 1"
   ]
  },
  {
   "cell_type": "code",
   "execution_count": 48,
   "metadata": {},
   "outputs": [
    {
     "name": "stdout",
     "output_type": "stream",
     "text": [
      "THIS IS A RANDOM SENTENCE\n"
     ]
    }
   ],
   "source": [
    "y=\"this is a random sentence\"\n",
    "print(y.upper())"
   ]
  },
  {
   "cell_type": "raw",
   "metadata": {},
   "source": [
    "15.    p = True \n",
    "       q = ‘True’ \n",
    "       r = 2 \n",
    "       r = 2.0 \n",
    "print(type(p)) \n",
    "print(type(q)) \n",
    "print(type(r)) \n",
    "print(type(s)) "
   ]
  },
  {
   "cell_type": "code",
   "execution_count": 49,
   "metadata": {},
   "outputs": [
    {
     "name": "stdout",
     "output_type": "stream",
     "text": [
      "<class 'bool'>\n"
     ]
    }
   ],
   "source": [
    "p=True\n",
    "q='True'\n",
    "print(type(p))"
   ]
  },
  {
   "cell_type": "code",
   "execution_count": 50,
   "metadata": {},
   "outputs": [
    {
     "name": "stdout",
     "output_type": "stream",
     "text": [
      "<class 'str'>\n"
     ]
    }
   ],
   "source": [
    "print(type(q))"
   ]
  },
  {
   "cell_type": "code",
   "execution_count": 52,
   "metadata": {},
   "outputs": [
    {
     "name": "stdout",
     "output_type": "stream",
     "text": [
      "<class 'float'>\n"
     ]
    }
   ],
   "source": [
    "r=2\n",
    "r=2.0\n",
    "print(type(r))"
   ]
  },
  {
   "cell_type": "code",
   "execution_count": 53,
   "metadata": {},
   "outputs": [
    {
     "ename": "NameError",
     "evalue": "name 's' is not defined",
     "output_type": "error",
     "traceback": [
      "\u001b[1;31m---------------------------------------------------------------------------\u001b[0m",
      "\u001b[1;31mNameError\u001b[0m                                 Traceback (most recent call last)",
      "\u001b[1;32m<ipython-input-53-82eeee872432>\u001b[0m in \u001b[0;36m<module>\u001b[1;34m\u001b[0m\n\u001b[1;32m----> 1\u001b[1;33m \u001b[0mprint\u001b[0m\u001b[1;33m(\u001b[0m\u001b[0mtype\u001b[0m\u001b[1;33m(\u001b[0m\u001b[0ms\u001b[0m\u001b[1;33m)\u001b[0m\u001b[1;33m)\u001b[0m\u001b[1;33m\u001b[0m\u001b[1;33m\u001b[0m\u001b[0m\n\u001b[0m",
      "\u001b[1;31mNameError\u001b[0m: name 's' is not defined"
     ]
    }
   ],
   "source": [
    "print(type(s))"
   ]
  },
  {
   "cell_type": "raw",
   "metadata": {},
   "source": [
    "16.What are the optional arguments to the function? \n",
    "function_1(R1, q, p=None, R2= None) \n",
    "2\n",
    "Reason: p and r2 values r set to none but bcz of their being optional \n",
    "        user can assign any other value to it"
   ]
  },
  {
   "cell_type": "raw",
   "metadata": {},
   "source": [
    "17.Which command invokes method X() of the object p? \n",
    "4\n",
    "Reason: 4 is the correct option as its the way to call a function"
   ]
  },
  {
   "cell_type": "raw",
   "metadata": {},
   "source": [
    "18 X=4 , Y= 2 \n",
    "print(X % Y) \n",
    "print(X / Y) \n",
    "print(X // Y) \n",
    "print(Y % X) "
   ]
  },
  {
   "cell_type": "code",
   "execution_count": 54,
   "metadata": {},
   "outputs": [
    {
     "name": "stdout",
     "output_type": "stream",
     "text": [
      "0\n"
     ]
    }
   ],
   "source": [
    "x=4\n",
    "y=2\n",
    "print(x%y)"
   ]
  },
  {
   "cell_type": "code",
   "execution_count": 55,
   "metadata": {},
   "outputs": [
    {
     "name": "stdout",
     "output_type": "stream",
     "text": [
      "2.0\n"
     ]
    }
   ],
   "source": [
    "print(x/y)"
   ]
  },
  {
   "cell_type": "code",
   "execution_count": 56,
   "metadata": {},
   "outputs": [
    {
     "name": "stdout",
     "output_type": "stream",
     "text": [
      "2\n"
     ]
    }
   ],
   "source": [
    "print(x//y)"
   ]
  },
  {
   "cell_type": "code",
   "execution_count": 57,
   "metadata": {},
   "outputs": [
    {
     "name": "stdout",
     "output_type": "stream",
     "text": [
      "2\n"
     ]
    }
   ],
   "source": [
    "print(y%x)"
   ]
  },
  {
   "cell_type": "raw",
   "metadata": {},
   "source": [
    "19.. x = [[4, 1, 1], [5, 9, 0]] \n",
    " for i in __?__:                                            *\n",
    "     for j in  __?__: "
   ]
  },
  {
   "cell_type": "raw",
   "metadata": {},
   "source": [
    "x=[[4,1,1],[5,9,0]]\n",
    "for i in range(len(x):\n",
    "    for j in i:\n",
    "        print(i)\n",
    "        print(j)"
   ]
  },
  {
   "cell_type": "code",
   "execution_count": null,
   "metadata": {},
   "outputs": [],
   "source": [
    "x = [[4, 1, 1], [5, 9, 0]]                               *\n",
    " for i in __?__: \n",
    "        for j in  __?__: "
   ]
  },
  {
   "cell_type": "code",
   "execution_count": null,
   "metadata": {},
   "outputs": [],
   "source": [
    "x = [[4, 1, 1], [5, 9, 0]] \n",
    " for i in __?__: \n",
    "    for j in  __?__:                                   *\n",
    "        ? \n",
    " #Output:  4 1 1 5 9 0 "
   ]
  },
  {
   "cell_type": "code",
   "execution_count": null,
   "metadata": {},
   "outputs": [],
   "source": [
    "\n",
    "x = [[4, 1, 1], [5, 9, 0]]\n",
    "for i in x:\n",
    "    for j in i:                                                  *\n",
    "        print(j, end=\"\\t\")\n",
    "#Output: 4     1     1     5     9     0"
   ]
  },
  {
   "cell_type": "code",
   "execution_count": null,
   "metadata": {},
   "outputs": [],
   "source": [
    "x = [[4, 1, 1], [5, 9, 0]] \n",
    " for i in __?__: \n",
    "    for j in  __?__: \n",
    "        ? \n",
    " #Output:  4 1 1                                          *\n",
    "   5 9 0"
   ]
  },
  {
   "cell_type": "code",
   "execution_count": null,
   "metadata": {},
   "outputs": [],
   "source": [
    "\n",
    "x = [[4, 1, 1], [5, 9, 0]]\n",
    "for i in x:                                          *\n",
    "    for j in i:\n",
    "        print(j, end=\"\\t\")\n",
    "    print()\n",
    "#Output: 4    1    1\n",
    "#5    9    0"
   ]
  },
  {
   "cell_type": "raw",
   "metadata": {},
   "source": [
    "20.q = [10.62, 16.14, 6.45, 17.11] \n",
    " for __?__, z in enumerate (q) : \n",
    "     print( ‘Item ‘ + str( j ) + ‘  - ‘, str ( z )) \n",
    "3\n",
    "Reason: j is the right option"
   ]
  },
  {
   "cell_type": "code",
   "execution_count": 59,
   "metadata": {},
   "outputs": [
    {
     "name": "stdout",
     "output_type": "stream",
     "text": [
      "item 0- 10.62\n",
      "item 1- 16.14\n",
      "item 2- 6.45\n",
      "item 3- 17.11\n"
     ]
    }
   ],
   "source": [
    "q=[10.62,16.14,6.45,17.11]\n",
    "for j , z in enumerate(q):\n",
    "    print('item ' + str(j) + '-' , str(z))"
   ]
  },
  {
   "cell_type": "raw",
   "metadata": {},
   "source": [
    "21.Which of these about a dictionary is false?\n",
    "b \n",
    "Reason: the keys cant be get from the values in a dictionary \n",
    "        so its wrong about dictionary"
   ]
  },
  {
   "cell_type": "raw",
   "metadata": {},
   "source": [
    "22.What is the output of the following: \n",
    "D = dict()  \n",
    "for i in range (3):  \n",
    "    for j in range(2):                               *\n",
    "        D[i] = j \n",
    "a"
   ]
  },
  {
   "cell_type": "code",
   "execution_count": 66,
   "metadata": {},
   "outputs": [],
   "source": [
    "d={}\n",
    "for i in range(3):\n",
    "    for j in range(2):\n",
    "        d[i]=j"
   ]
  },
  {
   "cell_type": "code",
   "execution_count": 67,
   "metadata": {},
   "outputs": [
    {
     "name": "stdout",
     "output_type": "stream",
     "text": [
      "{0: 1, 1: 1, 2: 1}\n"
     ]
    }
   ],
   "source": [
    "print(d)"
   ]
  },
  {
   "cell_type": "raw",
   "metadata": {},
   "source": [
    "23.You are writing a function that increments player score in a soccer game \n",
    "  If no value is specified for points, then point must start with 1 \n",
    "  If no value is specified for bonus, then bonus should be True \n",
    "  01   def increment_score ( bonus , score , points ):                                      *\n",
    "  To meet the first requirement line 01 must be change to \n",
    " def increment_score ( bonus , score , points = 1 ):           (True or False) \n",
    "To meet the second requirement line 01 must be change to \n",
    " def increment_score ( bonus = True , score , points = 1 ):   (True or False) \n",
    " Once a parameter is defined with default value, any parameter to the right must also be defined with default values       (True or False) "
   ]
  },
  {
   "cell_type": "code",
   "execution_count": null,
   "metadata": {},
   "outputs": [],
   "source": []
  },
  {
   "cell_type": "raw",
   "metadata": {},
   "source": [
    "24. What will be output? \n",
    "  def avg ( x , y , z = 50 ): \n",
    " adding = x + y + z \n",
    " avg_value = adding / 3 \n",
    " return avg_value \n",
    "  y = avg ( x = 5 , y = 9 , z = 20 ) \n",
    "  print(y)\n",
    "  \n",
    "10.6666\n",
    "Reason: the function used the value sent as argument\n",
    "        if there wasnt these then optional arguments \n",
    "        would have been used."
   ]
  },
  {
   "cell_type": "raw",
   "metadata": {},
   "source": [
    "25.What will be output? Describe it with reason and logic behind. Do multiple experiments with arguments / parameters to remove error, if occurs. \n",
    "def avg ( *opt_values , name ):                             \n",
    "                                                                     *\n",
    " avg_value = sum (opt_values) / len(opt_values) \n",
    " print(‘name is: ’ + name + ‘Marks: ’ + str(avg_value)) \n",
    "avg ( 5 , 9 , 20, 34, 87, 112 , ‘Ali’ ) "
   ]
  },
  {
   "cell_type": "code",
   "execution_count": null,
   "metadata": {},
   "outputs": [],
   "source": [
    "#name is: AliMarks: 44.5"
   ]
  },
  {
   "cell_type": "raw",
   "metadata": {},
   "source": [
    "26.Final output is not required. Just take copy pencil, think and write the output of each line, write down the link between parameters and arguments. Remove one or two ** from other_info and observe the ouput. \n",
    "def display_result(winner, score, **other_info): \n",
    " print(\"The winner was \" + winner)                                                        *\n",
    " print(\"The score was \" + score) \n",
    "  display_result(winner=“Manchester\", score=\"1-0\", overtime =\"yes\", injuries=\"none\") "
   ]
  },
  {
   "cell_type": "code",
   "execution_count": 4,
   "metadata": {},
   "outputs": [
    {
     "name": "stdout",
     "output_type": "stream",
     "text": [
      "The winner was Manchester\n",
      "The score was 1-0\n",
      "{'overtime': 'yes', 'injuries': 'none'}\n"
     ]
    }
   ],
   "source": [
    "def display_result(winner, score, **other_info): #** converts the parametes into dict as shown below\n",
    "    print(\"The winner was \" + winner)\n",
    "    print(\"The score was \" + score)\n",
    "    print(other_info)\n",
    "display_result(winner=\"Manchester\", score=\"1-0\", overtime =\"yes\", injuries=\"none\")"
   ]
  },
  {
   "cell_type": "raw",
   "metadata": {},
   "source": [
    "27.The position of parameters and arguments is re-arranged. Just think and find the logic behind output or error. \n",
    "def display_result(winner, **other_info, score): \n",
    " print(\"The winner was \" + winner)                                                *\n",
    " print(\"The score was \" + score) \n",
    "display_result(winner=“Manchester\", overtime =\"yes\", injuries=\"none“ , score=\"1-0“ )  "
   ]
  },
  {
   "cell_type": "code",
   "execution_count": 3,
   "metadata": {},
   "outputs": [
    {
     "name": "stdout",
     "output_type": "stream",
     "text": [
      "The winner was Manchester\n",
      "The score was 1-0\n"
     ]
    }
   ],
   "source": [
    "\n",
    "def display_result(winner,score, **other_info):\n",
    "    #**other_info should be in the end so dict could be made from ramining arguments\n",
    "    print(\"The winner was \" + winner)\n",
    "    print(\"The score was \" + score)\n",
    "display_result(winner=\"Manchester\", overtime =\"yes\", injuries=\"none\" , score=\"1-0\")"
   ]
  },
  {
   "cell_type": "raw",
   "metadata": {},
   "source": [
    "28. What will be the output of the following Python expression if X=123? \n",
    " \n",
    "print(“%06d”%X)                             *"
   ]
  },
  {
   "cell_type": "code",
   "execution_count": 70,
   "metadata": {},
   "outputs": [
    {
     "name": "stdout",
     "output_type": "stream",
     "text": [
      "000123\n"
     ]
    }
   ],
   "source": [
    "x=123\n",
    "print(\"%06d\"%x)                                         *"
   ]
  },
  {
   "cell_type": "raw",
   "metadata": {},
   "source": [
    "29.What will be the output of the following Python expression if x=22.19? \n",
    "print(\"%5.2f\"%x)"
   ]
  },
  {
   "cell_type": "code",
   "execution_count": 73,
   "metadata": {},
   "outputs": [
    {
     "name": "stdout",
     "output_type": "stream",
     "text": [
      "22.19\n"
     ]
    }
   ],
   "source": [
    "x=22.19\n",
    "print(\"%5.2f\"%x)                                         *"
   ]
  },
  {
   "cell_type": "raw",
   "metadata": {},
   "source": [
    "30.What will be the output of the following Python code? \n",
    "'{0:f}, {1:2f}, {2:05.2f}'.format(1.23456, 1.23456, 1.23456)                                   *"
   ]
  },
  {
   "cell_type": "code",
   "execution_count": null,
   "metadata": {},
   "outputs": [],
   "source": [
    "'1.234560, 1.234560, 01.23'"
   ]
  },
  {
   "cell_type": "raw",
   "metadata": {},
   "source": [
    "31.. Write down the output of each line after each iterations. Do multiple experiments to change values \n",
    "i = 1 \n",
    "while False: \n",
    "    if i%2 == 0: \n",
    "        break                                    *\n",
    "    print(i) \n",
    "    i += 2 "
   ]
  },
  {
   "cell_type": "code",
   "execution_count": null,
   "metadata": {},
   "outputs": [],
   "source": []
  },
  {
   "cell_type": "raw",
   "metadata": {},
   "source": [
    "32.Write down the output of each line after each iterations. Do multiple experiments to change values \n",
    "x = \"abcdef\" \n",
    "i = \"a\"                       *\n",
    "while i in x: \n",
    "    x = x[:-1] \n",
    "    print(i, end = \" \")"
   ]
  },
  {
   "cell_type": "code",
   "execution_count": null,
   "metadata": {},
   "outputs": [],
   "source": [
    "d\n",
    "c\n",
    "b\n",
    "a\n",
    "\n",
    "\n",
    "\n",
    "'d c b a'"
   ]
  },
  {
   "cell_type": "raw",
   "metadata": {},
   "source": [
    "33.Write down the output of each line after each iterations. Do multiple experiments to change values \n",
    "for i in ''.join(reversed(list('abcd'))):                       *\n",
    "    print (i)"
   ]
  },
  {
   "cell_type": "code",
   "execution_count": null,
   "metadata": {},
   "outputs": [],
   "source": []
  },
  {
   "cell_type": "code",
   "execution_count": null,
   "metadata": {},
   "outputs": [],
   "source": [
    "34.Flow of the program. Write the output of each line after every iteration of ‘i’ \n",
    "for i in range(10): \n",
    "    if i == 5: \n",
    "        break \n",
    "    else: \n",
    "        print(i) \n",
    "else: \n",
    "    print(\"Here\") "
   ]
  },
  {
   "cell_type": "code",
   "execution_count": null,
   "metadata": {},
   "outputs": [],
   "source": [
    "#0\n",
    "#1\n",
    "#2\n",
    "#3\n",
    "#4"
   ]
  },
  {
   "cell_type": "code",
   "execution_count": null,
   "metadata": {},
   "outputs": [],
   "source": [
    "35.What is the output? And understand the functionality of lambda function \n",
    "y = 6 \n",
    "z = lambda x: x * y \n",
    "print z(8)"
   ]
  },
  {
   "cell_type": "code",
   "execution_count": null,
   "metadata": {},
   "outputs": [],
   "source": [
    "48"
   ]
  },
  {
   "cell_type": "code",
   "execution_count": null,
   "metadata": {},
   "outputs": [],
   "source": [
    "36.Write output and give proper logic of whatever the output comes. \n",
    "i=0 \n",
    "def change(i): \n",
    "   i=i+1 \n",
    "   return i \n",
    "change(1) \n",
    "print(i)"
   ]
  },
  {
   "cell_type": "code",
   "execution_count": null,
   "metadata": {},
   "outputs": [],
   "source": [
    "<class 'tuple'>\n",
    "(2, 3, 4)"
   ]
  },
  {
   "cell_type": "code",
   "execution_count": null,
   "metadata": {},
   "outputs": [],
   "source": [
    "40.What will be output? Define this output clearly \n",
    "def change(one, *two):                               *\n",
    "   print(type(two)) \n",
    "   print(two) \n",
    "change(1,2,3,4)"
   ]
  },
  {
   "cell_type": "code",
   "execution_count": null,
   "metadata": {},
   "outputs": [],
   "source": []
  },
  {
   "cell_type": "code",
   "execution_count": null,
   "metadata": {},
   "outputs": [],
   "source": [
    "41.What will be output? Define this output clearly \n",
    "def find(a, **b): \n",
    "   print(type(b))                                        *\n",
    "find('letters',A='1',B='2') "
   ]
  },
  {
   "cell_type": "code",
   "execution_count": null,
   "metadata": {},
   "outputs": [],
   "source": [
    "<class 'dict'>"
   ]
  },
  {
   "cell_type": "code",
   "execution_count": null,
   "metadata": {},
   "outputs": [],
   "source": [
    "42.Write output and define each line’s output for each iteration of ‘i’ "
   ]
  },
  {
   "cell_type": "code",
   "execution_count": 2,
   "metadata": {},
   "outputs": [
    {
     "name": "stdout",
     "output_type": "stream",
     "text": [
      "[0]\n",
      "[0, 1]\n",
      "[0, 1, 2]\n"
     ]
    }
   ],
   "source": [
    "def foo(i, x=[]):                            *\n",
    "    x.append(i)\n",
    "    return x\n",
    "for i in range(3): \n",
    "    print(foo(i))\n"
   ]
  },
  {
   "cell_type": "code",
   "execution_count": null,
   "metadata": {},
   "outputs": [],
   "source": [
    "43.Evaluate the following Python arithmetic expression: \n",
    "    and write which segment will execute first? \n",
    "    (Brackets, Exponents, Multiplication, Addition / Subtraction, Left to right rule) "
   ]
  },
  {
   "cell_type": "code",
   "execution_count": null,
   "metadata": {},
   "outputs": [],
   "source": [
    "(3*(1+2)**2-(2**2)*3)\n",
    "#(3*(3)**2-(4)*3)\n",
    "#(3*9-12)\n",
    "#(27-12)\n",
    "#(15)"
   ]
  },
  {
   "cell_type": "code",
   "execution_count": null,
   "metadata": {},
   "outputs": [],
   "source": [
    "44.You are creating a function that manipulates a number. The function has the following requirements: \n",
    " A float is passed into the function \n",
    " The function must take the absolute value of the float  \n",
    " Any decimal points after the integer must be removed"
   ]
  },
  {
   "cell_type": "code",
   "execution_count": null,
   "metadata": {},
   "outputs": [],
   "source": [
    "def abcd(a):\n",
    "    z = int(abs(a))\n",
    "    print(z)\n",
    "abcd(7.233)"
   ]
  },
  {
   "cell_type": "code",
   "execution_count": null,
   "metadata": {},
   "outputs": [],
   "source": [
    "45.You are writing code that generates a random integer with a minimum value of 5 and a maximum value of 11. \n",
    "Which two functions should you use? Each correct answer presents a complete solution. (Choose two.) \n",
    "A. random.randint(5, 12) \n",
    "B. random.randint(5, 11) \n",
    "C. random.randrange(5, 12, 1) \n",
    "D. random.randrange(5, 11, 1)              *"
   ]
  },
  {
   "cell_type": "code",
   "execution_count": null,
   "metadata": {},
   "outputs": [],
   "source": []
  },
  {
   "cell_type": "raw",
   "metadata": {},
   "source": [
    "46.Write a program that receives marks from user and check the grade. \n",
    "  Marks greater than equal to 90 then A grade \n",
    "  Marks between 80 to 90, B grade \n",
    "  Marks between 70 to 80, C grade \n",
    "  Marks between 60 to 70, D grade \n",
    "  Marks less than equal to 60 then E grade"
   ]
  },
  {
   "cell_type": "code",
   "execution_count": 1,
   "metadata": {},
   "outputs": [
    {
     "name": "stdout",
     "output_type": "stream",
     "text": [
      "enter marks: 66\n",
      "D\n"
     ]
    }
   ],
   "source": [
    "marks = int(input(\"enter marks: \"))\n",
    "if marks >= 90:\n",
    "    g = \"A\"\n",
    "elif marks >= 80:\n",
    "    g = \"B\"\n",
    "elif marks >= 70:\n",
    "    g = \"C\"\n",
    "elif marks > 60:\n",
    "    g = \"D\"\n",
    "elif marks <= 60:\n",
    "    g = \"E\"\n",
    "print(g)"
   ]
  },
  {
   "cell_type": "code",
   "execution_count": null,
   "metadata": {},
   "outputs": [],
   "source": []
  }
 ],
 "metadata": {
  "kernelspec": {
   "display_name": "Python 3",
   "language": "python",
   "name": "python3"
  },
  "language_info": {
   "codemirror_mode": {
    "name": "ipython",
    "version": 3
   },
   "file_extension": ".py",
   "mimetype": "text/x-python",
   "name": "python",
   "nbconvert_exporter": "python",
   "pygments_lexer": "ipython3",
   "version": "3.7.3"
  }
 },
 "nbformat": 4,
 "nbformat_minor": 2
}
