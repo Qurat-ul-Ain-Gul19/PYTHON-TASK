{
 "cells": [
  {
   "cell_type": "code",
   "execution_count": 4,
   "metadata": {},
   "outputs": [
    {
     "name": "stdout",
     "output_type": "stream",
     "text": [
      "Simba khalid\n"
     ]
    }
   ],
   "source": [
    "name = \"simba Khalid\"\n",
    "print(name.capitalize())"
   ]
  },
  {
   "cell_type": "code",
   "execution_count": 5,
   "metadata": {},
   "outputs": [
    {
     "name": "stdout",
     "output_type": "stream",
     "text": [
      "mubashar sultan\n"
     ]
    }
   ],
   "source": [
    "name = \"muBASHar sulTAN\"\n",
    "print(name.casefold())"
   ]
  },
  {
   "cell_type": "code",
   "execution_count": 8,
   "metadata": {},
   "outputs": [
    {
     "name": "stdout",
     "output_type": "stream",
     "text": [
      "                              I LOVE ARITFICIAL INTELLIGENCE                              \n"
     ]
    }
   ],
   "source": [
    "string = \"I LOVE ARITFICIAL INTELLIGENCE\"\n",
    "print(string.center(90))"
   ]
  },
  {
   "cell_type": "code",
   "execution_count": 13,
   "metadata": {},
   "outputs": [
    {
     "name": "stdout",
     "output_type": "stream",
     "text": [
      "************************************ AI IS MY JANOON *************************************\n"
     ]
    }
   ],
   "source": [
    "string  = \" AI IS MY JANOON \"\n",
    "print(string.center(90,'*'))"
   ]
  },
  {
   "cell_type": "code",
   "execution_count": 18,
   "metadata": {},
   "outputs": [
    {
     "name": "stdout",
     "output_type": "stream",
     "text": [
      "janoon se aur ishq se milte aa aazadi\n",
      "2\n",
      "3\n"
     ]
    }
   ],
   "source": [
    "print(\"janoon se aur ishq se milte aa aazadi\")\n",
    "x = \"janoon se aur ishq se milte aa aazadi\"\n",
    "print(x.count(\"o\"))\n",
    "print(x.count(\"a\",2,30))"
   ]
  },
  {
   "cell_type": "code",
   "execution_count": 19,
   "metadata": {},
   "outputs": [
    {
     "name": "stdout",
     "output_type": "stream",
     "text": [
      "b'hayat'\n"
     ]
    }
   ],
   "source": [
    "string  = \"hayat\"\n",
    "print(string.encode())"
   ]
  },
  {
   "cell_type": "code",
   "execution_count": 20,
   "metadata": {},
   "outputs": [
    {
     "name": "stdout",
     "output_type": "stream",
     "text": [
      "True\n"
     ]
    }
   ],
   "source": [
    "string = \"every night in my dream , i see you\"\n",
    "print(string.endswith(\"you\"))"
   ]
  },
  {
   "cell_type": "code",
   "execution_count": 21,
   "metadata": {},
   "outputs": [
    {
     "name": "stdout",
     "output_type": "stream",
     "text": [
      "False\n"
     ]
    }
   ],
   "source": [
    "print(string.endswith(\"i feel you\"))"
   ]
  },
  {
   "cell_type": "code",
   "execution_count": 24,
   "metadata": {},
   "outputs": [
    {
     "name": "stdout",
     "output_type": "stream",
     "text": [
      "True\n"
     ]
    }
   ],
   "source": [
    "print(string.endswith(\"i see you\",10,70))"
   ]
  },
  {
   "cell_type": "code",
   "execution_count": 31,
   "metadata": {},
   "outputs": [
    {
     "name": "stdout",
     "output_type": "stream",
     "text": [
      "1\n",
      "-1\n"
     ]
    }
   ],
   "source": [
    "x = \" Anie.... let's go for the dinner\"\n",
    "print(x.find(\"Anie\"))\n",
    "print(x.find(\"go\",50,70))"
   ]
  },
  {
   "cell_type": "code",
   "execution_count": 38,
   "metadata": {},
   "outputs": [
    {
     "name": "stdout",
     "output_type": "stream",
     "text": [
      "mubashir is MS...! my these days\n"
     ]
    }
   ],
   "source": [
    "print(\"{} is {} my these days\".format(\"mubashir\",\"MS...!\"))"
   ]
  },
  {
   "cell_type": "code",
   "execution_count": 35,
   "metadata": {},
   "outputs": [
    {
     "name": "stdout",
     "output_type": "stream",
     "text": [
      "hurrah....! MS has become my very good sahele\n"
     ]
    }
   ],
   "source": [
    "print(\"hurrah....! {} has become my very good sahele\".format(\"MS\"))"
   ]
  },
  {
   "cell_type": "code",
   "execution_count": 36,
   "metadata": {},
   "outputs": [
    {
     "name": "stdout",
     "output_type": "stream",
     "text": [
      "MS you  are a jin\n"
     ]
    }
   ],
   "source": [
    "print(\"{0} you  are a {1}\".format(\"MS\",\"jin\"))"
   ]
  },
  {
   "cell_type": "code",
   "execution_count": 37,
   "metadata": {},
   "outputs": [
    {
     "name": "stdout",
     "output_type": "stream",
     "text": [
      "jin you  are a MS\n"
     ]
    }
   ],
   "source": [
    "print(\"{1} you  are a {0}\".format(\"MS\",\"jin\"))"
   ]
  },
  {
   "cell_type": "code",
   "execution_count": 42,
   "metadata": {},
   "outputs": [
    {
     "name": "stdout",
     "output_type": "stream",
     "text": [
      "a,b\n"
     ]
    }
   ],
   "source": [
    "point = {'a':1,'b':2}\n",
    "print('{},{}'.format(*point))"
   ]
  },
  {
   "cell_type": "code",
   "execution_count": null,
   "metadata": {},
   "outputs": [],
   "source": []
  }
 ],
 "metadata": {
  "kernelspec": {
   "display_name": "Python 3",
   "language": "python",
   "name": "python3"
  },
  "language_info": {
   "codemirror_mode": {
    "name": "ipython",
    "version": 3
   },
   "file_extension": ".py",
   "mimetype": "text/x-python",
   "name": "python",
   "nbconvert_exporter": "python",
   "pygments_lexer": "ipython3",
   "version": "3.7.3"
  }
 },
 "nbformat": 4,
 "nbformat_minor": 2
}
