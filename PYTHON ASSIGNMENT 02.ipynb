{
 "cells": [
  {
   "cell_type": "code",
   "execution_count": 2,
   "metadata": {},
   "outputs": [
    {
     "name": "stdout",
     "output_type": "stream",
     "text": [
      "enter any number-2\n",
      "This is a negative number\n"
     ]
    }
   ],
   "source": [
    "x = int(input(\"enter any number\"))\n",
    "if x<0:\n",
    "    print(\"This is a negative number\")\n",
    "else:\n",
    "    print(\"This is a positive number\")\n",
    "    "
   ]
  },
  {
   "cell_type": "code",
   "execution_count": 16,
   "metadata": {},
   "outputs": [
    {
     "name": "stdout",
     "output_type": "stream",
     "text": [
      "enter the marks of five subjects,out of 50:10\n",
      "enter the marks of five subjects,out of 50:10\n",
      "enter the marks of five subjects,out of 50:10\n",
      "enter the marks of five subjects,out of 50:10\n",
      "enter the marks of five subjects,out of 50:10\n",
      "The sum is: 50\n",
      "The average is 10.0\n",
      "100.0\n",
      "A GRADE\n"
     ]
    }
   ],
   "source": [
    "i=1\n",
    "sum=0\n",
    "while i<=5:\n",
    "    x=int(input(\"enter the marks of five subjects,out of 50:\"))\n",
    "    i+=1\n",
    "    sum=sum+x\n",
    "print(f\"The sum is:\",sum)\n",
    "average=sum/5\n",
    "print(\"The average is\",average)\n",
    "percent=(sum/50)*100\n",
    "print(percent)\n",
    "if percent>=80:\n",
    "    print(\"A GRADE\")\n",
    "elif percent>=60:\n",
    "    print(\"B GRADE\")\n",
    "elif percent>=40:\n",
    "    print(\"C GRADE\")\n",
    "else:\n",
    "    print(\"FAIL\")\n"
   ]
  },
  {
   "cell_type": "code",
   "execution_count": 18,
   "metadata": {},
   "outputs": [
    {
     "name": "stdout",
     "output_type": "stream",
     "text": [
      "30\n",
      "6\n",
      "The quotient of these two no is 5.0\n",
      "The remainder of these two no is 0\n"
     ]
    }
   ],
   "source": [
    "x=int(input())\n",
    "y=int((input()))\n",
    "print(\"The quotient of these two no is\",x/y)\n",
    "print(\"The remainder of these two no is\",x%y)"
   ]
  },
  {
   "cell_type": "code",
   "execution_count": 22,
   "metadata": {},
   "outputs": [
    {
     "name": "stdout",
     "output_type": "stream",
     "text": [
      "the no except divisible by 3 or 5 are 1\n",
      "the no except divisible by 3 or 5 are 2\n",
      "the no except divisible by 3 or 5 are 4\n",
      "the no except divisible by 3 or 5 are 7\n",
      "the no except divisible by 3 or 5 are 8\n",
      "the no except divisible by 3 or 5 are 11\n",
      "the no except divisible by 3 or 5 are 13\n",
      "the no except divisible by 3 or 5 are 14\n",
      "the no except divisible by 3 or 5 are 16\n",
      "the no except divisible by 3 or 5 are 17\n",
      "the no except divisible by 3 or 5 are 19\n",
      "the no except divisible by 3 or 5 are 22\n",
      "the no except divisible by 3 or 5 are 23\n",
      "the no except divisible by 3 or 5 are 26\n",
      "the no except divisible by 3 or 5 are 28\n",
      "the no except divisible by 3 or 5 are 29\n",
      "the no except divisible by 3 or 5 are 31\n",
      "the no except divisible by 3 or 5 are 32\n",
      "the no except divisible by 3 or 5 are 34\n",
      "the no except divisible by 3 or 5 are 37\n",
      "the no except divisible by 3 or 5 are 38\n",
      "the no except divisible by 3 or 5 are 41\n",
      "the no except divisible by 3 or 5 are 43\n",
      "the no except divisible by 3 or 5 are 44\n",
      "the no except divisible by 3 or 5 are 46\n",
      "the no except divisible by 3 or 5 are 47\n",
      "the no except divisible by 3 or 5 are 49\n",
      "the no except divisible by 3 or 5 are 52\n",
      "the no except divisible by 3 or 5 are 53\n",
      "the no except divisible by 3 or 5 are 56\n",
      "the no except divisible by 3 or 5 are 58\n",
      "the no except divisible by 3 or 5 are 59\n",
      "the no except divisible by 3 or 5 are 61\n",
      "the no except divisible by 3 or 5 are 62\n",
      "the no except divisible by 3 or 5 are 64\n",
      "the no except divisible by 3 or 5 are 67\n",
      "the no except divisible by 3 or 5 are 68\n",
      "the no except divisible by 3 or 5 are 71\n",
      "the no except divisible by 3 or 5 are 73\n",
      "the no except divisible by 3 or 5 are 74\n",
      "the no except divisible by 3 or 5 are 76\n",
      "the no except divisible by 3 or 5 are 77\n",
      "the no except divisible by 3 or 5 are 79\n",
      "the no except divisible by 3 or 5 are 82\n",
      "the no except divisible by 3 or 5 are 83\n",
      "the no except divisible by 3 or 5 are 86\n",
      "the no except divisible by 3 or 5 are 88\n",
      "the no except divisible by 3 or 5 are 89\n",
      "the no except divisible by 3 or 5 are 91\n",
      "the no except divisible by 3 or 5 are 92\n",
      "the no except divisible by 3 or 5 are 94\n",
      "the no except divisible by 3 or 5 are 97\n",
      "the no except divisible by 3 or 5 are 98\n"
     ]
    }
   ],
   "source": [
    "for i in range(0,100,1):\n",
    "    if i%3==0 or i%5==0:\n",
    "        continue\n",
    "    else:\n",
    "        print(\"the no except divisible by 3 or 5 are\",i)"
   ]
  },
  {
   "cell_type": "code",
   "execution_count": null,
   "metadata": {},
   "outputs": [],
   "source": []
  }
 ],
 "metadata": {
  "kernelspec": {
   "display_name": "Python 3",
   "language": "python",
   "name": "python3"
  },
  "language_info": {
   "codemirror_mode": {
    "name": "ipython",
    "version": 3
   },
   "file_extension": ".py",
   "mimetype": "text/x-python",
   "name": "python",
   "nbconvert_exporter": "python",
   "pygments_lexer": "ipython3",
   "version": "3.7.3"
  }
 },
 "nbformat": 4,
 "nbformat_minor": 2
}
